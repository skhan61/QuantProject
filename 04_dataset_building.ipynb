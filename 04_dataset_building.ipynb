{
 "cells": [
  {
   "cell_type": "markdown",
   "metadata": {},
   "source": [
    "##### Imports"
   ]
  },
  {
   "cell_type": "code",
   "execution_count": 1,
   "metadata": {},
   "outputs": [],
   "source": [
    "import warnings\n",
    "import pandas as pd\n",
    "warnings.filterwarnings('ignore')\n",
    "\n",
    "pd.set_option('display.max_columns', 1000)\n",
    "pd.set_option('display.max_rows', 1000)"
   ]
  },
  {
   "cell_type": "code",
   "execution_count": 2,
   "metadata": {},
   "outputs": [],
   "source": [
    "%matplotlib inline\n",
    "\n",
    "import numpy as np\n",
    "import pandas as pd\n",
    "from sklearn.feature_selection \\\n",
    "        import mutual_info_regression\n",
    "        \n",
    "from scipy.stats import spearmanr\n",
    "import matplotlib.pyplot as plt\n",
    "import seaborn as sns\n",
    "from pathlib import Path"
   ]
  },
  {
   "cell_type": "code",
   "execution_count": 3,
   "metadata": {},
   "outputs": [],
   "source": [
    "from pathlib import Path\n",
    "import pandas as pd\n",
    "from filelock import FileLock\n",
    "\n",
    "# Define the path\n",
    "DATA_STORE = Path('/home/sayem/Desktop/Project/data/assets.h5')\n",
    "lock_path = \"/tmp/assets_h5_file.lock\"  # Lock path\n",
    "\n",
    "# Lock the file and retrieve the data\n",
    "with FileLock(lock_path):\n",
    "    with pd.HDFStore(DATA_STORE) as store:\n",
    "        alpha_101_data_full = store['factors/alpha_101']\n",
    "        common_data_full = store['factors/common']\n",
    "\n",
    "# Filter the data using pandas operations\n",
    "start_date = '2018-01-01'\n",
    "end_date = '2023-07-31'\n",
    "\n",
    "alpha_101_data = alpha_101_data_full.loc[\n",
    "    (alpha_101_data_full.index.get_level_values(\"date\") >= start_date) &\n",
    "    (alpha_101_data_full.index.get_level_values(\"date\") <= end_date)\n",
    "]\n",
    "\n",
    "common_data = common_data_full.loc[\n",
    "    (common_data_full.index.get_level_values(\"date\") >= start_date) &\n",
    "    (common_data_full.index.get_level_values(\"date\") <= end_date)\n",
    "]\n",
    "\n",
    "\n",
    "del alpha_101_data_full\n",
    "del common_data_full"
   ]
  },
  {
   "cell_type": "code",
   "execution_count": 4,
   "metadata": {},
   "outputs": [
    {
     "name": "stdout",
     "output_type": "stream",
     "text": [
      "Shape of the final combined data: (8644608, 613)\n",
      "Processing completed.\n"
     ]
    }
   ],
   "source": [
    "# Prepare an empty list to collect processed chunks\n",
    "processed_data_list = []\n",
    "\n",
    "# Given that `common_data` is the larger DataFrame, we'll chunk through that.\n",
    "# Define a chunk size based on your system's memory; you can adjust it as needed.\n",
    "CHUNK_SIZE = 100000\n",
    "\n",
    "# Create function to chunk through DataFrame\n",
    "def chunker(seq, size):\n",
    "    return (seq[pos: pos + size] for pos in range(0, len(seq), size))\n",
    "\n",
    "# Chunk through `common_data` based on the index\n",
    "for start in range(0, common_data.shape[0], CHUNK_SIZE):\n",
    "    end = start + CHUNK_SIZE\n",
    "    \n",
    "    # Selecting the current chunk\n",
    "    common_data_chunk = common_data.iloc[start:end]\n",
    "    \n",
    "    # Extract unique tickers and dates from the current chunk\n",
    "    tickers_in_chunk = common_data_chunk.index.get_level_values('ticker').unique()\n",
    "    dates_in_chunk = common_data_chunk.index.get_level_values('date').unique()\n",
    "    \n",
    "    # Filter alpha_101_data based on tickers and dates in the current chunk\n",
    "    filtered_alpha_101_data = alpha_101_data[\n",
    "        alpha_101_data.index.get_level_values('ticker').isin(tickers_in_chunk) &\n",
    "        alpha_101_data.index.get_level_values('date').isin(dates_in_chunk)\n",
    "    ]\n",
    "    \n",
    "    # Merge current chunk with filtered alpha_101_data\n",
    "    merged_chunk = common_data_chunk.merge(\n",
    "        filtered_alpha_101_data, left_index=True, right_index=True, how='inner', suffixes=('', '_y')\n",
    "    )\n",
    "\n",
    "    # Drop any columns that end with \"_y\" suffix and \"_x\" (just in case, though \"_x\" might not appear in this context)\n",
    "    merged_chunk = merged_chunk.drop(columns=[col for col in merged_chunk if col.endswith(('_y', '_x'))])\n",
    "\n",
    "    processed_data_list.append(merged_chunk)\n",
    "\n",
    "# Concatenate all processed chunks\n",
    "final_data = pd.concat(processed_data_list)\n",
    "\n",
    "print(f\"Shape of the final combined data: {final_data.shape}\")\n",
    "print(\"Processing completed.\")\n"
   ]
  },
  {
   "cell_type": "code",
   "execution_count": 5,
   "metadata": {},
   "outputs": [
    {
     "name": "stdout",
     "output_type": "stream",
     "text": [
      "<class 'pandas.core.frame.DataFrame'>\n",
      "MultiIndex: 8644608 entries, ('AA', Timestamp('2018-01-02 00:00:00')) to ('ZTS', Timestamp('2023-07-31 00:00:00'))\n",
      "Columns: 613 entries, open to alpha_101\n",
      "dtypes: float32(373), float64(33), int32(198), int8(9)\n",
      "memory usage: 20.6+ GB\n"
     ]
    }
   ],
   "source": [
    "final_data.info()"
   ]
  },
  {
   "cell_type": "code",
   "execution_count": 6,
   "metadata": {},
   "outputs": [
    {
     "name": "stdout",
     "output_type": "stream",
     "text": [
      "<class 'pandas.core.frame.DataFrame'>\n",
      "MultiIndex: 8644608 entries, ('AA', Timestamp('2018-01-02 00:00:00')) to ('ZTS', Timestamp('2023-07-31 00:00:00'))\n",
      "Columns: 613 entries, open to alpha_101\n",
      "dtypes: float32(373), float64(33), int32(198), int8(9)\n",
      "memory usage: 20.6+ GB\n"
     ]
    }
   ],
   "source": [
    "# Check for duplicate rows based on all columns\n",
    "duplicates = final_data.duplicated()\n",
    "\n",
    "# Drop duplicates if found\n",
    "if duplicates.sum() > 0:\n",
    "    print(f\"Dropping {duplicates.sum()} duplicate rows...\")\n",
    "    final_data = final_data[~duplicates]\n",
    "\n",
    "# Print out the info of the DataFrame after dropping duplicates\n",
    "final_data.info()"
   ]
  },
  {
   "cell_type": "code",
   "execution_count": 7,
   "metadata": {},
   "outputs": [
    {
     "name": "stdout",
     "output_type": "stream",
     "text": [
      "Data memory before optimization: 21113.33 MB\n",
      "Data memory after optimization: 21014.40 MB\n",
      "Reduced by: 0.47%\n"
     ]
    }
   ],
   "source": [
    "from utils import optimize_dataframe_new\n",
    "\n",
    "df_optimized = optimize_dataframe_new(final_data.copy())"
   ]
  },
  {
   "cell_type": "code",
   "execution_count": 8,
   "metadata": {},
   "outputs": [],
   "source": [
    "del final_data"
   ]
  },
  {
   "cell_type": "code",
   "execution_count": 9,
   "metadata": {},
   "outputs": [
    {
     "name": "stdout",
     "output_type": "stream",
     "text": [
      "Data saved to /home/sayem/Desktop/Project/data/dataset.h5\n"
     ]
    }
   ],
   "source": [
    "import pandas as pd\n",
    "\n",
    "# Define file path\n",
    "FILE_PATH = \"/home/sayem/Desktop/Project/data/dataset.h5\"\n",
    "\n",
    "# Use with statement for better memory management\n",
    "with pd.HDFStore(FILE_PATH, mode='w', complevel=9, complib='zlib') as store:\n",
    "    df_optimized.to_hdf(store, key='data/2018-01_to_2023-07', format='table')\n",
    "\n",
    "print(f\"Data saved to {FILE_PATH}\")\n"
   ]
  },
  {
   "cell_type": "code",
   "execution_count": null,
   "metadata": {},
   "outputs": [],
   "source": []
  }
 ],
 "metadata": {
  "kernelspec": {
   "display_name": "base",
   "language": "python",
   "name": "python3"
  },
  "language_info": {
   "codemirror_mode": {
    "name": "ipython",
    "version": 3
   },
   "file_extension": ".py",
   "mimetype": "text/x-python",
   "name": "python",
   "nbconvert_exporter": "python",
   "pygments_lexer": "ipython3",
   "version": "3.11.3"
  },
  "orig_nbformat": 4
 },
 "nbformat": 4,
 "nbformat_minor": 2
}
