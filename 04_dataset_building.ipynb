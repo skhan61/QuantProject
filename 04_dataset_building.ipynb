{
 "cells": [
  {
   "cell_type": "markdown",
   "metadata": {},
   "source": [
    "##### Imports"
   ]
  },
  {
   "cell_type": "code",
   "execution_count": null,
   "metadata": {},
   "outputs": [],
   "source": [
    "import warnings\n",
    "import pandas as pd\n",
    "warnings.filterwarnings('ignore')\n",
    "\n",
    "pd.set_option('display.max_columns', 1000)\n",
    "pd.set_option('display.max_rows', 1000)"
   ]
  },
  {
   "cell_type": "code",
   "execution_count": null,
   "metadata": {},
   "outputs": [],
   "source": [
    "%matplotlib inline\n",
    "\n",
    "import numpy as np\n",
    "import pandas as pd\n",
    "from sklearn.feature_selection \\\n",
    "        import mutual_info_regression\n",
    "        \n",
    "from scipy.stats import spearmanr\n",
    "import matplotlib.pyplot as plt\n",
    "import seaborn as sns\n",
    "from pathlib import Path"
   ]
  },
  {
   "cell_type": "code",
   "execution_count": null,
   "metadata": {},
   "outputs": [],
   "source": [
    "from pathlib import Path\n",
    "import pandas as pd\n",
    "from filelock import FileLock\n",
    "import dask.dataframe as dd\n",
    "\n",
    "# Define the path\n",
    "DATA_STORE = Path('/home/sayem/Desktop/Project/data/assets.h5')\n",
    "lock_path = \"/tmp/assets_h5_file.lock\"  # Lock path\n",
    "\n",
    "# Lock the file and retrieve the data\n",
    "with FileLock(lock_path):\n",
    "    # Use Dask to directly read the HDF5 files\n",
    "    alpha_101_data_full = dd.read_hdf(DATA_STORE, key='factors/alpha_101').compute()\n",
    "    common_data_full = dd.read_hdf(DATA_STORE, key='factors/common').compute()\n",
    "    # with pd.HDFStore(DATA_STORE) as store:\n",
    "    #     alpha_101_data_full = store['factors/alpha_101']\n",
    "    #     common_data_full = store['factors/common']\n",
    "\n",
    "# Filter the data using pandas operations\n",
    "start_date = '2018-01-01'\n",
    "end_date = '2023-07-31'\n",
    "\n",
    "alpha_101_data = alpha_101_data_full.loc[\n",
    "    (alpha_101_data_full.index.get_level_values(\"date\") >= start_date) &\n",
    "    (alpha_101_data_full.index.get_level_values(\"date\") <= end_date)\n",
    "]\n",
    "\n",
    "common_data = common_data_full.loc[\n",
    "    (common_data_full.index.get_level_values(\"date\") >= start_date) &\n",
    "    (common_data_full.index.get_level_values(\"date\") <= end_date)\n",
    "]\n",
    "\n",
    "\n",
    "del alpha_101_data_full\n",
    "del common_data_full"
   ]
  },
  {
   "cell_type": "code",
   "execution_count": null,
   "metadata": {},
   "outputs": [],
   "source": [
    "# Prepare an empty list to collect processed chunks\n",
    "processed_data_list = []\n",
    "\n",
    "# Given that `common_data` is the larger DataFrame, we'll chunk through that.\n",
    "# Define a chunk size based on your system's memory; you can adjust it as needed.\n",
    "CHUNK_SIZE = 100000\n",
    "\n",
    "# Create function to chunk through DataFrame\n",
    "def chunker(seq, size):\n",
    "    return (seq[pos: pos + size] for pos in range(0, len(seq), size))\n",
    "\n",
    "# Chunk through `common_data` based on the index\n",
    "for start in range(0, common_data.shape[0], CHUNK_SIZE):\n",
    "    end = start + CHUNK_SIZE\n",
    "    \n",
    "    # Selecting the current chunk\n",
    "    common_data_chunk = common_data.iloc[start:end]\n",
    "    \n",
    "    # Extract unique tickers and dates from the current chunk\n",
    "    tickers_in_chunk = common_data_chunk.index.get_level_values('ticker').unique()\n",
    "    dates_in_chunk = common_data_chunk.index.get_level_values('date').unique()\n",
    "    \n",
    "    # Filter alpha_101_data based on tickers and dates in the current chunk\n",
    "    filtered_alpha_101_data = alpha_101_data[\n",
    "        alpha_101_data.index.get_level_values('ticker').isin(tickers_in_chunk) &\n",
    "        alpha_101_data.index.get_level_values('date').isin(dates_in_chunk)\n",
    "    ]\n",
    "    \n",
    "    # Merge current chunk with filtered alpha_101_data\n",
    "    merged_chunk = common_data_chunk.merge(\n",
    "        filtered_alpha_101_data, left_index=True, right_index=True, how='inner', suffixes=('', '_y')\n",
    "    )\n",
    "\n",
    "    # Drop any columns that end with \"_y\" suffix and \"_x\" (just in case, though \"_x\" might not appear in this context)\n",
    "    merged_chunk = merged_chunk.drop(columns=[col for col in merged_chunk if col.endswith(('_y', '_x'))])\n",
    "\n",
    "    processed_data_list.append(merged_chunk)\n",
    "\n",
    "# Concatenate all processed chunks\n",
    "final_data = pd.concat(processed_data_list)\n",
    "\n",
    "print(f\"Shape of the final combined data: {final_data.shape}\")\n",
    "print(\"Processing completed.\")\n",
    "\n",
    "del processed_data_list"
   ]
  },
  {
   "cell_type": "code",
   "execution_count": null,
   "metadata": {},
   "outputs": [],
   "source": [
    "import pandas as pd\n",
    "\n",
    "# 1. Capitalize all column names\n",
    "final_data.columns = [col.upper() for col in final_data.columns]"
   ]
  },
  {
   "cell_type": "code",
   "execution_count": null,
   "metadata": {},
   "outputs": [],
   "source": [
    "final_data.info()"
   ]
  },
  {
   "cell_type": "code",
   "execution_count": null,
   "metadata": {},
   "outputs": [],
   "source": [
    "import pandas as pd\n",
    "\n",
    "\n",
    "# Extract min and max dates\n",
    "min_date = final_data.index.get_level_values('date').min().strftime('%Y-%m-%d')\n",
    "max_date = final_data.index.get_level_values('date').max().strftime('%Y-%m-%d')\n",
    "\n",
    "# Define file path\n",
    "FILE_PATH = \"/home/sayem/Desktop/Project/data/dataset.h5\"\n",
    "\n",
    "# Use with statement for better memory management\n",
    "with pd.HDFStore(FILE_PATH, \\\n",
    "    mode='w', complevel=9, complib='zlib') as store:\n",
    "    final_data.to_hdf(store, \\\n",
    "        key=f'data/{min_date}_to_{max_date}', format='table')\n",
    "\n",
    "print(f\"Data saved to {FILE_PATH}\")"
   ]
  },
  {
   "cell_type": "code",
   "execution_count": null,
   "metadata": {},
   "outputs": [],
   "source": [
    "del final_data"
   ]
  },
  {
   "cell_type": "code",
   "execution_count": null,
   "metadata": {},
   "outputs": [],
   "source": []
  }
 ],
 "metadata": {
  "kernelspec": {
   "display_name": "base",
   "language": "python",
   "name": "python3"
  },
  "language_info": {
   "codemirror_mode": {
    "name": "ipython",
    "version": 3
   },
   "file_extension": ".py",
   "mimetype": "text/x-python",
   "name": "python",
   "nbconvert_exporter": "python",
   "pygments_lexer": "ipython3",
   "version": "3.11.3"
  },
  "orig_nbformat": 4
 },
 "nbformat": 4,
 "nbformat_minor": 2
}
