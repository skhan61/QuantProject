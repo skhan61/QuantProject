{
 "cells": [
  {
   "cell_type": "code",
   "execution_count": null,
   "metadata": {},
   "outputs": [],
   "source": [
    "import warnings\n",
    "import pandas as pd\n",
    "warnings.filterwarnings('ignore')\n",
    "\n",
    "pd.set_option('display.max_columns', 1000)\n",
    "pd.set_option('display.max_rows', 1000)"
   ]
  },
  {
   "cell_type": "code",
   "execution_count": null,
   "metadata": {},
   "outputs": [],
   "source": [
    "%matplotlib inline\n",
    "\n",
    "from pathlib import Path\n",
    "import numpy as np\n",
    "import pandas as pd\n",
    "import pandas_datareader.data as web\n",
    "\n",
    "from pathlib import Path\n",
    "import numpy as np\n",
    "import pandas as pd\n",
    "import gc\n",
    "\n",
    "import statsmodels.api as sm\n",
    "from statsmodels.regression.rolling import RollingOLS\n",
    "from sklearn.preprocessing import scale\n",
    "import talib\n",
    "\n",
    "import matplotlib.pyplot as plt\n",
    "import seaborn as sns"
   ]
  },
  {
   "cell_type": "code",
   "execution_count": null,
   "metadata": {},
   "outputs": [],
   "source": [
    "DATA_STORE = Path('/home/sayem/Desktop/Project/data/assets.h5')\n",
    "\n",
    "with pd.HDFStore(DATA_STORE) as store:\n",
    "    data = store['data/top500_dataset']"
   ]
  },
  {
   "cell_type": "code",
   "execution_count": null,
   "metadata": {},
   "outputs": [],
   "source": [
    "selected_data = data[['open', 'high', 'low', 'close', 'volume']]"
   ]
  },
  {
   "cell_type": "code",
   "execution_count": 43,
   "metadata": {},
   "outputs": [
    {
     "name": "stdout",
     "output_type": "stream",
     "text": [
      "<class 'pandas.core.frame.DataFrame'>\n",
      "MultiIndex: 1336327 entries, ('AA', Timestamp('2013-01-03 00:00:00')) to ('ZION', Timestamp('2023-08-10 00:00:00'))\n",
      "Data columns (total 5 columns):\n",
      " #   Column  Non-Null Count    Dtype  \n",
      "---  ------  --------------    -----  \n",
      " 0   open    1336327 non-null  float64\n",
      " 1   high    1336327 non-null  float64\n",
      " 2   low     1336327 non-null  float64\n",
      " 3   close   1336327 non-null  float64\n",
      " 4   volume  1336327 non-null  float64\n",
      "dtypes: float64(5)\n",
      "memory usage: 56.5+ MB\n"
     ]
    }
   ],
   "source": [
    "selected_data.info()"
   ]
  },
  {
   "cell_type": "code",
   "execution_count": null,
   "metadata": {},
   "outputs": [],
   "source": [
    "import numpy as np\n",
    "import matplotlib.pyplot as plt\n",
    "from tsfracdiff import FractionalDifferentiator\n",
    "\n",
    "def process_tickers(df):\n",
    "    all_orders = []\n",
    "\n",
    "    for ticker, group in df.groupby(level=0):\n",
    "        group = group.reset_index(drop=True)  # Reset the multi-index for the current group\n",
    "\n",
    "        # Focus on the 'close' prices\n",
    "        X_ticker = group[['close']]\n",
    "\n",
    "        # Calculate percentage change (returns)\n",
    "        X_pct_change = X_ticker.pct_change().dropna()\n",
    "\n",
    "        # 1. Fractional Differentiation for the specific ticker\n",
    "        fracDiff = FractionalDifferentiator()\n",
    "        X_frac = fracDiff.FitTransform(X_ticker)\n",
    "\n",
    "        # Print estimated orders for the specific ticker\n",
    "        orders = fracDiff.orders\n",
    "        print(f\"For ticker {ticker}, estimated orders range from {min(orders)} to {max(orders)}.\")\n",
    "        all_orders.extend(orders)\n",
    "\n",
    "        # 2. First Difference\n",
    "        X_diff = X_ticker.diff().dropna()\n",
    "\n",
    "        # 3. Plotting\n",
    "        fig, axes = plt.subplots(3, 1, figsize=(15, 12))\n",
    "        \n",
    "        X_diff.plot(title=f'{ticker} - Differenced Prices', ax=axes[0], color='blue')\n",
    "        axes[0].set_ylabel('Differenced Close')\n",
    "        \n",
    "        X_ticker.plot(ax=axes[1], label='Original Close', color='blue')\n",
    "        X_frac.plot(title=f'{ticker} - Fractionally Differentiated Prices vs Original Close', ax=axes[1], linestyle='--', color='orange')\n",
    "        axes[1].set_ylabel('Close Prices')\n",
    "        axes[1].legend()\n",
    "        \n",
    "        X_pct_change.plot(title=f'{ticker} - Percentage Change (Returns)', ax=axes[2], color='green')\n",
    "        axes[2].set_ylabel('Percentage Change')\n",
    "\n",
    "        plt.tight_layout()\n",
    "        plt.show()\n",
    "\n",
    "        # 4. Plotting Correlations\n",
    "        fig, ax = plt.subplots(figsize=(12, 6))\n",
    "        correlations = {\n",
    "            'Differenced Close': X_diff.corrwith(X_ticker)['close'],\n",
    "            'Fractional Difference': X_frac.corrwith(X_ticker)['close'],\n",
    "            'Percentage Change': X_pct_change.corrwith(X_ticker).iloc[0]\n",
    "        }\n",
    "        \n",
    "        ax.bar(correlations.keys(), correlations.values(), alpha=0.7)\n",
    "        ax.set_title(f'{ticker} - Correlation of Transformed Features with Original')\n",
    "        ax.set_ylabel('Correlation Coefficient')\n",
    "        plt.tight_layout()\n",
    "        plt.show()\n",
    "        break\n",
    "\n",
    "    # Analyzing orders after processing all tickers\n",
    "    print(f\"Across all tickers, estimated orders range from {min(all_orders)} to {max(all_orders)}.\")\n",
    "\n",
    "# Assuming df is your DataFrame\n",
    "process_tickers(selected_data)"
   ]
  },
  {
   "cell_type": "code",
   "execution_count": null,
   "metadata": {},
   "outputs": [],
   "source": []
  }
 ],
 "metadata": {
  "kernelspec": {
   "display_name": "base",
   "language": "python",
   "name": "python3"
  },
  "language_info": {
   "codemirror_mode": {
    "name": "ipython",
    "version": 3
   },
   "file_extension": ".py",
   "mimetype": "text/x-python",
   "name": "python",
   "nbconvert_exporter": "python",
   "pygments_lexer": "ipython3",
   "version": "3.11.3"
  },
  "orig_nbformat": 4
 },
 "nbformat": 4,
 "nbformat_minor": 2
}
