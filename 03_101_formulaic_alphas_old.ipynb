{
 "cells": [
  {
   "cell_type": "markdown",
   "metadata": {},
   "source": [
    "##### 101 Formulaic Alphas"
   ]
  },
  {
   "cell_type": "markdown",
   "metadata": {},
   "source": [
    "- Based on [101 Formulaic Alphas](https://arxiv.org/pdf/1601.00991.pdf), Zura Kakushadze, arxiv, 2015"
   ]
  },
  {
   "cell_type": "markdown",
   "metadata": {},
   "source": [
    "##### Imports & Settings"
   ]
  },
  {
   "cell_type": "code",
   "execution_count": 20,
   "metadata": {
    "ExecuteTime": {
     "end_time": "2021-04-16T14:05:27.056262Z",
     "start_time": "2021-04-16T14:05:27.054663Z"
    }
   },
   "outputs": [],
   "source": [
    "import warnings\n",
    "warnings.filterwarnings('ignore')"
   ]
  },
  {
   "cell_type": "code",
   "execution_count": 21,
   "metadata": {
    "ExecuteTime": {
     "end_time": "2021-04-16T14:05:27.069872Z",
     "start_time": "2021-04-16T14:05:27.066583Z"
    }
   },
   "outputs": [],
   "source": [
    "%matplotlib inline\n",
    "\n",
    "import numpy as np\n",
    "import pandas as pd\n",
    "from sklearn.feature_selection import mutual_info_regression\n",
    "from scipy.stats import spearmanr\n",
    "import matplotlib.pyplot as plt\n",
    "import seaborn as sns\n",
    "from pathlib import Path"
   ]
  },
  {
   "cell_type": "code",
   "execution_count": 22,
   "metadata": {
    "ExecuteTime": {
     "end_time": "2021-04-16T14:05:27.078659Z",
     "start_time": "2021-04-16T14:05:27.076944Z"
    }
   },
   "outputs": [],
   "source": [
    "idx= pd.IndexSlice\n",
    "sns.set_style('whitegrid')"
   ]
  },
  {
   "cell_type": "markdown",
   "metadata": {},
   "source": [
    "##### Loading Data"
   ]
  },
  {
   "cell_type": "code",
   "execution_count": 23,
   "metadata": {},
   "outputs": [],
   "source": [
    "DATA_STORE = Path('/home/sayem/Desktop/Project/data/assets.h5')"
   ]
  },
  {
   "cell_type": "code",
   "execution_count": 24,
   "metadata": {},
   "outputs": [],
   "source": [
    "ohlcv = ['open', 'high', 'low', 'close', 'volume']\n",
    "\n",
    "with pd.HDFStore(DATA_STORE) as store:\n",
    "    data = (store['data/top500_dataset']\n",
    "            .loc[:, ohlcv + ['ret_01d', 'sector', 'ret_fwd_01d']]\n",
    "            .rename(columns={'ret_01d': 'returns'})\n",
    "            .sort_index())"
   ]
  },
  {
   "cell_type": "code",
   "execution_count": 25,
   "metadata": {},
   "outputs": [
    {
     "data": {
      "text/html": [
       "<div>\n",
       "<style scoped>\n",
       "    .dataframe tbody tr th:only-of-type {\n",
       "        vertical-align: middle;\n",
       "    }\n",
       "\n",
       "    .dataframe tbody tr th {\n",
       "        vertical-align: top;\n",
       "    }\n",
       "\n",
       "    .dataframe thead th {\n",
       "        text-align: right;\n",
       "    }\n",
       "</style>\n",
       "<table border=\"1\" class=\"dataframe\">\n",
       "  <thead>\n",
       "    <tr style=\"text-align: right;\">\n",
       "      <th></th>\n",
       "      <th></th>\n",
       "      <th>open</th>\n",
       "      <th>high</th>\n",
       "      <th>low</th>\n",
       "      <th>close</th>\n",
       "      <th>volume</th>\n",
       "      <th>returns</th>\n",
       "      <th>sector</th>\n",
       "      <th>ret_fwd_01d</th>\n",
       "    </tr>\n",
       "    <tr>\n",
       "      <th>ticker</th>\n",
       "      <th>date</th>\n",
       "      <th></th>\n",
       "      <th></th>\n",
       "      <th></th>\n",
       "      <th></th>\n",
       "      <th></th>\n",
       "      <th></th>\n",
       "      <th></th>\n",
       "      <th></th>\n",
       "    </tr>\n",
       "  </thead>\n",
       "  <tbody>\n",
       "    <tr>\n",
       "      <th rowspan=\"5\" valign=\"top\">AA</th>\n",
       "      <th>2013-01-03</th>\n",
       "      <td>18.9041</td>\n",
       "      <td>19.3065</td>\n",
       "      <td>18.8832</td>\n",
       "      <td>19.1376</td>\n",
       "      <td>1.057118e+07</td>\n",
       "      <td>NaN</td>\n",
       "      <td>4.0</td>\n",
       "      <td>0.020875</td>\n",
       "    </tr>\n",
       "    <tr>\n",
       "      <th>2013-01-04</th>\n",
       "      <td>19.2220</td>\n",
       "      <td>19.5798</td>\n",
       "      <td>19.2003</td>\n",
       "      <td>19.5371</td>\n",
       "      <td>8.690739e+06</td>\n",
       "      <td>0.020875</td>\n",
       "      <td>4.0</td>\n",
       "      <td>-0.017239</td>\n",
       "    </tr>\n",
       "    <tr>\n",
       "      <th>2013-01-07</th>\n",
       "      <td>19.5371</td>\n",
       "      <td>19.6006</td>\n",
       "      <td>19.2003</td>\n",
       "      <td>19.2003</td>\n",
       "      <td>1.031992e+07</td>\n",
       "      <td>-0.017239</td>\n",
       "      <td>4.0</td>\n",
       "      <td>0.000000</td>\n",
       "    </tr>\n",
       "    <tr>\n",
       "      <th>2013-01-08</th>\n",
       "      <td>19.3274</td>\n",
       "      <td>19.3891</td>\n",
       "      <td>19.1584</td>\n",
       "      <td>19.2003</td>\n",
       "      <td>1.609879e+07</td>\n",
       "      <td>0.000000</td>\n",
       "      <td>4.0</td>\n",
       "      <td>-0.002182</td>\n",
       "    </tr>\n",
       "    <tr>\n",
       "      <th>2013-01-09</th>\n",
       "      <td>19.6851</td>\n",
       "      <td>19.6851</td>\n",
       "      <td>19.1157</td>\n",
       "      <td>19.1584</td>\n",
       "      <td>1.979932e+07</td>\n",
       "      <td>-0.002182</td>\n",
       "      <td>4.0</td>\n",
       "      <td>-0.012136</td>\n",
       "    </tr>\n",
       "    <tr>\n",
       "      <th>...</th>\n",
       "      <th>...</th>\n",
       "      <td>...</td>\n",
       "      <td>...</td>\n",
       "      <td>...</td>\n",
       "      <td>...</td>\n",
       "      <td>...</td>\n",
       "      <td>...</td>\n",
       "      <td>...</td>\n",
       "      <td>...</td>\n",
       "    </tr>\n",
       "    <tr>\n",
       "      <th rowspan=\"5\" valign=\"top\">ZTS</th>\n",
       "      <th>2023-08-04</th>\n",
       "      <td>180.1400</td>\n",
       "      <td>182.4600</td>\n",
       "      <td>178.3400</td>\n",
       "      <td>178.6300</td>\n",
       "      <td>1.827463e+06</td>\n",
       "      <td>-0.012439</td>\n",
       "      <td>2.0</td>\n",
       "      <td>0.011532</td>\n",
       "    </tr>\n",
       "    <tr>\n",
       "      <th>2023-08-07</th>\n",
       "      <td>180.1900</td>\n",
       "      <td>181.8800</td>\n",
       "      <td>180.0300</td>\n",
       "      <td>180.6900</td>\n",
       "      <td>1.941699e+06</td>\n",
       "      <td>0.011532</td>\n",
       "      <td>2.0</td>\n",
       "      <td>0.047651</td>\n",
       "    </tr>\n",
       "    <tr>\n",
       "      <th>2023-08-08</th>\n",
       "      <td>182.1500</td>\n",
       "      <td>190.5400</td>\n",
       "      <td>177.2500</td>\n",
       "      <td>189.3000</td>\n",
       "      <td>4.117986e+06</td>\n",
       "      <td>0.047651</td>\n",
       "      <td>2.0</td>\n",
       "      <td>0.000264</td>\n",
       "    </tr>\n",
       "    <tr>\n",
       "      <th>2023-08-09</th>\n",
       "      <td>189.9400</td>\n",
       "      <td>190.9500</td>\n",
       "      <td>186.9650</td>\n",
       "      <td>189.3500</td>\n",
       "      <td>2.270030e+06</td>\n",
       "      <td>0.000264</td>\n",
       "      <td>2.0</td>\n",
       "      <td>-0.001320</td>\n",
       "    </tr>\n",
       "    <tr>\n",
       "      <th>2023-08-10</th>\n",
       "      <td>190.0000</td>\n",
       "      <td>191.8250</td>\n",
       "      <td>187.7300</td>\n",
       "      <td>189.1000</td>\n",
       "      <td>2.348639e+06</td>\n",
       "      <td>-0.001320</td>\n",
       "      <td>2.0</td>\n",
       "      <td>0.009149</td>\n",
       "    </tr>\n",
       "  </tbody>\n",
       "</table>\n",
       "<p>1336327 rows × 8 columns</p>\n",
       "</div>"
      ],
      "text/plain": [
       "                       open      high       low     close        volume  \\\n",
       "ticker date                                                               \n",
       "AA     2013-01-03   18.9041   19.3065   18.8832   19.1376  1.057118e+07   \n",
       "       2013-01-04   19.2220   19.5798   19.2003   19.5371  8.690739e+06   \n",
       "       2013-01-07   19.5371   19.6006   19.2003   19.2003  1.031992e+07   \n",
       "       2013-01-08   19.3274   19.3891   19.1584   19.2003  1.609879e+07   \n",
       "       2013-01-09   19.6851   19.6851   19.1157   19.1584  1.979932e+07   \n",
       "...                     ...       ...       ...       ...           ...   \n",
       "ZTS    2023-08-04  180.1400  182.4600  178.3400  178.6300  1.827463e+06   \n",
       "       2023-08-07  180.1900  181.8800  180.0300  180.6900  1.941699e+06   \n",
       "       2023-08-08  182.1500  190.5400  177.2500  189.3000  4.117986e+06   \n",
       "       2023-08-09  189.9400  190.9500  186.9650  189.3500  2.270030e+06   \n",
       "       2023-08-10  190.0000  191.8250  187.7300  189.1000  2.348639e+06   \n",
       "\n",
       "                    returns  sector  ret_fwd_01d  \n",
       "ticker date                                       \n",
       "AA     2013-01-03       NaN     4.0     0.020875  \n",
       "       2013-01-04  0.020875     4.0    -0.017239  \n",
       "       2013-01-07 -0.017239     4.0     0.000000  \n",
       "       2013-01-08  0.000000     4.0    -0.002182  \n",
       "       2013-01-09 -0.002182     4.0    -0.012136  \n",
       "...                     ...     ...          ...  \n",
       "ZTS    2023-08-04 -0.012439     2.0     0.011532  \n",
       "       2023-08-07  0.011532     2.0     0.047651  \n",
       "       2023-08-08  0.047651     2.0     0.000264  \n",
       "       2023-08-09  0.000264     2.0    -0.001320  \n",
       "       2023-08-10 -0.001320     2.0     0.009149  \n",
       "\n",
       "[1336327 rows x 8 columns]"
      ]
     },
     "execution_count": 25,
     "metadata": {},
     "output_type": "execute_result"
    }
   ],
   "source": [
    "data"
   ]
  },
  {
   "cell_type": "code",
   "execution_count": 26,
   "metadata": {
    "ExecuteTime": {
     "end_time": "2021-04-16T14:05:28.035970Z",
     "start_time": "2021-04-16T14:05:27.935382Z"
    }
   },
   "outputs": [],
   "source": [
    "adv20 = data.groupby('ticker').rolling(20).volume.mean().reset_index(0, drop=True)"
   ]
  },
  {
   "cell_type": "code",
   "execution_count": 27,
   "metadata": {
    "ExecuteTime": {
     "end_time": "2021-04-16T14:05:32.189520Z",
     "start_time": "2021-04-16T14:05:28.037148Z"
    }
   },
   "outputs": [],
   "source": [
    "data = data.assign(adv20=adv20)"
   ]
  },
  {
   "cell_type": "code",
   "execution_count": 28,
   "metadata": {
    "ExecuteTime": {
     "end_time": "2021-04-16T14:05:33.481654Z",
     "start_time": "2021-04-16T14:05:32.190438Z"
    }
   },
   "outputs": [],
   "source": [
    "data = data.join(data.groupby('date')[ohlcv].rank(axis=1, pct=True), rsuffix='_rank')"
   ]
  },
  {
   "cell_type": "code",
   "execution_count": 29,
   "metadata": {
    "ExecuteTime": {
     "end_time": "2021-04-16T14:05:33.524805Z",
     "start_time": "2021-04-16T14:05:33.482700Z"
    }
   },
   "outputs": [
    {
     "name": "stdout",
     "output_type": "stream",
     "text": [
      "<class 'pandas.core.frame.DataFrame'>\n",
      "MultiIndex: 1355775 entries, ('AA', Timestamp('2013-01-03 00:00:00')) to ('ZTS', Timestamp('2023-08-10 00:00:00'))\n",
      "Data columns (total 14 columns):\n",
      " #   Column       Non-Null Count    Dtype  \n",
      "---  ------       --------------    -----  \n",
      " 0   open         1355775 non-null  float64\n",
      " 1   high         1355775 non-null  float64\n",
      " 2   low          1355775 non-null  float64\n",
      " 3   close        1355775 non-null  float64\n",
      " 4   volume       1355775 non-null  float64\n",
      " 5   returns      1355273 non-null  float64\n",
      " 6   sector       1355775 non-null  float64\n",
      " 7   ret_fwd_01d  1355775 non-null  float64\n",
      " 8   adv20        1346239 non-null  float64\n",
      " 9   open_rank    1355775 non-null  float64\n",
      " 10  high_rank    1355775 non-null  float64\n",
      " 11  low_rank     1355775 non-null  float64\n",
      " 12  close_rank   1355775 non-null  float64\n",
      " 13  volume_rank  1355775 non-null  float64\n",
      "dtypes: float64(14)\n",
      "memory usage: 150.1+ MB\n"
     ]
    }
   ],
   "source": [
    "data.info(null_counts=True)"
   ]
  },
  {
   "cell_type": "code",
   "execution_count": 30,
   "metadata": {},
   "outputs": [
    {
     "data": {
      "text/html": [
       "<div>\n",
       "<style scoped>\n",
       "    .dataframe tbody tr th:only-of-type {\n",
       "        vertical-align: middle;\n",
       "    }\n",
       "\n",
       "    .dataframe tbody tr th {\n",
       "        vertical-align: top;\n",
       "    }\n",
       "\n",
       "    .dataframe thead th {\n",
       "        text-align: right;\n",
       "    }\n",
       "</style>\n",
       "<table border=\"1\" class=\"dataframe\">\n",
       "  <thead>\n",
       "    <tr style=\"text-align: right;\">\n",
       "      <th></th>\n",
       "      <th></th>\n",
       "      <th>open</th>\n",
       "      <th>high</th>\n",
       "      <th>low</th>\n",
       "      <th>close</th>\n",
       "      <th>volume</th>\n",
       "      <th>returns</th>\n",
       "      <th>sector</th>\n",
       "      <th>ret_fwd_01d</th>\n",
       "      <th>adv20</th>\n",
       "      <th>open_rank</th>\n",
       "      <th>high_rank</th>\n",
       "      <th>low_rank</th>\n",
       "      <th>close_rank</th>\n",
       "      <th>volume_rank</th>\n",
       "    </tr>\n",
       "    <tr>\n",
       "      <th>ticker</th>\n",
       "      <th>date</th>\n",
       "      <th></th>\n",
       "      <th></th>\n",
       "      <th></th>\n",
       "      <th></th>\n",
       "      <th></th>\n",
       "      <th></th>\n",
       "      <th></th>\n",
       "      <th></th>\n",
       "      <th></th>\n",
       "      <th></th>\n",
       "      <th></th>\n",
       "      <th></th>\n",
       "      <th></th>\n",
       "      <th></th>\n",
       "    </tr>\n",
       "  </thead>\n",
       "  <tbody>\n",
       "    <tr>\n",
       "      <th rowspan=\"5\" valign=\"top\">AA</th>\n",
       "      <th>2013-01-03</th>\n",
       "      <td>18.9041</td>\n",
       "      <td>19.3065</td>\n",
       "      <td>18.8832</td>\n",
       "      <td>19.1376</td>\n",
       "      <td>1.057118e+07</td>\n",
       "      <td>NaN</td>\n",
       "      <td>4.0</td>\n",
       "      <td>0.020875</td>\n",
       "      <td>NaN</td>\n",
       "      <td>0.4</td>\n",
       "      <td>0.8</td>\n",
       "      <td>0.2</td>\n",
       "      <td>0.6</td>\n",
       "      <td>1.0</td>\n",
       "    </tr>\n",
       "    <tr>\n",
       "      <th>2013-01-04</th>\n",
       "      <td>19.2220</td>\n",
       "      <td>19.5798</td>\n",
       "      <td>19.2003</td>\n",
       "      <td>19.5371</td>\n",
       "      <td>8.690739e+06</td>\n",
       "      <td>0.020875</td>\n",
       "      <td>4.0</td>\n",
       "      <td>-0.017239</td>\n",
       "      <td>NaN</td>\n",
       "      <td>0.4</td>\n",
       "      <td>0.8</td>\n",
       "      <td>0.2</td>\n",
       "      <td>0.6</td>\n",
       "      <td>1.0</td>\n",
       "    </tr>\n",
       "    <tr>\n",
       "      <th>2013-01-07</th>\n",
       "      <td>19.5371</td>\n",
       "      <td>19.6006</td>\n",
       "      <td>19.2003</td>\n",
       "      <td>19.2003</td>\n",
       "      <td>1.031992e+07</td>\n",
       "      <td>-0.017239</td>\n",
       "      <td>4.0</td>\n",
       "      <td>0.000000</td>\n",
       "      <td>NaN</td>\n",
       "      <td>0.6</td>\n",
       "      <td>0.8</td>\n",
       "      <td>0.3</td>\n",
       "      <td>0.3</td>\n",
       "      <td>1.0</td>\n",
       "    </tr>\n",
       "    <tr>\n",
       "      <th>2013-01-08</th>\n",
       "      <td>19.3274</td>\n",
       "      <td>19.3891</td>\n",
       "      <td>19.1584</td>\n",
       "      <td>19.2003</td>\n",
       "      <td>1.609879e+07</td>\n",
       "      <td>0.000000</td>\n",
       "      <td>4.0</td>\n",
       "      <td>-0.002182</td>\n",
       "      <td>NaN</td>\n",
       "      <td>0.6</td>\n",
       "      <td>0.8</td>\n",
       "      <td>0.2</td>\n",
       "      <td>0.4</td>\n",
       "      <td>1.0</td>\n",
       "    </tr>\n",
       "    <tr>\n",
       "      <th>2013-01-09</th>\n",
       "      <td>19.6851</td>\n",
       "      <td>19.6851</td>\n",
       "      <td>19.1157</td>\n",
       "      <td>19.1584</td>\n",
       "      <td>1.979932e+07</td>\n",
       "      <td>-0.002182</td>\n",
       "      <td>4.0</td>\n",
       "      <td>-0.012136</td>\n",
       "      <td>NaN</td>\n",
       "      <td>0.7</td>\n",
       "      <td>0.7</td>\n",
       "      <td>0.2</td>\n",
       "      <td>0.4</td>\n",
       "      <td>1.0</td>\n",
       "    </tr>\n",
       "    <tr>\n",
       "      <th>...</th>\n",
       "      <th>...</th>\n",
       "      <td>...</td>\n",
       "      <td>...</td>\n",
       "      <td>...</td>\n",
       "      <td>...</td>\n",
       "      <td>...</td>\n",
       "      <td>...</td>\n",
       "      <td>...</td>\n",
       "      <td>...</td>\n",
       "      <td>...</td>\n",
       "      <td>...</td>\n",
       "      <td>...</td>\n",
       "      <td>...</td>\n",
       "      <td>...</td>\n",
       "      <td>...</td>\n",
       "    </tr>\n",
       "    <tr>\n",
       "      <th rowspan=\"5\" valign=\"top\">ZTS</th>\n",
       "      <th>2023-08-04</th>\n",
       "      <td>180.1400</td>\n",
       "      <td>182.4600</td>\n",
       "      <td>178.3400</td>\n",
       "      <td>178.6300</td>\n",
       "      <td>1.827463e+06</td>\n",
       "      <td>-0.012439</td>\n",
       "      <td>2.0</td>\n",
       "      <td>0.011532</td>\n",
       "      <td>2089940.15</td>\n",
       "      <td>0.6</td>\n",
       "      <td>0.8</td>\n",
       "      <td>0.2</td>\n",
       "      <td>0.4</td>\n",
       "      <td>1.0</td>\n",
       "    </tr>\n",
       "    <tr>\n",
       "      <th>2023-08-07</th>\n",
       "      <td>180.1900</td>\n",
       "      <td>181.8800</td>\n",
       "      <td>180.0300</td>\n",
       "      <td>180.6900</td>\n",
       "      <td>1.941699e+06</td>\n",
       "      <td>0.011532</td>\n",
       "      <td>2.0</td>\n",
       "      <td>0.047651</td>\n",
       "      <td>2123019.90</td>\n",
       "      <td>0.4</td>\n",
       "      <td>0.8</td>\n",
       "      <td>0.2</td>\n",
       "      <td>0.6</td>\n",
       "      <td>1.0</td>\n",
       "    </tr>\n",
       "    <tr>\n",
       "      <th>2023-08-08</th>\n",
       "      <td>182.1500</td>\n",
       "      <td>190.5400</td>\n",
       "      <td>177.2500</td>\n",
       "      <td>189.3000</td>\n",
       "      <td>4.117986e+06</td>\n",
       "      <td>0.047651</td>\n",
       "      <td>2.0</td>\n",
       "      <td>0.000264</td>\n",
       "      <td>2274855.90</td>\n",
       "      <td>0.4</td>\n",
       "      <td>0.8</td>\n",
       "      <td>0.2</td>\n",
       "      <td>0.6</td>\n",
       "      <td>1.0</td>\n",
       "    </tr>\n",
       "    <tr>\n",
       "      <th>2023-08-09</th>\n",
       "      <td>189.9400</td>\n",
       "      <td>190.9500</td>\n",
       "      <td>186.9650</td>\n",
       "      <td>189.3500</td>\n",
       "      <td>2.270030e+06</td>\n",
       "      <td>0.000264</td>\n",
       "      <td>2.0</td>\n",
       "      <td>-0.001320</td>\n",
       "      <td>2314766.30</td>\n",
       "      <td>0.6</td>\n",
       "      <td>0.8</td>\n",
       "      <td>0.2</td>\n",
       "      <td>0.4</td>\n",
       "      <td>1.0</td>\n",
       "    </tr>\n",
       "    <tr>\n",
       "      <th>2023-08-10</th>\n",
       "      <td>190.0000</td>\n",
       "      <td>191.8250</td>\n",
       "      <td>187.7300</td>\n",
       "      <td>189.1000</td>\n",
       "      <td>2.348639e+06</td>\n",
       "      <td>-0.001320</td>\n",
       "      <td>2.0</td>\n",
       "      <td>0.009149</td>\n",
       "      <td>2382122.90</td>\n",
       "      <td>0.6</td>\n",
       "      <td>0.8</td>\n",
       "      <td>0.2</td>\n",
       "      <td>0.4</td>\n",
       "      <td>1.0</td>\n",
       "    </tr>\n",
       "  </tbody>\n",
       "</table>\n",
       "<p>1355775 rows × 14 columns</p>\n",
       "</div>"
      ],
      "text/plain": [
       "                       open      high       low     close        volume  \\\n",
       "ticker date                                                               \n",
       "AA     2013-01-03   18.9041   19.3065   18.8832   19.1376  1.057118e+07   \n",
       "       2013-01-04   19.2220   19.5798   19.2003   19.5371  8.690739e+06   \n",
       "       2013-01-07   19.5371   19.6006   19.2003   19.2003  1.031992e+07   \n",
       "       2013-01-08   19.3274   19.3891   19.1584   19.2003  1.609879e+07   \n",
       "       2013-01-09   19.6851   19.6851   19.1157   19.1584  1.979932e+07   \n",
       "...                     ...       ...       ...       ...           ...   \n",
       "ZTS    2023-08-04  180.1400  182.4600  178.3400  178.6300  1.827463e+06   \n",
       "       2023-08-07  180.1900  181.8800  180.0300  180.6900  1.941699e+06   \n",
       "       2023-08-08  182.1500  190.5400  177.2500  189.3000  4.117986e+06   \n",
       "       2023-08-09  189.9400  190.9500  186.9650  189.3500  2.270030e+06   \n",
       "       2023-08-10  190.0000  191.8250  187.7300  189.1000  2.348639e+06   \n",
       "\n",
       "                    returns  sector  ret_fwd_01d       adv20  open_rank  \\\n",
       "ticker date                                                               \n",
       "AA     2013-01-03       NaN     4.0     0.020875         NaN        0.4   \n",
       "       2013-01-04  0.020875     4.0    -0.017239         NaN        0.4   \n",
       "       2013-01-07 -0.017239     4.0     0.000000         NaN        0.6   \n",
       "       2013-01-08  0.000000     4.0    -0.002182         NaN        0.6   \n",
       "       2013-01-09 -0.002182     4.0    -0.012136         NaN        0.7   \n",
       "...                     ...     ...          ...         ...        ...   \n",
       "ZTS    2023-08-04 -0.012439     2.0     0.011532  2089940.15        0.6   \n",
       "       2023-08-07  0.011532     2.0     0.047651  2123019.90        0.4   \n",
       "       2023-08-08  0.047651     2.0     0.000264  2274855.90        0.4   \n",
       "       2023-08-09  0.000264     2.0    -0.001320  2314766.30        0.6   \n",
       "       2023-08-10 -0.001320     2.0     0.009149  2382122.90        0.6   \n",
       "\n",
       "                   high_rank  low_rank  close_rank  volume_rank  \n",
       "ticker date                                                      \n",
       "AA     2013-01-03        0.8       0.2         0.6          1.0  \n",
       "       2013-01-04        0.8       0.2         0.6          1.0  \n",
       "       2013-01-07        0.8       0.3         0.3          1.0  \n",
       "       2013-01-08        0.8       0.2         0.4          1.0  \n",
       "       2013-01-09        0.7       0.2         0.4          1.0  \n",
       "...                      ...       ...         ...          ...  \n",
       "ZTS    2023-08-04        0.8       0.2         0.4          1.0  \n",
       "       2023-08-07        0.8       0.2         0.6          1.0  \n",
       "       2023-08-08        0.8       0.2         0.6          1.0  \n",
       "       2023-08-09        0.8       0.2         0.4          1.0  \n",
       "       2023-08-10        0.8       0.2         0.4          1.0  \n",
       "\n",
       "[1355775 rows x 14 columns]"
      ]
     },
     "execution_count": 30,
     "metadata": {},
     "output_type": "execute_result"
    }
   ],
   "source": [
    "data"
   ]
  },
  {
   "cell_type": "code",
   "execution_count": 31,
   "metadata": {
    "ExecuteTime": {
     "end_time": "2021-04-16T14:05:33.527875Z",
     "start_time": "2021-04-16T14:05:33.526078Z"
    }
   },
   "outputs": [],
   "source": [
    "# data.to_hdf('factors.h5', 'data')"
   ]
  },
  {
   "cell_type": "code",
   "execution_count": 38,
   "metadata": {
    "ExecuteTime": {
     "end_time": "2021-04-16T14:05:35.150528Z",
     "start_time": "2021-04-16T14:05:33.528907Z"
    }
   },
   "outputs": [],
   "source": [
    "data = data[~data.index.duplicated(keep='first')]\n",
    "o = data.open.unstack('ticker')\n",
    "h = data.high.unstack('ticker')\n",
    "l = data.low.unstack('ticker')\n",
    "c = data.close.unstack('ticker')\n",
    "v = data.volume.unstack('ticker')\n",
    "vwap = o.add(h).add(l).add(c).div(4)\n",
    "adv20 = v.rolling(20).mean()\n",
    "r = data.returns.unstack('ticker')"
   ]
  },
  {
   "cell_type": "markdown",
   "metadata": {},
   "source": [
    "## Evaluate Alphas"
   ]
  },
  {
   "cell_type": "code",
   "execution_count": 34,
   "metadata": {
    "ExecuteTime": {
     "end_time": "2021-04-16T14:05:35.203096Z",
     "start_time": "2021-04-16T14:05:35.151621Z"
    }
   },
   "outputs": [],
   "source": [
    "alphas = data[['returns', 'ret_fwd_01d']].copy()\n",
    "mi, ic = {}, {}"
   ]
  },
  {
   "cell_type": "code",
   "execution_count": 43,
   "metadata": {
    "ExecuteTime": {
     "end_time": "2021-04-16T14:05:35.206011Z",
     "start_time": "2021-04-16T14:05:35.203958Z"
    }
   },
   "outputs": [
    {
     "name": "stdout",
     "output_type": "stream",
     "text": [
      "Mutual Information: {'returns': 10.220447382170688, 'ret_fwd_01d': 0.03422377874151028}\n",
      "Information Coefficient (IC): {'returns': 0.9999999999999999, 'ret_fwd_01d': -0.019756560070646932}\n"
     ]
    }
   ],
   "source": [
    "import pandas as pd\n",
    "from sklearn.feature_selection import mutual_info_regression\n",
    "from scipy.stats import spearmanr\n",
    "\n",
    "def get_mutual_info_score(returns, alpha, n=100000):\n",
    "    df = pd.DataFrame({'y': returns, 'alpha': alpha}).dropna().sample(n=n)\n",
    "    return mutual_info_regression(y=df.y, X=df[['alpha']])[0]\n",
    "\n",
    "def get_ic(returns, alpha):\n",
    "    # Drop NaN values from returns and alpha series\n",
    "    valid_data = pd.concat([returns, alpha], axis=1).dropna()\n",
    "    \n",
    "    # Calculate the Spearman rank correlation\n",
    "    ic_value, _ = spearmanr(valid_data.iloc[:, 0], valid_data.iloc[:, 1])\n",
    "    \n",
    "    return ic_value\n",
    "\n",
    "# Assuming `data` has been defined elsewhere and contains 'returns' and 'ret_fwd_01d'\n",
    "alphas = data[['returns', 'ret_fwd_01d']].copy()\n",
    "\n",
    "# Dictionaries to store mutual information and IC values\n",
    "mi = {}\n",
    "ic = {}\n",
    "\n",
    "# Assuming r is your returns series\n",
    "r = data['returns']\n",
    "\n",
    "# Compute mutual information and IC for each alpha factor\n",
    "for col in alphas.columns:\n",
    "    mi[col] = get_mutual_info_score(r, alphas[col], n=100000)\n",
    "    ic[col] = get_ic(r, alphas[col])\n",
    "\n",
    "print(\"Mutual Information:\", mi)\n",
    "print(\"Information Coefficient (IC):\", ic)"
   ]
  },
  {
   "cell_type": "code",
   "execution_count": null,
   "metadata": {
    "ExecuteTime": {
     "end_time": "2021-04-16T05:53:25.144063Z",
     "start_time": "2021-04-16T05:53:25.136689Z"
    }
   },
   "outputs": [],
   "source": [
    "def alpha038(o, c):\n",
    "    \"\"\"\"-1 * rank(ts_rank(close, 10)) * rank(close / open)\"\"\"\n",
    "    return (rank(ts_rank(o, 10))\n",
    "            .mul(rank(c.div(o).replace([-np.inf, np.inf], np.nan)))\n",
    "            .mul(-1)\n",
    "            .stack('ticker')\n",
    "            .swaplevel())"
   ]
  },
  {
   "cell_type": "code",
   "execution_count": null,
   "metadata": {
    "ExecuteTime": {
     "end_time": "2021-04-16T05:56:43.052948Z",
     "start_time": "2021-04-16T05:56:43.028037Z"
    }
   },
   "outputs": [],
   "source": [
    "def alpha039(c, v, r, adv20):\n",
    "    \"\"\"-rank(ts_delta(close, 7) * (1 - rank(ts_weighted_mean(volume / adv20, 9)))) * \n",
    "            (1 + rank(ts_sum(returns, 250)))\"\"\"\n",
    "    return (rank(ts_delta(c, 7).mul(rank(ts_weighted_mean(v.div(adv20), 9)).mul(-1).add(1))).mul(-1)\n",
    "            .mul(rank(ts_mean(r, 250).add(1)))\n",
    "            .stack('ticker')\n",
    "            .swaplevel())"
   ]
  },
  {
   "cell_type": "code",
   "execution_count": null,
   "metadata": {
    "ExecuteTime": {
     "end_time": "2021-04-16T05:56:57.940786Z",
     "start_time": "2021-04-16T05:56:57.928135Z"
    }
   },
   "outputs": [],
   "source": [
    "def alpha040(h, v):\n",
    "    \"\"\"((-1 * rank(ts_std(high, 10))) * ts_corr(high, volume, 10))\n",
    "    \"\"\"\n",
    "    return (rank(ts_std(h, 10))\n",
    "            .mul(ts_corr(h, v, 10))\n",
    "            .mul(-1)\n",
    "            .stack('ticker')\n",
    "            .swaplevel())"
   ]
  },
  {
   "cell_type": "code",
   "execution_count": null,
   "metadata": {
    "ExecuteTime": {
     "end_time": "2021-04-16T05:57:14.717898Z",
     "start_time": "2021-04-16T05:57:14.715946Z"
    }
   },
   "outputs": [],
   "source": [
    "def alpha041(h, l, vwap):\n",
    "    \"\"\"power(high * low, 0.5 - vwap\"\"\"\n",
    "    return (power(h.mul(l), 0.5)\n",
    "            .sub(vwap)\n",
    "            .stack('ticker')\n",
    "            .swaplevel())"
   ]
  },
  {
   "cell_type": "code",
   "execution_count": null,
   "metadata": {
    "ExecuteTime": {
     "end_time": "2021-04-16T05:58:01.833196Z",
     "start_time": "2021-04-16T05:58:01.831299Z"
    }
   },
   "outputs": [],
   "source": [
    "def alpha042(c, vwap):\n",
    "    \"\"\"rank(vwap - close) / rank(vwap + close)\"\"\"\n",
    "    return (rank(vwap.sub(c))\n",
    "            .div(rank(vwap.add(c)))\n",
    "            .stack('ticker')\n",
    "            .swaplevel())"
   ]
  },
  {
   "cell_type": "code",
   "execution_count": null,
   "metadata": {
    "ExecuteTime": {
     "end_time": "2021-04-16T05:58:31.391655Z",
     "start_time": "2021-04-16T05:58:31.389639Z"
    }
   },
   "outputs": [],
   "source": [
    "def alpha043(c, adv20):\n",
    "    \"\"\"(ts_rank((volume / adv20), 20) * ts_rank((-1 * ts_delta(close, 7)), 8))\"\"\"\n",
    "\n",
    "    return (ts_rank(v.div(adv20), 20)\n",
    "            .mul(ts_rank(ts_delta(c, 7).mul(-1), 8))\n",
    "            .stack('ticker')\n",
    "            .swaplevel())"
   ]
  },
  {
   "cell_type": "code",
   "execution_count": null,
   "metadata": {
    "ExecuteTime": {
     "end_time": "2021-04-16T06:04:47.290504Z",
     "start_time": "2021-04-16T06:04:47.288483Z"
    }
   },
   "outputs": [],
   "source": [
    "def alpha044(h, v):\n",
    "    \"\"\"-ts_corr(high, rank(volume), 5)\"\"\"\n",
    "\n",
    "    return (ts_corr(h, rank(v), 5)\n",
    "            .replace([-np.inf, np.inf], np.nan)\n",
    "            .mul(-1)\n",
    "            .stack('ticker')\n",
    "            .swaplevel())"
   ]
  },
  {
   "cell_type": "code",
   "execution_count": null,
   "metadata": {
    "ExecuteTime": {
     "end_time": "2021-04-16T06:05:03.618010Z",
     "start_time": "2021-04-16T06:05:03.615452Z"
    }
   },
   "outputs": [],
   "source": [
    "def alpha045(c, v):\n",
    "    \"\"\"-(rank((ts_mean(ts_lag(close, 5), 20)) * \n",
    "        ts_corr(close, volume, 2)) *\n",
    "        rank(ts_corr(ts_sum(close, 5), ts_sum(close, 20), 2)))\"\"\"\n",
    "\n",
    "    return (rank(ts_mean(ts_lag(c, 5), 20))\n",
    "            .mul(ts_corr(c, v, 2)\n",
    "                 .replace([-np.inf, np.inf], np.nan))\n",
    "            .mul(rank(ts_corr(ts_sum(c, 5),\n",
    "                              ts_sum(c, 20), 2)))\n",
    "            .mul(-1)\n",
    "            .stack('ticker')\n",
    "            .swaplevel())"
   ]
  },
  {
   "cell_type": "code",
   "execution_count": null,
   "metadata": {
    "ExecuteTime": {
     "end_time": "2021-04-16T06:05:23.139170Z",
     "start_time": "2021-04-16T06:05:23.136635Z"
    }
   },
   "outputs": [],
   "source": [
    "def alpha046(c):\n",
    "    \"\"\"0.25 < ts_lag(ts_delta(close, 10), 10) / 10 - ts_delta(close, 10) / 10\n",
    "            ? -1\n",
    "            : ((ts_lag(ts_delta(close, 10), 10) / 10 - ts_delta(close, 10) / 10 < 0) \n",
    "                ? 1 \n",
    "                : -ts_delta(close, 1))\n",
    "    \"\"\"\n",
    "\n",
    "    cond = ts_lag(ts_delta(c, 10), 10).div(10).sub(ts_delta(c, 10).div(10))\n",
    "    alpha = pd.DataFrame(-np.ones_like(cond),\n",
    "                         index=c.index,\n",
    "                         columns=c.columns)\n",
    "    alpha[cond.isnull()] = np.nan\n",
    "    return (cond.where(cond > 0.25,\n",
    "                       -alpha.where(cond < 0,\n",
    "                       -ts_delta(c, 1)))\n",
    "            .stack('ticker')\n",
    "            .swaplevel())"
   ]
  },
  {
   "cell_type": "code",
   "execution_count": null,
   "metadata": {
    "ExecuteTime": {
     "end_time": "2021-04-16T06:06:29.639126Z",
     "start_time": "2021-04-16T06:06:29.636872Z"
    }
   },
   "outputs": [],
   "source": [
    "def alpha047(h, c, v, vwap, adv20):\n",
    "    \"\"\"((((rank((1 / close)) * volume) / adv20) * ((high * rank((high - close))) / \n",
    "        (ts_sum(high, 5) /5))) - rank((vwap - ts_lag(vwap, 5))))\"\"\"\n",
    "\n",
    "    return (rank(c.pow(-1)).mul(v).div(adv20)\n",
    "            .mul(h.mul(rank(h.sub(c))\n",
    "                       .div(ts_mean(h, 5)))\n",
    "                 .sub(rank(ts_delta(vwap, 5))))\n",
    "            .stack('ticker')\n",
    "            .swaplevel())"
   ]
  },
  {
   "cell_type": "code",
   "execution_count": null,
   "metadata": {
    "ExecuteTime": {
     "end_time": "2021-04-16T06:06:48.083039Z",
     "start_time": "2021-04-16T06:06:48.081065Z"
    }
   },
   "outputs": [],
   "source": [
    "def alpha48(c, industry):\n",
    "    \"\"\"(indneutralize(((ts_corr(ts_delta(close, 1), ts_delta(ts_lag(close, 1), 1), 250) * \n",
    "        ts_delta(close, 1)) / close), IndClass.subindustry) / \n",
    "        ts_sum(((ts_delta(close, 1) / ts_lag(close, 1))^2), 250))\"\"\"\n",
    "    pass"
   ]
  },
  {
   "cell_type": "code",
   "execution_count": null,
   "metadata": {
    "ExecuteTime": {
     "end_time": "2021-04-16T06:06:48.147828Z",
     "start_time": "2021-04-16T06:06:48.140589Z"
    }
   },
   "outputs": [],
   "source": [
    "def alpha049(c):\n",
    "    \"\"\"ts_delta(ts_lag(close, 10), 10).div(10).sub(ts_delta(close, 10).div(10)) < -0.1 * c\n",
    "        ? 1 \n",
    "        : -ts_delta(close, 1)\"\"\"\n",
    "    cond = (ts_delta(ts_lag(c, 10), 10).div(10)\n",
    "            .sub(ts_delta(c, 10).div(10)) >= -0.1 * c)\n",
    "    return (-ts_delta(c, 1)\n",
    "            .where(cond, 1)\n",
    "            .stack('ticker')\n",
    "            .swaplevel())"
   ]
  },
  {
   "cell_type": "code",
   "execution_count": null,
   "metadata": {
    "ExecuteTime": {
     "end_time": "2021-04-16T06:09:59.677510Z",
     "start_time": "2021-04-16T06:09:59.675190Z"
    }
   },
   "outputs": [],
   "source": [
    "def alpha050(v, vwap):\n",
    "    \"\"\"-ts_max(rank(ts_corr(rank(volume), rank(vwap), 5)), 5)\"\"\"\n",
    "    return (ts_max(rank(ts_corr(rank(v),\n",
    "                                rank(vwap), 5)), 5)\n",
    "            .mul(-1)\n",
    "            .stack('ticker')\n",
    "            .swaplevel())"
   ]
  },
  {
   "cell_type": "code",
   "execution_count": null,
   "metadata": {
    "ExecuteTime": {
     "end_time": "2021-04-16T06:10:15.318043Z",
     "start_time": "2021-04-16T06:10:15.315861Z"
    }
   },
   "outputs": [],
   "source": [
    "def alpha051(c):\n",
    "    \"\"\"ts_delta(ts_lag(close, 10), 10).div(10).sub(ts_delta(close, 10).div(10)) < -0.05 * c\n",
    "        ? 1 \n",
    "        : -ts_delta(close, 1)\"\"\"\n",
    "    cond = (ts_delta(ts_lag(c, 10), 10).div(10)\n",
    "            .sub(ts_delta(c, 10).div(10)) >= -0.05 * c)\n",
    "    return (-ts_delta(c, 1)\n",
    "            .where(cond, 1)\n",
    "            .stack('ticker')\n",
    "            .swaplevel())"
   ]
  },
  {
   "cell_type": "code",
   "execution_count": null,
   "metadata": {
    "ExecuteTime": {
     "end_time": "2021-04-16T06:13:30.304338Z",
     "start_time": "2021-04-16T06:13:30.302090Z"
    }
   },
   "outputs": [],
   "source": [
    "def alpha052(l, v, r):\n",
    "    \"\"\"(ts_lag(ts_min(low, 5), 5) - ts_min(low, 5)) * \n",
    "        rank((ts_sum(returns, 240) - ts_sum(returns, 20)) / 220) * \n",
    "        ts_rank(volume, 5)\n",
    "    \"\"\"\n",
    "    return (ts_delta(ts_min(l, 5), 5)\n",
    "            .mul(rank(ts_sum(r, 240)\n",
    "                      .sub(ts_sum(r, 20))\n",
    "                      .div(220)))\n",
    "            .mul(ts_rank(v, 5))\n",
    "            .stack('ticker')\n",
    "            .swaplevel())"
   ]
  },
  {
   "cell_type": "code",
   "execution_count": null,
   "metadata": {
    "ExecuteTime": {
     "end_time": "2021-04-16T06:17:29.591479Z",
     "start_time": "2021-04-16T06:17:29.589243Z"
    }
   },
   "outputs": [],
   "source": [
    "def alpha053(h, l, c):\n",
    "    \"\"\"-1 * ts_delta(1 - (high - close) / (close - low), 9)\"\"\"\n",
    "    inner = (c.sub(l)).add(1e-6)\n",
    "    return (ts_delta(h.sub(c)\n",
    "                     .mul(-1).add(1)\n",
    "                     .div(c.sub(l)\n",
    "                          .add(1e-6)), 9)\n",
    "            .mul(-1)\n",
    "            .stack('ticker')\n",
    "            .swaplevel())"
   ]
  },
  {
   "cell_type": "code",
   "execution_count": null,
   "metadata": {
    "ExecuteTime": {
     "end_time": "2021-04-16T14:12:24.162259Z",
     "start_time": "2021-04-16T14:12:24.159008Z"
    }
   },
   "outputs": [],
   "source": [
    "def alpha054(o, h, l, c):\n",
    "    \"\"\"-(low - close) * power(open, 5) / ((low - high) * power(close, 5))\"\"\"\n",
    "    return (l.sub(c).mul(o.pow(5)).mul(-1)\n",
    "            .div(l.sub(h).replace(0, -0.0001).mul(c ** 5))\n",
    "            .stack('ticker')\n",
    "            .swaplevel())"
   ]
  },
  {
   "cell_type": "code",
   "execution_count": null,
   "metadata": {
    "ExecuteTime": {
     "end_time": "2021-04-16T14:12:39.462200Z",
     "start_time": "2021-04-16T14:12:39.449509Z"
    }
   },
   "outputs": [],
   "source": [
    "def alpha055(h, l, c):\n",
    "    \"\"\"(-1 * ts_corr(rank(((close - ts_min(low, 12)) / \n",
    "                            (ts_max(high, 12) - ts_min(low,12)))), \n",
    "                    rank(volume), 6))\"\"\"\n",
    "\n",
    "    return (ts_corr(rank(c.sub(ts_min(l, 12))\n",
    "                         .div(ts_max(h, 12).sub(ts_min(l, 12))\n",
    "                              .replace(0, 1e-6))),\n",
    "                    rank(v), 6)\n",
    "            .replace([-np.inf, np.inf], np.nan)\n",
    "            .mul(-1)\n",
    "            .stack('ticker')\n",
    "            .swaplevel())"
   ]
  },
  {
   "cell_type": "code",
   "execution_count": null,
   "metadata": {
    "ExecuteTime": {
     "end_time": "2021-04-16T14:12:56.079684Z",
     "start_time": "2021-04-16T14:12:56.078104Z"
    }
   },
   "outputs": [],
   "source": [
    "def alpha056(r, cap):\n",
    "    \"\"\"-rank(ts_sum(returns, 10) / ts_sum(ts_sum(returns, 2), 3)) * \n",
    "        rank((returns * cap))\n",
    "    \"\"\"\n",
    "    pass"
   ]
  },
  {
   "cell_type": "code",
   "execution_count": null,
   "metadata": {
    "ExecuteTime": {
     "end_time": "2021-04-16T14:12:56.094273Z",
     "start_time": "2021-04-16T14:12:56.080506Z"
    }
   },
   "outputs": [],
   "source": [
    "def alpha057(c, vwap):\n",
    "    \"\"\"-(close - vwap) / ts_weighted_mean(rank(ts_argmax(close, 30)), 2)\"\"\"\n",
    "    return (c.sub(vwap.add(1e-5))\n",
    "            .div(ts_weighted_mean(rank(ts_argmax(c, 30)))).mul(-1)\n",
    "            .stack('ticker')\n",
    "            .swaplevel())"
   ]
  },
  {
   "cell_type": "code",
   "execution_count": null,
   "metadata": {
    "ExecuteTime": {
     "end_time": "2021-04-16T14:16:02.022307Z",
     "start_time": "2021-04-16T14:16:02.020707Z"
    }
   },
   "outputs": [],
   "source": [
    "def alpha58(v, wvap, sector):\n",
    "    \"\"\"(-1 * ts_rank(ts_weighted_mean(ts_corr(IndNeutralize(vwap, IndClass.sector), volume, 3), 7), 5))\"\"\"\n",
    "    pass"
   ]
  },
  {
   "cell_type": "code",
   "execution_count": null,
   "metadata": {
    "ExecuteTime": {
     "end_time": "2021-04-16T14:16:02.031781Z",
     "start_time": "2021-04-16T14:16:02.024635Z"
    }
   },
   "outputs": [],
   "source": [
    "def alpha59(v, wvap, industry):\n",
    "    \"\"\"-ts_rank(ts_weighted_mean(ts_corr(IndNeutralize(vwap, IndClass.industry), volume, 4), 16), 8)\"\"\"\n",
    "    pass"
   ]
  },
  {
   "cell_type": "code",
   "execution_count": null,
   "metadata": {
    "ExecuteTime": {
     "end_time": "2021-04-16T14:16:02.040727Z",
     "start_time": "2021-04-16T14:16:02.033218Z"
    }
   },
   "outputs": [],
   "source": [
    "def alpha060(l, h, c, v):\n",
    "    \"\"\"-((2 * scale(rank(((((close - low) - (high - close)) / (high - low)) * volume)))) -scale(rank(ts_argmax(close, 10))))\"\"\"\n",
    "    return (scale(rank(c.mul(2).sub(l).sub(h)\n",
    "                       .div(h.sub(l).replace(0, 1e-5))\n",
    "                       .mul(v))).mul(2)\n",
    "            .sub(scale(rank(ts_argmax(c, 10)))).mul(-1)\n",
    "            .stack('ticker')\n",
    "            .swaplevel())"
   ]
  },
  {
   "cell_type": "code",
   "execution_count": null,
   "metadata": {
    "ExecuteTime": {
     "end_time": "2021-04-16T14:18:11.653681Z",
     "start_time": "2021-04-16T14:18:11.650743Z"
    }
   },
   "outputs": [],
   "source": [
    "def alpha061(v, vwap):\n",
    "    \"\"\"rank((vwap - ts_min(vwap, 16))) < rank(ts_corr(vwap, adv180, 17))\"\"\"\n",
    "\n",
    "    return (rank(vwap.sub(ts_min(vwap, 16)))\n",
    "            .lt(rank(ts_corr(vwap, ts_mean(v, 180), 18)))\n",
    "            .astype(int)\n",
    "            .stack('ticker')\n",
    "            .swaplevel())"
   ]
  },
  {
   "cell_type": "code",
   "execution_count": null,
   "metadata": {
    "ExecuteTime": {
     "end_time": "2021-04-16T14:18:19.014396Z",
     "start_time": "2021-04-16T14:18:19.011661Z"
    }
   },
   "outputs": [],
   "source": [
    "def alpha062(o, h, l, vwap, adv20):\n",
    "    \"\"\"((rank(ts_corr(vwap, ts_sum(adv20, 22.4101), 9.91009)) < \n",
    "    rank(((rank(open) + rank(open)) < (rank(((high + low) / 2)) + rank(high))))) * -1)\"\"\"\n",
    "    return (rank(ts_corr(vwap, ts_sum(adv20, 22), 9))\n",
    "            .lt(rank(\n",
    "                rank(o).mul(2))\n",
    "                .lt(rank(h.add(l).div(2))\n",
    "                    .add(rank(h))))\n",
    "            .mul(-1)\n",
    "            .stack('ticker')\n",
    "            .swaplevel())"
   ]
  },
  {
   "cell_type": "code",
   "execution_count": null,
   "metadata": {
    "ExecuteTime": {
     "end_time": "2021-04-16T14:18:32.178156Z",
     "start_time": "2021-04-16T14:18:32.163557Z"
    }
   },
   "outputs": [],
   "source": [
    "def alpha63(v, wvap, industry):\n",
    "    \"\"\"((rank(ts_weighted_mean(ts_delta(IndNeutralize(close, IndClass.industry), 2), 8)) - \n",
    "        rank(ts_weighted_mean(ts_corr(((vwap * 0.318108) + (open * (1 - 0.318108))), \n",
    "                                        ts_sum(adv180, 37), 13), 12))) * -1)\n",
    "    \"\"\"\n",
    "    pass"
   ]
  },
  {
   "cell_type": "code",
   "execution_count": null,
   "metadata": {
    "ExecuteTime": {
     "end_time": "2021-04-16T14:18:32.238980Z",
     "start_time": "2021-04-16T14:18:32.228618Z"
    }
   },
   "outputs": [],
   "source": [
    "def alpha064(o, h, l, v, vwap):\n",
    "    \"\"\"((rank(ts_corr(ts_sum(((open * 0.178404) + (low * (1 - 0.178404))), 12.7054),ts_sum(adv120, 12.7054), 16.6208)) <\n",
    "        rank(ts_delta(((((high + low) / 2) * 0.178404) + (vwap * (1 -0.178404))), 3.69741))) * -1)\"\"\"\n",
    "    w = 0.178404\n",
    "    return (rank(ts_corr(ts_sum(o.mul(w).add(l.mul(1 - w)), 12),\n",
    "                         ts_sum(ts_mean(v, 120), 12), 16))\n",
    "            .lt(rank(ts_delta(h.add(l).div(2).mul(w)\n",
    "                               .add(vwap.mul(1 - w)), 3)))\n",
    "            .mul(-1)\n",
    "            .stack('ticker')\n",
    "            .swaplevel())"
   ]
  },
  {
   "cell_type": "code",
   "execution_count": null,
   "metadata": {
    "ExecuteTime": {
     "end_time": "2021-04-16T14:18:47.408986Z",
     "start_time": "2021-04-16T14:18:47.406537Z"
    }
   },
   "outputs": [],
   "source": [
    "def alpha065(o, v, vwap):\n",
    "    \"\"\"((rank(ts_corr(((open * 0.00817205) + (vwap * (1 - 0.00817205))), \n",
    "                        ts_sum(adv60,8.6911), 6.40374)) < \n",
    "        rank((open - ts_min(open, 13.635)))) * -1)\n",
    "    \"\"\"\n",
    "    w = 0.00817205\n",
    "    return (rank(ts_corr(o.mul(w).add(vwap.mul(1 - w)),\n",
    "                         ts_mean(ts_mean(v, 60), 9), 6))\n",
    "            .lt(rank(o.sub(ts_min(o, 13))))\n",
    "            .mul(-1)\n",
    "            .stack('ticker')\n",
    "            .swaplevel())"
   ]
  },
  {
   "cell_type": "code",
   "execution_count": null,
   "metadata": {
    "ExecuteTime": {
     "end_time": "2021-04-16T14:19:03.348934Z",
     "start_time": "2021-04-16T14:19:03.346522Z"
    }
   },
   "outputs": [],
   "source": [
    "def alpha066(l, h, vwap):\n",
    "    \"\"\"((rank(ts_weighted_mean(ts_delta(vwap, 3.51013), 7.23052)) +\n",
    "        ts_rank(ts_weighted_mean(((((low* 0.96633) + (low *\n",
    "                                    (1 - 0.96633))) - vwap) /\n",
    "                                    (open - ((high + low) / 2))), 11.4157), 6.72611)) * -1)\n",
    "    \"\"\"\n",
    "    w = 0.96633\n",
    "    return (rank(ts_weighted_mean(ts_delta(vwap, 4), 7))\n",
    "            .add(ts_rank(ts_weighted_mean(l.mul(w).add(l.mul(1 - w))\n",
    "                                           .sub(vwap)\n",
    "                                           .div(o.sub(h.add(l).div(2)).add(1e-3)), 11), 7))\n",
    "            .mul(-1)\n",
    "            .stack('ticker')\n",
    "            .swaplevel())"
   ]
  },
  {
   "cell_type": "code",
   "execution_count": null,
   "metadata": {
    "ExecuteTime": {
     "end_time": "2021-04-16T14:22:16.722140Z",
     "start_time": "2021-04-16T14:22:16.720453Z"
    }
   },
   "outputs": [],
   "source": [
    "def alpha067(h, v, sector, subindustry):\n",
    "    \"\"\"(power(rank((high - ts_min(high, 2.14593))),\n",
    "        rank(ts_corr(IndNeutralize(vwap,IndClass.sector), \n",
    "                IndNeutralize(adv20, IndClass.subindustry), 6.02936))) * -1)\n",
    "    \"\"\"\n",
    "    pass"
   ]
  },
  {
   "cell_type": "code",
   "execution_count": null,
   "metadata": {
    "ExecuteTime": {
     "end_time": "2021-04-16T14:22:16.806028Z",
     "start_time": "2021-04-16T14:22:16.798687Z"
    }
   },
   "outputs": [],
   "source": [
    "def alpha068(h, c, v):\n",
    "    \"\"\"((ts_rank(ts_corr(rank(high), rank(adv15), 8.91644), 13.9333) <\n",
    "        rank(ts_delta(((close * 0.518371) + (low * (1 - 0.518371))), 1.06157))) * -1)\n",
    "    \"\"\"\n",
    "    w = 0.518371\n",
    "    return (ts_rank(ts_corr(rank(h), rank(ts_mean(v, 15)), 9), 14)\n",
    "            .lt(rank(ts_delta(c.mul(w).add(l.mul(1 - w)), 1)))\n",
    "            .mul(-1)\n",
    "            .stack('ticker')\n",
    "            .swaplevel())"
   ]
  },
  {
   "cell_type": "code",
   "execution_count": null,
   "metadata": {
    "ExecuteTime": {
     "end_time": "2021-04-16T14:25:21.438899Z",
     "start_time": "2021-04-16T14:25:21.437172Z"
    }
   },
   "outputs": [],
   "source": [
    "def alpha069(c, vwap, industry):\n",
    "    \"\"\"((power(rank(ts_max(ts_delta(IndNeutralize(vwap, IndClass.industry), 2.72412),4.79344)),\n",
    "    Ts_Rank(ts_corr(((close * 0.490655) + (vwap * (1 - 0.490655))), adv20, 4.92416),9.0615))) * -1)\n",
    "    \"\"\"\n",
    "    pass"
   ]
  },
  {
   "cell_type": "code",
   "execution_count": null,
   "metadata": {
    "ExecuteTime": {
     "end_time": "2021-04-16T14:25:21.449107Z",
     "start_time": "2021-04-16T14:25:21.439848Z"
    }
   },
   "outputs": [],
   "source": [
    "def alpha076(c, v, vwap, industry):\n",
    "    \"\"\"((power(rank(ts_delta(vwap, 1.29456)),\n",
    "        ts_rank(ts_corr(IndNeutralize(close, IndClass.industry), adv50, 17.8256), 17.9171))) * -1)\n",
    "    \"\"\"\n",
    "    pass"
   ]
  },
  {
   "cell_type": "code",
   "execution_count": null,
   "metadata": {
    "ExecuteTime": {
     "end_time": "2021-04-16T14:25:21.465423Z",
     "start_time": "2021-04-16T14:25:21.458166Z"
    }
   },
   "outputs": [],
   "source": [
    "def alpha071(o, c, v, vwap):\n",
    "    \"\"\"max(ts_rank(ts_weighted_mean(ts_corr(ts_rank(close, 3.43976), ts_rank(adv180,12.0647), 18.0175), 4.20501), 15.6948), \n",
    "            ts_rank(ts_weighted_mean((rank(((low + open) - (vwap +vwap)))^2), 16.4662), 4.4388))\"\"\"\n",
    "\n",
    "    s1 = (ts_rank(ts_weighted_mean(ts_corr(ts_rank(c, 3),\n",
    "                                           ts_rank(ts_mean(v, 180), 12), 18), 4), 16))\n",
    "    s2 = (ts_rank(ts_weighted_mean(rank(l.add(o).\n",
    "                                        sub(vwap.mul(2)))\n",
    "                                   .pow(2), 16), 4))\n",
    "    return (s1.where(s1 > s2, s2)\n",
    "            .stack('ticker')\n",
    "            .swaplevel())"
   ]
  },
  {
   "cell_type": "code",
   "execution_count": null,
   "metadata": {
    "ExecuteTime": {
     "end_time": "2021-04-16T14:35:03.590469Z",
     "start_time": "2021-04-16T14:35:03.588125Z"
    }
   },
   "outputs": [],
   "source": [
    "def alpha072(h, l, v, vwap):\n",
    "    \"\"\"(rank(ts_weighted_mean(ts_corr(((high + low) / 2), adv40, 8.93345), 10.1519)) /\n",
    "        rank(ts_weighted_mean(ts_corr(ts_rank(vwap, 3.72469), ts_rank(volume, 18.5188), 6.86671), 2.95011)))\n",
    "    \"\"\"\n",
    "    return (rank(ts_weighted_mean(ts_corr(h.add(l).div(2), ts_mean(v, 40), 9), 10))\n",
    "            .div(rank(ts_weighted_mean(ts_corr(ts_rank(vwap, 3), ts_rank(v, 18), 6), 2)))\n",
    "            .stack('ticker')\n",
    "            .swaplevel())"
   ]
  },
  {
   "cell_type": "code",
   "execution_count": null,
   "metadata": {
    "ExecuteTime": {
     "end_time": "2021-04-16T14:41:17.746677Z",
     "start_time": "2021-04-16T14:41:17.742299Z"
    }
   },
   "outputs": [],
   "source": [
    "def alpha073(l, vwap):\n",
    "    \"\"\"(max(rank(ts_weighted_mean(ts_delta(vwap, 4.72775), 2.91864)),\n",
    "        ts_rank(ts_weighted_mean(((ts_delta(((open * 0.147155) + \n",
    "            (low * (1 - 0.147155))), 2.03608) / \n",
    "            ((open *0.147155) + (low * (1 - 0.147155)))) * -1), 3.33829), 16.7411)) * -1)\n",
    "        \"\"\"\n",
    "    w = 0.147155\n",
    "    s1 = rank(ts_weighted_mean(ts_delta(vwap, 5), 3))\n",
    "    s2 = (ts_rank(ts_weighted_mean(ts_delta(o.mul(w).add(l.mul(1 - w)), 2)\n",
    "                                   .div(o.mul(w).add(l.mul(1 - w)).mul(-1)), 3), 16))\n",
    "\n",
    "    print(s2)\n",
    "    return (s1.where(s1 > s2, s2)\n",
    "            .mul(-1)\n",
    "            .stack('ticker')\n",
    "            .swaplevel())"
   ]
  },
  {
   "cell_type": "code",
   "execution_count": null,
   "metadata": {
    "ExecuteTime": {
     "end_time": "2021-04-16T14:44:32.964223Z",
     "start_time": "2021-04-16T14:44:32.961866Z"
    }
   },
   "outputs": [],
   "source": [
    "def alpha074(v, vwap):\n",
    "    \"\"\"((rank(ts_corr(close, ts_sum(adv30, 37.4843), 15.1365)) <\n",
    "        rank(ts_corr(rank(((high * 0.0261661) + (vwap * (1 - 0.0261661)))), rank(volume), 11.4791)))* -1)\"\"\"\n",
    "\n",
    "    w = 0.0261661\n",
    "    return (rank(ts_corr(c, ts_mean(ts_mean(v, 30), 37), 15))\n",
    "            .lt(rank(ts_corr(rank(h.mul(w).add(vwap.mul(1 - w))), rank(v), 11)))\n",
    "            .mul(-1)\n",
    "            .stack('ticker')\n",
    "            .swaplevel())"
   ]
  },
  {
   "cell_type": "code",
   "execution_count": null,
   "metadata": {
    "ExecuteTime": {
     "end_time": "2021-04-16T14:44:49.637283Z",
     "start_time": "2021-04-16T14:44:49.635049Z"
    }
   },
   "outputs": [],
   "source": [
    "def alpha075(l, v, vwap):\n",
    "    \"\"\"(rank(ts_corr(vwap, volume, 4.24304)) < \n",
    "        rank(ts_corr(rank(low), rank(adv50),12.4413)))\n",
    "    \"\"\"\n",
    "\n",
    "    return (rank(ts_corr(vwap, v, 4))\n",
    "            .lt(rank(ts_corr(rank(l), rank(ts_mean(v, 50)), 12)))\n",
    "            .astype(int)\n",
    "            .stack('ticker')\n",
    "            .swaplevel())"
   ]
  },
  {
   "cell_type": "code",
   "execution_count": null,
   "metadata": {
    "ExecuteTime": {
     "end_time": "2021-04-16T14:44:57.109673Z",
     "start_time": "2021-04-16T14:44:57.107866Z"
    }
   },
   "outputs": [],
   "source": [
    "def alpha076(l, vwap, sector):\n",
    "    \"\"\"(max(rank(ts_weighted_mean(ts_delta(vwap, 1.24383), 11.8259)),\n",
    "            ts_rank(ts_weighted_mean(ts_rank(ts_corr(IndNeutralize(low, IndClass.sector), adv81,8.14941), 19.569), 17.1543), 19.383)) * -1)\n",
    "    \"\"\"\n",
    "    pass"
   ]
  },
  {
   "cell_type": "code",
   "execution_count": null,
   "metadata": {
    "ExecuteTime": {
     "end_time": "2021-04-16T14:44:57.130228Z",
     "start_time": "2021-04-16T14:44:57.123218Z"
    }
   },
   "outputs": [],
   "source": [
    "def alpha077(l, h, vwap):\n",
    "    \"\"\"min(rank(ts_weighted_mean(((((high + low) / 2) + high) - (vwap + high)), 20.0451)),\n",
    "            rank(ts_weighted_mean(ts_corr(((high + low) / 2), adv40, 3.1614), 5.64125)))\n",
    "    \"\"\"\n",
    "\n",
    "    s1 = rank(ts_weighted_mean(h.add(l).div(2).sub(vwap), 20))\n",
    "    s2 = rank(ts_weighted_mean(ts_corr(h.add(l).div(2), ts_mean(v, 40), 3), 5))\n",
    "    return (s1.where(s1 < s2, s2)\n",
    "            .stack('ticker')\n",
    "            .swaplevel())"
   ]
  },
  {
   "cell_type": "code",
   "execution_count": null,
   "metadata": {
    "ExecuteTime": {
     "end_time": "2021-04-16T14:45:13.742520Z",
     "start_time": "2021-04-16T14:45:13.740012Z"
    }
   },
   "outputs": [],
   "source": [
    "def alpha078(l, v, vwap):\n",
    "    \"\"\"(rank(ts_corr(ts_sum(((low * 0.352233) + (vwap * (1 - 0.352233))), 19.7428),\n",
    "        ts_sum(adv40, 19.7428), 6.83313))^rank(ts_corr(rank(vwap), rank(volume), 5.77492)))\"\"\"\n",
    "\n",
    "    w = 0.352233\n",
    "    return (rank(ts_corr(ts_sum((l.mul(w).add(vwap.mul(1 - w))), 19),\n",
    "                         ts_sum(ts_mean(v, 40), 19), 6))\n",
    "            .pow(rank(ts_corr(rank(vwap), rank(v), 5)))\n",
    "            .stack('ticker')\n",
    "            .swaplevel())"
   ]
  },
  {
   "cell_type": "code",
   "execution_count": null,
   "metadata": {
    "ExecuteTime": {
     "end_time": "2021-04-16T14:45:31.288447Z",
     "start_time": "2021-04-16T14:45:31.286714Z"
    }
   },
   "outputs": [],
   "source": [
    "def alpha079(o, v, sector):\n",
    "    \"\"\"(rank(ts_delta(IndNeutralize(((close * 0.60733) + (open * (1 - 0.60733))),IndClass.sector), 1.23438)) < \n",
    "        rank(ts_corr(Ts_Rank(vwap, 3.60973), Ts_Rank(adv150,9.18637), 14.6644)))\n",
    "    \"\"\"\n",
    "    pass"
   ]
  },
  {
   "cell_type": "code",
   "execution_count": null,
   "metadata": {
    "ExecuteTime": {
     "end_time": "2021-04-16T14:45:31.303815Z",
     "start_time": "2021-04-16T14:45:31.289397Z"
    }
   },
   "outputs": [],
   "source": [
    "def alpha080(h, industry):\n",
    "    \"\"\"((power(rank(sign(ts_delta(IndNeutralize(((open * 0.868128) + (high * (1 - 0.868128))),IndClass.industry), 4.04545))),\n",
    "        ts_rank(ts_corr(high, adv10, 5.11456), 5.53756)) * -1)\n",
    "    \"\"\"\n",
    "    pass"
   ]
  },
  {
   "cell_type": "code",
   "execution_count": null,
   "metadata": {
    "ExecuteTime": {
     "end_time": "2021-04-16T14:45:31.312106Z",
     "start_time": "2021-04-16T14:45:31.304771Z"
    }
   },
   "outputs": [],
   "source": [
    "def alpha081(v, vwap):\n",
    "    \"\"\"-(rank(log(ts_product(rank((rank(ts_corr(vwap, ts_sum(adv10, 49.6054),8.47743))^4)), 14.9655))) <\n",
    "        rank(ts_corr(rank(vwap), rank(volume), 5.07914)))\"\"\"\n",
    "\n",
    "    return (rank(log(ts_product(rank(rank(ts_corr(vwap,\n",
    "                                                  ts_sum(ts_mean(v, 10), 50), 8))\n",
    "                                     .pow(4)), 15)))\n",
    "            .lt(rank(ts_corr(rank(vwap), rank(v), 5)))\n",
    "            .mul(-1)\n",
    "            .stack('ticker')\n",
    "            .swaplevel())"
   ]
  },
  {
   "cell_type": "code",
   "execution_count": null,
   "metadata": {
    "ExecuteTime": {
     "end_time": "2021-04-16T14:47:40.230304Z",
     "start_time": "2021-04-16T14:47:40.216202Z"
    }
   },
   "outputs": [],
   "source": [
    "def alpha082(o, v, sector):\n",
    "    \"\"\"(min(rank(ts_weighted_mean(ts_delta(open, 1.46063), 14.8717)),\n",
    "        ts_rank(ts_weighted_mean(ts_corr(IndNeutralize(volume, IndClass.sector), \n",
    "        ((open * 0.634196) +(open * (1 - 0.634196))), 17.4842), 6.92131), 13.4283)) * -1)\n",
    "    \n",
    "    \"\"\"\n",
    "    pass"
   ]
  },
  {
   "cell_type": "code",
   "execution_count": null,
   "metadata": {
    "ExecuteTime": {
     "end_time": "2021-04-16T14:47:40.238173Z",
     "start_time": "2021-04-16T14:47:40.231217Z"
    }
   },
   "outputs": [],
   "source": [
    "def alpha083(h, l, c):\n",
    "    \"\"\"(rank(ts_lag((high - low) / ts_mean(close, 5), 2)) * rank(rank(volume)) / \n",
    "            (((high - low) / ts_mean(close, 5) / (vwap - close)))\n",
    "    \"\"\"\n",
    "    s = h.sub(l).div(ts_mean(c, 5))\n",
    "\n",
    "    return (rank(rank(ts_lag(s, 2))\n",
    "                 .mul(rank(rank(v)))\n",
    "                 .div(s).div(vwap.sub(c).add(1e-3)))\n",
    "            .stack('ticker')\n",
    "            .swaplevel()\n",
    "            .replace((np.inf, -np.inf), np.nan))"
   ]
  },
  {
   "cell_type": "code",
   "execution_count": null,
   "metadata": {
    "ExecuteTime": {
     "end_time": "2021-04-16T14:47:55.747405Z",
     "start_time": "2021-04-16T14:47:55.745412Z"
    }
   },
   "outputs": [],
   "source": [
    "def alpha084(c, vwap):\n",
    "    \"\"\"power(ts_rank((vwap - ts_max(vwap, 15.3217)), 20.7127), \n",
    "        ts_delta(close,4.96796))\"\"\"\n",
    "    return (rank(power(ts_rank(vwap.sub(ts_max(vwap, 15)), 20),\n",
    "                       ts_delta(c, 6)))\n",
    "            .stack('ticker')\n",
    "            .swaplevel())"
   ]
  },
  {
   "cell_type": "code",
   "execution_count": null,
   "metadata": {
    "ExecuteTime": {
     "end_time": "2021-04-16T14:51:10.956032Z",
     "start_time": "2021-04-16T14:51:10.953678Z"
    }
   },
   "outputs": [],
   "source": [
    "def alpha085(l, v):\n",
    "    \"\"\"power(rank(ts_corr(((high * 0.876703) + (close * (1 - 0.876703))), adv30,9.61331)),\n",
    "        rank(ts_corr(ts_rank(((high + low) / 2), 3.70596), \n",
    "                     ts_rank(volume, 10.1595),7.11408)))\n",
    "                     \"\"\"\n",
    "    w = 0.876703\n",
    "    return (rank(ts_corr(h.mul(w).add(c.mul(1 - w)), ts_mean(v, 30), 10))\n",
    "            .pow(rank(ts_corr(ts_rank(h.add(l).div(2), 4),\n",
    "                              ts_rank(v, 10), 7)))\n",
    "            .stack('ticker')\n",
    "            .swaplevel())"
   ]
  },
  {
   "cell_type": "code",
   "execution_count": null,
   "metadata": {
    "ExecuteTime": {
     "end_time": "2021-04-16T14:57:38.854662Z",
     "start_time": "2021-04-16T14:57:38.852381Z"
    }
   },
   "outputs": [],
   "source": [
    "def alpha086(c, v, vwap):\n",
    "    \"\"\"((ts_rank(ts_corr(close, ts_sum(adv20, 14.7444), 6.00049), 20.4195) < \n",
    "        rank(((open + close) - (vwap + open)))) * -1)\n",
    "    \"\"\"\n",
    "    return (ts_rank(ts_corr(c, ts_mean(ts_mean(v, 20), 15), 6), 20)\n",
    "            .lt(rank(c.sub(vwap)))\n",
    "            .mul(-1)\n",
    "            .stack('ticker')\n",
    "            .swaplevel())"
   ]
  },
  {
   "cell_type": "code",
   "execution_count": null,
   "metadata": {
    "ExecuteTime": {
     "end_time": "2021-04-16T15:00:52.295732Z",
     "start_time": "2021-04-16T15:00:52.293965Z"
    }
   },
   "outputs": [],
   "source": [
    "def alpha087(c, vwap, industry):\n",
    "    \"\"\"(max(rank(ts_weighted_mean(ts_delta(((close * 0.369701) + (vwap * (1 - 0.369701))),1.91233), 2.65461)), \n",
    "            ts_rank(ts_weighted_mean(abs(ts_corr(IndNeutralize(adv81,IndClass.industry), close, 13.4132)), 4.89768), 14.4535)) * -1)\n",
    "    \"\"\"\n",
    "    pass"
   ]
  },
  {
   "cell_type": "code",
   "execution_count": null,
   "metadata": {
    "ExecuteTime": {
     "end_time": "2021-04-16T15:00:52.306742Z",
     "start_time": "2021-04-16T15:00:52.296590Z"
    }
   },
   "outputs": [],
   "source": [
    "def alpha088(o, h, l, c, v):\n",
    "    \"\"\"min(rank(ts_weighted_mean(((rank(open) + rank(low)) - (rank(high) + rank(close))),8.06882)), \n",
    "        ts_rank(ts_weighted_mean(ts_corr(ts_rank(close, 8.44728), \n",
    "                ts_rank(adv60,20.6966), 8.01266), 6.65053), 2.61957))\"\"\"\n",
    "\n",
    "    s1 = (rank(ts_weighted_mean(rank(o)\n",
    "                                .add(rank(l))\n",
    "                                .sub(rank(h))\n",
    "                                .add(rank(c)), 8)))\n",
    "    s2 = ts_rank(ts_weighted_mean(ts_corr(ts_rank(c, 8),\n",
    "                                          ts_rank(ts_mean(v, 60), 20), 8), 6), 2)\n",
    "\n",
    "    return (s1.where(s1 < s2, s2)\n",
    "            .stack('ticker')\n",
    "            .swaplevel())"
   ]
  },
  {
   "cell_type": "code",
   "execution_count": null,
   "metadata": {
    "ExecuteTime": {
     "end_time": "2021-04-16T15:07:08.812951Z",
     "start_time": "2021-04-16T15:07:08.810805Z"
    }
   },
   "outputs": [],
   "source": [
    "def alpha089(l, v, vwap, industry):\n",
    "    \"\"\"(ts_rank(ts_weighted_mean(ts_corr(((low * 0.967285) + \n",
    "        (low * (1 - 0.967285))), adv10,6.94279), 5.51607), 3.79744) - \n",
    "        ts_rank(ts_weighted_mean(ts_delta(IndNeutralize(vwap,IndClass.industry), 3.48158), 10.1466), 15.3012))\n",
    "    \"\"\"\n",
    "    pass"
   ]
  },
  {
   "cell_type": "code",
   "execution_count": null,
   "metadata": {
    "ExecuteTime": {
     "end_time": "2021-04-16T15:07:08.824082Z",
     "start_time": "2021-04-16T15:07:08.814141Z"
    }
   },
   "outputs": [],
   "source": [
    "def alpha090(c, l, subindustry):\n",
    "    \"\"\"((rank((close - ts_max(close, 4.66719)))\n",
    "        ^ts_rank(ts_corr(IndNeutralize(adv40,IndClass.subindustry), low, 5.38375), 3.21856)) * -1)\n",
    "    \"\"\"\n",
    "    pass"
   ]
  },
  {
   "cell_type": "code",
   "execution_count": null,
   "metadata": {
    "ExecuteTime": {
     "end_time": "2021-04-16T15:07:08.832367Z",
     "start_time": "2021-04-16T15:07:08.825223Z"
    }
   },
   "outputs": [],
   "source": [
    "def alpha091(v, vwap, industry):\n",
    "    \"\"\"((ts_rank(ts_weighted_mean(ts_weighted_mean(ts_corr(IndNeutralize(close,IndClass.industry), volume, 9.74928), 16.398), 3.83219), 4.8667) -\n",
    "        rank(ts_weighted_mean(ts_corr(vwap, adv30, 4.01303), 2.6809))) * -1)\n",
    "    \"\"\"\n",
    "    pass"
   ]
  },
  {
   "cell_type": "code",
   "execution_count": null,
   "metadata": {
    "ExecuteTime": {
     "end_time": "2021-04-16T15:07:08.840614Z",
     "start_time": "2021-04-16T15:07:08.833539Z"
    }
   },
   "outputs": [],
   "source": [
    "def alpha092(o, l, c, v):\n",
    "    \"\"\"min(ts_rank(ts_weighted_mean(((((high + low) / 2) + close) < (low + open)), 14.7221),18.8683), \n",
    "            ts_rank(ts_weighted_mean(ts_corr(rank(low), rank(adv30), 7.58555), 6.94024),6.80584))\n",
    "    \"\"\"\n",
    "    p1 = ts_rank(ts_weighted_mean(h.add(l).div(2).add(c).lt(l.add(o)), 15), 18)\n",
    "    p2 = ts_rank(ts_weighted_mean(ts_corr(rank(l), rank(ts_mean(v, 30)), 7), 6), 6)\n",
    "\n",
    "    return (p1.where(p1<p2, p2)\n",
    "            .stack('ticker')\n",
    "            .swaplevel())"
   ]
  },
  {
   "cell_type": "code",
   "execution_count": null,
   "metadata": {
    "ExecuteTime": {
     "end_time": "2021-04-16T15:11:53.945088Z",
     "start_time": "2021-04-16T15:11:53.942874Z"
    }
   },
   "outputs": [],
   "source": [
    "def alpha093(c, v, vwap, industry):\n",
    "    \"\"\"(ts_rank(ts_weighted_mean(ts_corr(IndNeutralize(vwap, IndClass.industry), adv81,17.4193), 19.848), 7.54455) / \n",
    "        rank(ts_weighted_mean(ts_delta(((close * 0.524434) + (vwap * (1 -0.524434))), 2.77377), 16.2664)))\n",
    "    \"\"\"\n",
    "    pass"
   ]
  },
  {
   "cell_type": "code",
   "execution_count": null,
   "metadata": {
    "ExecuteTime": {
     "end_time": "2021-04-16T15:11:53.966035Z",
     "start_time": "2021-04-16T15:11:53.946220Z"
    }
   },
   "outputs": [],
   "source": [
    "def alpha094(v, vwap):\n",
    "    \"\"\"((rank((vwap - ts_min(vwap, 11.5783)))^ts_rank(ts_corr(ts_rank(vwap,19.6462), \n",
    "        ts_rank(adv60, 4.02992), 18.0926), 2.70756)) * -1)\n",
    "    \"\"\"\n",
    "\n",
    "    return (rank(vwap.sub(ts_min(vwap, 11)))\n",
    "            .pow(ts_rank(ts_corr(ts_rank(vwap, 20),\n",
    "                                 ts_rank(ts_mean(v, 60), 4), 18), 2))\n",
    "            .mul(-1)\n",
    "            .stack('ticker')\n",
    "            .swaplevel())"
   ]
  },
  {
   "cell_type": "code",
   "execution_count": null,
   "metadata": {
    "ExecuteTime": {
     "end_time": "2021-04-16T15:21:06.787230Z",
     "start_time": "2021-04-16T15:21:06.783900Z"
    }
   },
   "outputs": [],
   "source": [
    "def alpha095(o, l, v):\n",
    "    \"\"\"(rank((open - ts_min(open, 12.4105))) < \n",
    "        ts_rank((rank(ts_corr(ts_sum(((high + low)/ 2), 19.1351), ts_sum(adv40, 19.1351), 12.8742))^5), 11.7584))\n",
    "    \"\"\"\n",
    "    \n",
    "    return (rank(o.sub(ts_min(o, 12)))\n",
    "            .lt(ts_rank(rank(ts_corr(ts_mean(h.add(l).div(2), 19),\n",
    "                                     ts_sum(ts_mean(v, 40), 19), 13).pow(5)), 12))\n",
    "            .astype(int)\n",
    "            .stack('ticker')\n",
    "            .swaplevel())"
   ]
  },
  {
   "cell_type": "code",
   "execution_count": null,
   "metadata": {
    "ExecuteTime": {
     "end_time": "2021-04-16T15:47:29.507109Z",
     "start_time": "2021-04-16T15:47:29.505327Z"
    }
   },
   "outputs": [],
   "source": [
    "def alpha097(l):\n",
    "    \"\"\"((rank(ts_weighted_mean(ts_delta(IndNeutralize(((low * 0.721001) + \n",
    "        (vwap * (1 - 0.721001))),IndClass.industry), 3.3705), 20.4523)) - \n",
    "        ts_rank(ts_weighted_mean(ts_rank(ts_corr(Ts_Rank(low,7.87871), \n",
    "        ts_rank(adv60, 17.255), 4.97547), 18.5925), 15.7152), 6.71659)) * -1)\n",
    "    \"\"\"\n",
    "    pass"
   ]
  },
  {
   "cell_type": "code",
   "execution_count": null,
   "metadata": {
    "ExecuteTime": {
     "end_time": "2021-04-16T15:47:30.136248Z",
     "start_time": "2021-04-16T15:47:30.133873Z"
    }
   },
   "outputs": [],
   "source": [
    "def alpha098(o, v, vwap):\n",
    "    \"\"\"(rank(ts_weighted_mean(ts_corr(vwap, ts_sum(adv5, 26.4719), 4.58418), 7.18088)) -\n",
    "        rank(ts_weighted_mean(ts_tank(ts_argmin(ts_corr(rank(open), \n",
    "        rank(adv15), 20.8187), 8.62571),6.95668), 8.07206)))\n",
    "    \"\"\"\n",
    "    adv5 = ts_mean(v, 5)\n",
    "    adv15 = ts_mean(v, 15)\n",
    "    return (rank(ts_weighted_mean(ts_corr(vwap, ts_mean(adv5, 26), 4), 7))\n",
    "            .sub(rank(ts_weighted_mean(ts_rank(ts_argmin(ts_corr(rank(o),\n",
    "                                                                 rank(adv15), 20), 8), 6))))\n",
    "            .stack('ticker')\n",
    "            .swaplevel())"
   ]
  },
  {
   "cell_type": "code",
   "execution_count": null,
   "metadata": {
    "ExecuteTime": {
     "end_time": "2021-04-16T15:52:40.248528Z",
     "start_time": "2021-04-16T15:52:40.246013Z"
    }
   },
   "outputs": [],
   "source": [
    "def alpha099(l, v):\n",
    "    \"\"\"((rank(ts_corr(ts_sum(((high + low) / 2), 19.8975), \n",
    "                    ts_sum(adv60, 19.8975), 8.8136)) <\n",
    "                    rank(ts_corr(low, volume, 6.28259))) * -1)\"\"\"\n",
    "\n",
    "    return ((rank(ts_corr(ts_sum((h.add(l).div(2)), 19),\n",
    "                          ts_sum(ts_mean(v, 60), 19), 8))\n",
    "             .lt(rank(ts_corr(l, v, 6)))\n",
    "             .mul(-1))\n",
    "            .stack('ticker')\n",
    "            .swaplevel())"
   ]
  },
  {
   "cell_type": "code",
   "execution_count": null,
   "metadata": {
    "ExecuteTime": {
     "end_time": "2021-04-16T15:52:56.482489Z",
     "start_time": "2021-04-16T15:52:56.480274Z"
    }
   },
   "outputs": [],
   "source": [
    "def alpha100(r, cap):\n",
    "    \"\"\"(0 - (1 * (((1.5 * scale(indneutralize(\n",
    "                indneutralize(rank(((((close - low) - (high -close)) / (high - low)) * volume)), \n",
    "                                IndClass.subindustry), IndClass.subindustry))) - \n",
    "    scale(indneutralize((ts_corr(close, rank(adv20), 5) - rank(ts_argmin(close, 30))), IndClass.subindustry))) * (volume / adv20))))\n",
    "    \"\"\"\n",
    "    pass"
   ]
  },
  {
   "cell_type": "code",
   "execution_count": null,
   "metadata": {
    "ExecuteTime": {
     "end_time": "2021-04-16T15:52:56.491221Z",
     "start_time": "2021-04-16T15:52:56.483597Z"
    }
   },
   "outputs": [],
   "source": [
    "def alpha101(o, h, l, c):\n",
    "    \"\"\"((close - open) / ((high - low) + .001))\"\"\"\n",
    "    return (c.sub(o).div(h.sub(l).add(1e-3))\n",
    "            .stack('ticker')\n",
    "            .swaplevel())"
   ]
  },
  {
   "cell_type": "markdown",
   "metadata": {},
   "source": [
    "## Store results"
   ]
  },
  {
   "cell_type": "code",
   "execution_count": null,
   "metadata": {
    "ExecuteTime": {
     "end_time": "2021-04-16T15:53:35.565439Z",
     "start_time": "2021-04-16T15:53:19.393097Z"
    }
   },
   "outputs": [],
   "source": [
    "alphas = []\n",
    "with pd.HDFStore('alphas.h5') as store:\n",
    "    keys = [k[1:] for k in store.keys()]\n",
    "    for key in keys:\n",
    "        i = int(key.split('/')[-1])\n",
    "        alphas.append(store[key].to_frame(i))\n",
    "alphas = pd.concat(alphas, axis=1)"
   ]
  },
  {
   "cell_type": "code",
   "execution_count": null,
   "metadata": {
    "ExecuteTime": {
     "end_time": "2021-04-16T15:53:35.970078Z",
     "start_time": "2021-04-16T15:53:35.566546Z"
    }
   },
   "outputs": [],
   "source": [
    "alphas.info(null_counts=True)"
   ]
  },
  {
   "cell_type": "code",
   "execution_count": null,
   "metadata": {
    "ExecuteTime": {
     "end_time": "2021-04-16T15:53:37.588822Z",
     "start_time": "2021-04-16T15:53:35.972104Z"
    }
   },
   "outputs": [],
   "source": [
    "alphas.to_hdf('data.h5', 'factors/formulaic')"
   ]
  }
 ],
 "metadata": {
  "kernelspec": {
   "display_name": "base",
   "language": "python",
   "name": "python3"
  },
  "language_info": {
   "codemirror_mode": {
    "name": "ipython",
    "version": 3
   },
   "file_extension": ".py",
   "mimetype": "text/x-python",
   "name": "python",
   "nbconvert_exporter": "python",
   "pygments_lexer": "ipython3",
   "version": "3.11.3"
  },
  "toc": {
   "base_numbering": "1",
   "nav_menu": {},
   "number_sections": true,
   "sideBar": true,
   "skip_h1_title": true,
   "title_cell": "Table of Contents",
   "title_sidebar": "Contents",
   "toc_cell": false,
   "toc_position": {
    "height": "calc(100% - 180px)",
    "left": "10px",
    "top": "150px",
    "width": "342.391px"
   },
   "toc_section_display": true,
   "toc_window_display": true
  }
 },
 "nbformat": 4,
 "nbformat_minor": 4
}
