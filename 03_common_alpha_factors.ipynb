{
 "cells": [
  {
   "cell_type": "markdown",
   "metadata": {},
   "source": [
    "##### Common Alpha Factors"
   ]
  },
  {
   "cell_type": "code",
   "execution_count": 1,
   "metadata": {
    "tags": [
     "parameters"
    ]
   },
   "outputs": [],
   "source": [
    "# Parameters\n",
    "top = 10  # default value"
   ]
  },
  {
   "cell_type": "code",
   "execution_count": 2,
   "metadata": {
    "ExecuteTime": {
     "end_time": "2021-04-16T16:12:02.851606Z",
     "start_time": "2021-04-16T16:12:02.849869Z"
    }
   },
   "outputs": [],
   "source": [
    "import warnings\n",
    "import pandas as pd\n",
    "warnings.filterwarnings('ignore')\n",
    "\n",
    "pd.set_option('display.max_columns', 1000)\n",
    "pd.set_option('display.max_rows', 1000)"
   ]
  },
  {
   "cell_type": "code",
   "execution_count": 3,
   "metadata": {
    "ExecuteTime": {
     "end_time": "2021-04-16T16:12:03.608774Z",
     "start_time": "2021-04-16T16:12:02.854679Z"
    }
   },
   "outputs": [],
   "source": [
    "%matplotlib inline\n",
    "\n",
    "from pathlib import Path\n",
    "import numpy as np\n",
    "import pandas as pd\n",
    "import pandas_datareader.data as web\n",
    "\n",
    "from pathlib import Path\n",
    "import numpy as np\n",
    "import pandas as pd\n",
    "import gc\n",
    "\n",
    "import statsmodels.api as sm\n",
    "from statsmodels.regression.rolling import RollingOLS\n",
    "from sklearn.preprocessing import scale\n",
    "import talib\n",
    "\n",
    "import matplotlib.pyplot as plt\n",
    "import seaborn as sns"
   ]
  },
  {
   "cell_type": "code",
   "execution_count": 4,
   "metadata": {
    "ExecuteTime": {
     "end_time": "2021-04-16T16:12:03.611665Z",
     "start_time": "2021-04-16T16:12:03.609797Z"
    }
   },
   "outputs": [],
   "source": [
    "sns.set_style('whitegrid')\n",
    "idx = pd.IndexSlice\n",
    "deciles = np.arange(.1, 1, .1).round(1)"
   ]
  },
  {
   "cell_type": "markdown",
   "metadata": {},
   "source": [
    "##### Load Data"
   ]
  },
  {
   "cell_type": "code",
   "execution_count": 5,
   "metadata": {
    "ExecuteTime": {
     "end_time": "2021-04-16T16:12:03.937536Z",
     "start_time": "2021-04-16T16:12:03.612758Z"
    }
   },
   "outputs": [],
   "source": [
    "DATA_STORE = Path('/home/sayem/Desktop/Project/data/assets.h5')\n",
    "\n",
    "lock_path = \"/tmp/assets_h5_file.lock\"  # Choose a path for the lock file\n",
    "\n",
    "# top = 500\n",
    "\n",
    "from filelock import FileLock\n",
    "\n",
    "with FileLock(lock_path):\n",
    "    with pd.HDFStore(DATA_STORE) as store:\n",
    "        data = store[f'data/top{top}_dataset']\n"
   ]
  },
  {
   "cell_type": "code",
   "execution_count": 6,
   "metadata": {},
   "outputs": [
    {
     "name": "stdout",
     "output_type": "stream",
     "text": [
      "<class 'pandas.core.frame.DataFrame'>\n",
      "MultiIndex: 25958 entries, ('AAPL', Timestamp('2013-01-03 00:00:00')) to ('NFLX', Timestamp('2023-08-11 00:00:00'))\n",
      "Data columns (total 31 columns):\n",
      " #   Column              Non-Null Count  Dtype  \n",
      "---  ------              --------------  -----  \n",
      " 0   open                25958 non-null  float32\n",
      " 1   high                25958 non-null  float32\n",
      " 2   low                 25958 non-null  float32\n",
      " 3   close               25958 non-null  float32\n",
      " 4   volume              25958 non-null  float64\n",
      " 5   market_cap          25958 non-null  float64\n",
      " 6   sector              25958 non-null  float32\n",
      " 7   ret_frac_order      25958 non-null  float32\n",
      " 8   ret_01d             25958 non-null  float32\n",
      " 9   ret_02d             25958 non-null  float32\n",
      " 10  ret_03d             25958 non-null  float32\n",
      " 11  ret_04d             25958 non-null  float32\n",
      " 12  ret_05d             25958 non-null  float32\n",
      " 13  ret_10d             25958 non-null  float32\n",
      " 14  ret_21d             25958 non-null  float32\n",
      " 15  ret_42d             25958 non-null  float32\n",
      " 16  ret_63d             25958 non-null  float32\n",
      " 17  ret_126d            25958 non-null  float32\n",
      " 18  ret_252d            25958 non-null  float32\n",
      " 19  ret_fwd_frac_order  25958 non-null  float32\n",
      " 20  ret_fwd_01d         25958 non-null  float32\n",
      " 21  ret_fwd_02d         25958 non-null  float32\n",
      " 22  ret_fwd_03d         25958 non-null  float32\n",
      " 23  ret_fwd_04d         25958 non-null  float32\n",
      " 24  ret_fwd_05d         25958 non-null  float32\n",
      " 25  ret_fwd_10d         25958 non-null  float32\n",
      " 26  ret_fwd_21d         25958 non-null  float32\n",
      " 27  ret_fwd_42d         25958 non-null  float32\n",
      " 28  ret_fwd_63d         25958 non-null  float32\n",
      " 29  ret_fwd_126d        25958 non-null  float32\n",
      " 30  ret_fwd_252d        25958 non-null  float32\n",
      "dtypes: float32(29), float64(2)\n",
      "memory usage: 3.4+ MB\n"
     ]
    }
   ],
   "source": [
    "# # with pd.HDFStore(DATA_STORE) as store:\n",
    "# #     store.put('factors/common', df_optimized)\n",
    "# data.rename(columns={'market cap': \\\n",
    "#     'market_cap'}, inplace=True)\n",
    "\n",
    "data.info()"
   ]
  },
  {
   "cell_type": "markdown",
   "metadata": {},
   "source": [
    "##### TA-Lib: Function Groups"
   ]
  },
  {
   "cell_type": "markdown",
   "metadata": {},
   "source": [
    "List number of available functions by group"
   ]
  },
  {
   "cell_type": "code",
   "execution_count": 7,
   "metadata": {
    "ExecuteTime": {
     "end_time": "2021-04-16T16:12:03.941120Z",
     "start_time": "2021-04-16T16:12:03.938923Z"
    }
   },
   "outputs": [],
   "source": [
    "function_groups = ['Overlap Studies',\n",
    "                   'Momentum Indicators',\n",
    "                   'Volume Indicators',\n",
    "                   'Volatility Indicators',\n",
    "                   'Price Transform',\n",
    "                   'Cycle Indicators',\n",
    "                   'Pattern Recognition',\n",
    "                   'Statistic Functions',\n",
    "                   'Math Transform',\n",
    "                   'Math Operators']\n",
    "\n",
    "talib_grps = talib.get_function_groups()"
   ]
  },
  {
   "cell_type": "code",
   "execution_count": 8,
   "metadata": {},
   "outputs": [
    {
     "name": "stdout",
     "output_type": "stream",
     "text": [
      "474 indicators added successfully.\n",
      "0 indicators failed.\n"
     ]
    }
   ],
   "source": [
    "import pandas as pd\n",
    "import talib.abstract as ta\n",
    "import logging\n",
    "import talib\n",
    "import numpy as np\n",
    "\n",
    "# The 5 days can be seen as a very short-term trend.\n",
    "# The 21 days can be used to determine the medium-term trend.\n",
    "# The 63 days can be viewed as a longer-term trend.\n",
    "\n",
    "def compute_talib_indicators(df, function_groups, timeperiods=[5, 21, 63]):\n",
    "    \"\"\"\n",
    "    Compute indicators for the specified function groups using TA-Lib's Abstract API.\n",
    "    \n",
    "    Parameters:\n",
    "    - df: DataFrame with columns 'open', 'high', 'low', 'close', and optionally 'volume'.\n",
    "    - function_groups: List of function groups to compute.\n",
    "    \"\"\"\n",
    "    \n",
    "    # Organize data in the format needed for TA-Lib Abstract API\n",
    "    inputs = {\n",
    "        'open': df['open'].astype(float).values,\n",
    "        'high': df['high'].astype(float).values,\n",
    "        'low': df['low'].astype(float).values,\n",
    "        'close': df['close'].astype(float).values,\n",
    "        'volume': df['volume'].astype(float).values if \\\n",
    "            'volume' in df.columns else np.random.random(len(df))\n",
    "    }\n",
    "\n",
    "    talib_functions = {k: v for k, v in talib.get_function_groups().items() if k in function_groups}\n",
    "\n",
    "    success_count = 0\n",
    "    failure_count = 0\n",
    "    \n",
    "    for group, indicators in talib_functions.items():\n",
    "        for indicator_name in indicators:\n",
    "            for timeperiod in timeperiods:\n",
    "                try:\n",
    "                    indicator_func = ta.Function(indicator_name)\n",
    "\n",
    "                    parameters = {}\n",
    "                    if 'timeperiod' in indicator_func.parameters:\n",
    "                        parameters['timeperiod'] = timeperiod\n",
    "\n",
    "                    if indicator_name == 'MAVP':\n",
    "                        inputs['periods'] = np.full(len(df), timeperiod, dtype=np.float64)\n",
    "\n",
    "                    outputs = indicator_func(inputs, **parameters)\n",
    "\n",
    "                    # For multi-output functions, like 'BBANDS'\n",
    "                    if isinstance(outputs, (list, tuple)):\n",
    "                        for i, out_name in enumerate(indicator_func.output_names):\n",
    "                            col_name = f\"{out_name}_{timeperiod}\".upper()\n",
    "                            df[col_name] = outputs[i]\n",
    "                    else:\n",
    "                        col_name = f\"{indicator_name}_{timeperiod}\".upper()\n",
    "                        df[col_name] = outputs\n",
    "\n",
    "                    success_count += 1\n",
    "                except Exception as e:\n",
    "                    logging.warning(f\"{indicator_name}_{timeperiod} failed due to: {str(e)}\")\n",
    "                    failure_count += 1\n",
    "\n",
    "    print(f\"{success_count} indicators added successfully.\")\n",
    "    print(f\"{failure_count} indicators failed.\")\n",
    "\n",
    "    return df\n",
    "\n",
    "function_groups = [\n",
    "    'Overlap Studies',\n",
    "    'Momentum Indicators',\n",
    "    'Volume Indicators',\n",
    "    'Volatility Indicators',\n",
    "    'Price Transform',\n",
    "    'Cycle Indicators',\n",
    "    'Pattern Recognition',\n",
    "    'Statistic Functions',\n",
    "    'Math Transform',\n",
    "    'Math Operators'\n",
    "]\n",
    "\n",
    "# Assuming you've read your dataframe into a variable named 'data'\n",
    "data_ta = compute_talib_indicators(data.copy(), function_groups)"
   ]
  },
  {
   "cell_type": "code",
   "execution_count": 9,
   "metadata": {},
   "outputs": [
    {
     "name": "stdout",
     "output_type": "stream",
     "text": [
      "<class 'pandas.core.frame.DataFrame'>\n",
      "MultiIndex: 25958 entries, ('AAPL', Timestamp('2013-01-03 00:00:00')) to ('NFLX', Timestamp('2023-08-11 00:00:00'))\n",
      "Columns: 526 entries, open to OBV_63\n",
      "dtypes: float32(29), float64(299), int32(198)\n",
      "memory usage: 81.9+ MB\n"
     ]
    }
   ],
   "source": [
    "data_ta.info()"
   ]
  },
  {
   "cell_type": "code",
   "execution_count": 10,
   "metadata": {},
   "outputs": [
    {
     "name": "stdout",
     "output_type": "stream",
     "text": [
      "Column 'COSH_5' not downcasted to float32 due to its range.\n",
      "Column 'COSH_21' not downcasted to float32 due to its range.\n",
      "Column 'COSH_63' not downcasted to float32 due to its range.\n",
      "Column 'EXP_5' not downcasted to float32 due to its range.\n",
      "Column 'EXP_21' not downcasted to float32 due to its range.\n",
      "Column 'EXP_63' not downcasted to float32 due to its range.\n",
      "Column 'SINH_5' not downcasted to float32 due to its range.\n",
      "Column 'SINH_21' not downcasted to float32 due to its range.\n",
      "Column 'SINH_63' not downcasted to float32 due to its range.\n",
      "Data memory before optimization: 81.85 MB\n",
      "Data memory after optimization: 53.14 MB\n",
      "Reduced by: 35.08%\n"
     ]
    }
   ],
   "source": [
    "from utils import optimize_dataframe\n",
    "data_ta = optimize_dataframe(data_ta.copy())\n",
    "data_ta.to_hdf(DATA_STORE, f'factor/top{top}_dataset_with_TA', \\\n",
    "    format='table', mode='a')"
   ]
  },
  {
   "cell_type": "code",
   "execution_count": 11,
   "metadata": {},
   "outputs": [
    {
     "name": "stdout",
     "output_type": "stream",
     "text": [
      "<class 'pandas.core.frame.DataFrame'>\n",
      "MultiIndex: 25958 entries, ('AAPL', Timestamp('2013-01-03 00:00:00')) to ('NFLX', Timestamp('2023-08-11 00:00:00'))\n",
      "Columns: 508 entries, open to OBV_63\n",
      "dtypes: float32(295), float64(27), int32(186)\n",
      "memory usage: 53.1 MB\n"
     ]
    }
   ],
   "source": [
    "data_ta.info(memory_usage='deep')"
   ]
  },
  {
   "cell_type": "code",
   "execution_count": 12,
   "metadata": {},
   "outputs": [],
   "source": [
    "del data_ta"
   ]
  },
  {
   "cell_type": "markdown",
   "metadata": {},
   "source": [
    "##### Rolling Factor Betas"
   ]
  },
  {
   "cell_type": "code",
   "execution_count": 13,
   "metadata": {
    "ExecuteTime": {
     "end_time": "2021-04-16T16:13:42.828286Z",
     "start_time": "2021-04-16T16:13:41.429910Z"
    }
   },
   "outputs": [],
   "source": [
    "factor_data = (web.DataReader('F-F_Research_Data_5_Factors_2x3_daily', 'famafrench', \n",
    "                              start=2005)[0].rename(columns={'Mkt-RF': 'MARKET'}))\n",
    "factor_data.index.names = ['date']"
   ]
  },
  {
   "cell_type": "code",
   "execution_count": 14,
   "metadata": {
    "ExecuteTime": {
     "end_time": "2021-04-16T16:13:42.832172Z",
     "start_time": "2021-04-16T16:13:42.829107Z"
    }
   },
   "outputs": [
    {
     "data": {
      "text/plain": [
       "Index(['MARKET', 'SMB', 'HML', 'RMW', 'CMA'], dtype='object')"
      ]
     },
     "execution_count": 14,
     "metadata": {},
     "output_type": "execute_result"
    }
   ],
   "source": [
    "factors = factor_data.columns[:-1]\n",
    "factors"
   ]
  },
  {
   "cell_type": "code",
   "execution_count": 15,
   "metadata": {
    "ExecuteTime": {
     "end_time": "2021-04-16T16:15:05.025886Z",
     "start_time": "2021-04-16T16:13:42.833266Z"
    }
   },
   "outputs": [
    {
     "name": "stdout",
     "output_type": "stream",
     "text": [
      "21\n",
      "63\n",
      "252\n"
     ]
    }
   ],
   "source": [
    "t = 1\n",
    "# ret = f'ret_{t:02}d'\n",
    "ret = 'ret_frac_order'\n",
    "windows = [21, 63, 252]\n",
    "for window in windows:\n",
    "    print(window)\n",
    "    betas = []\n",
    "    for ticker, df in data.groupby('ticker', group_keys=False):\n",
    "        model_data = df[[ret]].merge(factor_data, on='date').dropna()\n",
    "        model_data[ret] -= model_data.RF\n",
    "\n",
    "        rolling_ols = RollingOLS(endog=model_data[ret], \n",
    "                                 exog=sm.add_constant(model_data[factors]), window=window)\n",
    "        factor_model = rolling_ols.fit(params_only=True).params.rename(columns={'const':'ALPHA'})\n",
    "        result = factor_model.assign(ticker=ticker).set_index('ticker', append=True).swaplevel()\n",
    "        betas.append(result)\n",
    "    betas = pd.concat(betas).rename(columns=lambda x: f'{x}_{window:02}')\n",
    "    data = data.join(betas)"
   ]
  },
  {
   "cell_type": "markdown",
   "metadata": {},
   "source": [
    "##### Size proxy"
   ]
  },
  {
   "cell_type": "code",
   "execution_count": 16,
   "metadata": {
    "ExecuteTime": {
     "end_time": "2021-04-16T16:15:05.552334Z",
     "start_time": "2021-04-16T16:15:05.026793Z"
    }
   },
   "outputs": [],
   "source": [
    "by_ticker = data.groupby('ticker', group_keys=False)\n",
    "data['size_factor'] = by_ticker.close.apply(lambda x: x.fillna(method='bfill').div(x.iloc[0]))\n",
    "data['size_proxy'] = data['market_cap'].mul(data.size_factor).div(1e6)"
   ]
  },
  {
   "cell_type": "code",
   "execution_count": 17,
   "metadata": {},
   "outputs": [
    {
     "name": "stdout",
     "output_type": "stream",
     "text": [
      "Data memory before optimization: 8.30 MB\n",
      "Data memory after optimization: 6.51 MB\n",
      "Reduced by: 21.48%\n"
     ]
    }
   ],
   "source": [
    "from utils import optimize_dataframe\n",
    "data = optimize_dataframe(data.copy())\n",
    "data.to_hdf(DATA_STORE, \\\n",
    "    f'factor/top{top}_dataset_with_rolling_beta_size_proxy', \\\n",
    "        format='table', mode='a')"
   ]
  },
  {
   "cell_type": "code",
   "execution_count": 18,
   "metadata": {},
   "outputs": [
    {
     "name": "stdout",
     "output_type": "stream",
     "text": [
      "<class 'pandas.core.frame.DataFrame'>\n",
      "MultiIndex: 25958 entries, ('AAPL', Timestamp('2013-01-03 00:00:00')) to ('NFLX', Timestamp('2023-08-11 00:00:00'))\n",
      "Data columns (total 51 columns):\n",
      " #   Column              Non-Null Count  Dtype  \n",
      "---  ------              --------------  -----  \n",
      " 0   open                25958 non-null  float32\n",
      " 1   high                25958 non-null  float32\n",
      " 2   low                 25958 non-null  float32\n",
      " 3   close               25958 non-null  float32\n",
      " 4   volume              25958 non-null  float64\n",
      " 5   market_cap          25958 non-null  float64\n",
      " 6   sector              25958 non-null  float32\n",
      " 7   ret_frac_order      25958 non-null  float32\n",
      " 8   ret_01d             25958 non-null  float32\n",
      " 9   ret_02d             25958 non-null  float32\n",
      " 10  ret_03d             25958 non-null  float32\n",
      " 11  ret_04d             25958 non-null  float32\n",
      " 12  ret_05d             25958 non-null  float32\n",
      " 13  ret_10d             25958 non-null  float32\n",
      " 14  ret_21d             25958 non-null  float32\n",
      " 15  ret_42d             25958 non-null  float32\n",
      " 16  ret_63d             25958 non-null  float32\n",
      " 17  ret_126d            25958 non-null  float32\n",
      " 18  ret_252d            25958 non-null  float32\n",
      " 19  ret_fwd_frac_order  25958 non-null  float32\n",
      " 20  ret_fwd_01d         25958 non-null  float32\n",
      " 21  ret_fwd_02d         25958 non-null  float32\n",
      " 22  ret_fwd_03d         25958 non-null  float32\n",
      " 23  ret_fwd_04d         25958 non-null  float32\n",
      " 24  ret_fwd_05d         25958 non-null  float32\n",
      " 25  ret_fwd_10d         25958 non-null  float32\n",
      " 26  ret_fwd_21d         25958 non-null  float32\n",
      " 27  ret_fwd_42d         25958 non-null  float32\n",
      " 28  ret_fwd_63d         25958 non-null  float32\n",
      " 29  ret_fwd_126d        25958 non-null  float32\n",
      " 30  ret_fwd_252d        25958 non-null  float32\n",
      " 31  ALPHA_21            25958 non-null  float32\n",
      " 32  MARKET_21           25958 non-null  float32\n",
      " 33  SMB_21              25958 non-null  float32\n",
      " 34  HML_21              25958 non-null  float32\n",
      " 35  RMW_21              25958 non-null  float32\n",
      " 36  CMA_21              25958 non-null  float32\n",
      " 37  ALPHA_63            25958 non-null  float32\n",
      " 38  MARKET_63           25958 non-null  float32\n",
      " 39  SMB_63              25958 non-null  float32\n",
      " 40  HML_63              25958 non-null  float32\n",
      " 41  RMW_63              25958 non-null  float32\n",
      " 42  CMA_63              25958 non-null  float32\n",
      " 43  ALPHA_252           25958 non-null  float32\n",
      " 44  MARKET_252          25958 non-null  float32\n",
      " 45  SMB_252             25958 non-null  float32\n",
      " 46  HML_252             25958 non-null  float32\n",
      " 47  RMW_252             25958 non-null  float32\n",
      " 48  CMA_252             25958 non-null  float32\n",
      " 49  size_factor         25958 non-null  float32\n",
      " 50  size_proxy          25958 non-null  float64\n",
      "dtypes: float32(48), float64(3)\n",
      "memory usage: 6.5+ MB\n"
     ]
    }
   ],
   "source": [
    "data.info()"
   ]
  },
  {
   "cell_type": "code",
   "execution_count": 19,
   "metadata": {},
   "outputs": [],
   "source": [
    "del data"
   ]
  },
  {
   "cell_type": "code",
   "execution_count": 20,
   "metadata": {},
   "outputs": [],
   "source": [
    "from utils import clear_large_vars\n",
    "clear_large_vars(threshold_size_in_MB=100)"
   ]
  }
 ],
 "metadata": {
  "kernelspec": {
   "display_name": "Python 3 (ipykernel)",
   "language": "python",
   "name": "python3"
  },
  "language_info": {
   "codemirror_mode": {
    "name": "ipython",
    "version": 3
   },
   "file_extension": ".py",
   "mimetype": "text/x-python",
   "name": "python",
   "nbconvert_exporter": "python",
   "pygments_lexer": "ipython3",
   "version": "3.11.3"
  },
  "toc": {
   "base_numbering": 1,
   "nav_menu": {},
   "number_sections": true,
   "sideBar": true,
   "skip_h1_title": true,
   "title_cell": "Table of Contents",
   "title_sidebar": "Contents",
   "toc_cell": false,
   "toc_position": {},
   "toc_section_display": true,
   "toc_window_display": true
  }
 },
 "nbformat": 4,
 "nbformat_minor": 4
}
