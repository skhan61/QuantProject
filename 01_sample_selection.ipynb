{
 "cells": [
  {
   "cell_type": "markdown",
   "metadata": {},
   "source": [
    "##### Imports"
   ]
  },
  {
   "cell_type": "code",
   "execution_count": null,
   "metadata": {},
   "outputs": [],
   "source": [
    "import warnings\n",
    "warnings.filterwarnings('ignore')"
   ]
  },
  {
   "cell_type": "code",
   "execution_count": null,
   "metadata": {},
   "outputs": [],
   "source": [
    "%matplotlib inline\n",
    "\n",
    "from pathlib import Path\n",
    "import numpy as np\n",
    "import pandas as pd\n",
    "import gc\n",
    "\n",
    "import matplotlib.pyplot as plt\n",
    "import seaborn as sns"
   ]
  },
  {
   "cell_type": "code",
   "execution_count": null,
   "metadata": {},
   "outputs": [],
   "source": [
    "sns.set_style('whitegrid')\n",
    "idx = pd.IndexSlice\n",
    "deciles = np.arange(.1, 1, .1).round(1)"
   ]
  },
  {
   "cell_type": "code",
   "execution_count": null,
   "metadata": {},
   "outputs": [],
   "source": [
    "DATA_STORE = Path('/home/sayem/Desktop/Project/data/assets.h5')"
   ]
  },
  {
   "cell_type": "code",
   "execution_count": null,
   "metadata": {},
   "outputs": [],
   "source": [
    "with pd.HDFStore(DATA_STORE) as store:\n",
    "    print(store.keys())"
   ]
  },
  {
   "cell_type": "code",
   "execution_count": null,
   "metadata": {},
   "outputs": [],
   "source": [
    "with pd.HDFStore(DATA_STORE) as store:\n",
    "    nyse_stocks = store['/stooq/us/nyse/stocks/prices']\n",
    "    nasdaq_stocks = store['/stooq/us/nasdaq/stocks/prices']\n",
    "    metadata = store['us_equities/stocks'].loc[:, ['market cap', 'sector']]"
   ]
  },
  {
   "cell_type": "code",
   "execution_count": null,
   "metadata": {},
   "outputs": [],
   "source": [
    "# Concatenate the two DataFrames\n",
    "data = pd.concat([nyse_stocks, nasdaq_stocks])\n",
    "\n",
    "# Drop NaN values and duplicates\n",
    "data = data.dropna().drop_duplicates()\n",
    "\n",
    "# Display the cleaned DataFrame\n",
    "print(data.info())"
   ]
  },
  {
   "cell_type": "code",
   "execution_count": null,
   "metadata": {},
   "outputs": [],
   "source": [
    "metadata.sector = pd.factorize(metadata.sector)[0]\n",
    "metadata.info()"
   ]
  },
  {
   "cell_type": "code",
   "execution_count": null,
   "metadata": {},
   "outputs": [],
   "source": [
    "metadata"
   ]
  },
  {
   "cell_type": "code",
   "execution_count": null,
   "metadata": {},
   "outputs": [],
   "source": [
    "data = data.join(metadata).dropna(subset=['sector'])\n"
   ]
  },
  {
   "cell_type": "code",
   "execution_count": null,
   "metadata": {},
   "outputs": [],
   "source": [
    "print(f\"# Tickers: {len(data.index.unique('ticker')):,.0f} | # Dates: {len(data.index.unique('date')):,.0f}\")"
   ]
  },
  {
   "cell_type": "code",
   "execution_count": null,
   "metadata": {},
   "outputs": [],
   "source": [
    "# Identifying duplicate entries based on index\n",
    "duplicates = data[data.duplicated(keep=False)]\n",
    "print(duplicates)"
   ]
  },
  {
   "cell_type": "markdown",
   "metadata": {},
   "source": [
    "##### Select 500 most-traded stocks"
   ]
  },
  {
   "cell_type": "code",
   "execution_count": null,
   "metadata": {},
   "outputs": [],
   "source": [
    "dv = data.close.mul(data.volume)\n",
    "dv = dv[~dv.index.duplicated(keep='first')]"
   ]
  },
  {
   "cell_type": "code",
   "execution_count": null,
   "metadata": {},
   "outputs": [],
   "source": [
    "top500 = (dv.groupby(level='date')\n",
    "          .rank(ascending=False)\n",
    "          .unstack('ticker')\n",
    "          .dropna(thresh=8*252, axis=1)\n",
    "          .mean()\n",
    "          .nsmallest(500))"
   ]
  },
  {
   "cell_type": "markdown",
   "metadata": {},
   "source": [
    "##### Visualize the 200 most liquid stocks"
   ]
  },
  {
   "cell_type": "code",
   "execution_count": null,
   "metadata": {},
   "outputs": [],
   "source": [
    "dv = data.close.mul(data.volume).div(1e6)  # scaling values to millions\n",
    "dv = dv[~dv.index.duplicated(keep='first')]\n",
    "\n",
    "# Group by date and ticker, then by ticker alone\n",
    "avg_dv_per_ticker = dv.groupby(level=['date', 'ticker']).mean().groupby(level='ticker').mean()\n",
    "\n",
    "# Get top 200 tickers based on the average dollar volume\n",
    "top200_tickers = avg_dv_per_ticker.nlargest(200)\n",
    "\n",
    "cutoffs = [0, 50, 100, 150, 200]\n",
    "fig, axes = plt.subplots(ncols=4, figsize=(20, 10), sharex=True)\n",
    "axes = axes.flatten()\n",
    "\n",
    "for i, cutoff in enumerate(cutoffs[1:], 1):\n",
    "    top200_tickers.iloc[cutoffs[i-1]:cutoffs[i]].sort_values().plot.barh(logx=True, ax=axes[i-1])\n",
    "\n",
    "fig.tight_layout()"
   ]
  },
  {
   "cell_type": "code",
   "execution_count": null,
   "metadata": {},
   "outputs": [],
   "source": [
    "to_drop = data.index.unique('ticker').difference(top500.index)"
   ]
  },
  {
   "cell_type": "code",
   "execution_count": null,
   "metadata": {},
   "outputs": [],
   "source": [
    "len(to_drop)"
   ]
  },
  {
   "cell_type": "code",
   "execution_count": null,
   "metadata": {},
   "outputs": [],
   "source": [
    "data = data.drop(to_drop, level='ticker')"
   ]
  },
  {
   "cell_type": "code",
   "execution_count": null,
   "metadata": {},
   "outputs": [],
   "source": [
    "data.info(null_counts=True)"
   ]
  },
  {
   "cell_type": "code",
   "execution_count": null,
   "metadata": {},
   "outputs": [],
   "source": [
    "print(f\"# Tickers: {len(data.index.unique('ticker')):,.0f} | # Dates: {len(data.index.unique('date')):,.0f}\")"
   ]
  },
  {
   "cell_type": "markdown",
   "metadata": {},
   "source": [
    "##### Remove outlier observations based on daily returns"
   ]
  },
  {
   "cell_type": "code",
   "execution_count": null,
   "metadata": {},
   "outputs": [],
   "source": [
    "before = len(data)\n",
    "data['ret'] = data.groupby('ticker').close.pct_change()\n",
    "data = data[data.ret.between(-1, 1)].drop('ret', axis=1)\n",
    "print(f'Dropped {before-len(data):,.0f}')"
   ]
  },
  {
   "cell_type": "code",
   "execution_count": null,
   "metadata": {},
   "outputs": [],
   "source": [
    "data.info()"
   ]
  },
  {
   "cell_type": "code",
   "execution_count": null,
   "metadata": {},
   "outputs": [],
   "source": [
    "import pandas as pd\n",
    "import numpy as np\n",
    "from statsmodels.tsa.stattools import adfuller\n",
    "\n",
    "def test_stationarity(df, ticker):\n",
    "    # Extract relevant data for the ticker\n",
    "    ticker_data = df.loc[ticker]\n",
    "    \n",
    "    # Ensure data covers at least 2 years, otherwise return a message\n",
    "    if len(ticker_data) < 2 * 252:  # Assuming 252 trading days in a year\n",
    "        return f\"Insufficient data for {ticker}. Need at least 2 years of data.\"\n",
    "\n",
    "    # Calculate log and percentage returns\n",
    "    ticker_data['log_ret'] = np.log(ticker_data['close'] / ticker_data['close'].shift(1))\n",
    "    ticker_data['pct_ret'] = ticker_data['close'].pct_change()\n",
    "\n",
    "    # Drop NaN values (the first row after computing returns)\n",
    "    ticker_data = ticker_data.dropna()\n",
    "\n",
    "    # Test stationarity for each series using ADF\n",
    "    adf_price = adfuller(ticker_data['close'])\n",
    "    adf_log_ret = adfuller(ticker_data['log_ret'])\n",
    "    adf_pct_ret = adfuller(ticker_data['pct_ret'])\n",
    "    \n",
    "    # Store results in a dictionary for comparison\n",
    "    results = {\n",
    "        'price': adf_price[0],\n",
    "        'log_ret': adf_log_ret[0],\n",
    "        'pct_ret': adf_pct_ret[0]\n",
    "    }\n",
    "    # Find which series is the most stationary based on the ADF statistic (the lower, the better)\n",
    "    most_stationary = min(results, key=results.get)\n",
    "    \n",
    "    return most_stationary, results\n",
    "\n",
    "# Example usage:\n",
    "ticker = 'AAPL'  # Replace with desired ticker\n",
    "most_stationary, results = test_stationarity(data, ticker)\n",
    "print(f\"For {ticker}, the most stationary series is: {most_stationary}.\")\n",
    "print(\"ADF Results:\", results)"
   ]
  },
  {
   "cell_type": "code",
   "execution_count": null,
   "metadata": {},
   "outputs": [],
   "source": [
    "STOP"
   ]
  },
  {
   "cell_type": "code",
   "execution_count": null,
   "metadata": {},
   "outputs": [],
   "source": [
    "tickers = data.index.unique('ticker')\n",
    "print(f\"# Tickers: {len(tickers):,.0f} | # Dates: {len(data.index.unique('date')):,.0f}\")"
   ]
  },
  {
   "cell_type": "markdown",
   "metadata": {},
   "source": [
    "##### Compute returns\n",
    "- Historical returns"
   ]
  },
  {
   "cell_type": "code",
   "execution_count": null,
   "metadata": {},
   "outputs": [],
   "source": [
    "T = [1, 2, 3, 4, 5, 10, 21, 42, 63, 126, 252]\n",
    "\n",
    "by_ticker = data.groupby(level='ticker')\n",
    "\n",
    "for t in T:\n",
    "    data[f'ret_{t:02}d'] = by_ticker.close.pct_change(t)"
   ]
  },
  {
   "cell_type": "code",
   "execution_count": null,
   "metadata": {},
   "outputs": [],
   "source": [
    "data"
   ]
  },
  {
   "cell_type": "markdown",
   "metadata": {},
   "source": [
    "##### Forward returns"
   ]
  },
  {
   "cell_type": "code",
   "execution_count": null,
   "metadata": {},
   "outputs": [],
   "source": [
    "data['ret_fwd_01d'] = by_ticker.ret_01d.shift(-1)\n",
    "data = data.dropna(subset=['ret_fwd_01d'])"
   ]
  },
  {
   "cell_type": "code",
   "execution_count": null,
   "metadata": {},
   "outputs": [],
   "source": [
    "data"
   ]
  },
  {
   "cell_type": "markdown",
   "metadata": {},
   "source": [
    "##### Persist results"
   ]
  },
  {
   "cell_type": "code",
   "execution_count": null,
   "metadata": {},
   "outputs": [],
   "source": [
    "data.info(null_counts=True)"
   ]
  },
  {
   "cell_type": "code",
   "execution_count": null,
   "metadata": {},
   "outputs": [],
   "source": [
    "data.to_hdf(DATA_STORE, 'data/top500_dataset')"
   ]
  },
  {
   "cell_type": "code",
   "execution_count": null,
   "metadata": {},
   "outputs": [],
   "source": []
  }
 ],
 "metadata": {
  "kernelspec": {
   "display_name": "base",
   "language": "python",
   "name": "python3"
  },
  "language_info": {
   "codemirror_mode": {
    "name": "ipython",
    "version": 3
   },
   "file_extension": ".py",
   "mimetype": "text/x-python",
   "name": "python",
   "nbconvert_exporter": "python",
   "pygments_lexer": "ipython3",
   "version": "3.11.3"
  },
  "orig_nbformat": 4
 },
 "nbformat": 4,
 "nbformat_minor": 2
}
