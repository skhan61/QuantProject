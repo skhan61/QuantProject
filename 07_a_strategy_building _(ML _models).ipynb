{
 "cells": [
  {
   "cell_type": "markdown",
   "metadata": {},
   "source": [
    "##### Import"
   ]
  },
  {
   "cell_type": "code",
   "execution_count": 1,
   "metadata": {},
   "outputs": [
    {
     "name": "stderr",
     "output_type": "stream",
     "text": [
      "Using `tqdm.autonotebook.tqdm` in notebook mode. Use `tqdm.tqdm` instead to force console mode (e.g. in jupyter console)\n"
     ]
    }
   ],
   "source": [
    "import warnings\n",
    "import pandas as pd\n",
    "import numpy as np\n",
    "from scipy.stats import spearmanr\n",
    "from tqdm import tqdm\n",
    "import shap\n",
    "from pathlib import Path\n",
    "import matplotlib.pyplot as plt\n",
    "import seaborn as sns\n",
    "from sklearn.metrics import mean_squared_error\n",
    "from sklearn.preprocessing import StandardScaler\n",
    "from sklearn.linear_model import LinearRegression, Ridge, Lasso\n",
    "from sklearn.pipeline import Pipeline\n",
    "import os\n",
    "import gc\n",
    "import sys\n",
    "\n",
    "# Filter out warning messages\n",
    "warnings.filterwarnings('ignore')\n",
    "\n",
    "# Set pandas display options\n",
    "pd.set_option('display.max_columns', 1000)\n",
    "pd.set_option('display.max_rows', 1000)\n",
    "\n",
    "# Set seaborn style\n",
    "sns.set_style('whitegrid')\n",
    "\n",
    "# Add the parent directory to sys.path\n",
    "sys.path.insert(1, os.path.join(sys.path[0], '..'))\n",
    "\n",
    "# Index and deciles for data slicing\n",
    "idx = pd.IndexSlice"
   ]
  },
  {
   "cell_type": "code",
   "execution_count": 2,
   "metadata": {},
   "outputs": [
    {
     "name": "stdout",
     "output_type": "stream",
     "text": [
      "['/data/YEAR_20130102_20141208', '/data/YEAR_20141209_20161114', '/data/YEAR_20161115_20181022', '/data/YEAR_20181023_20200928', '/data/YEAR_20200929_20220902', '/data/YEAR_20220906_20230811', '/data/ic_based_reduced_features_YEAR_20130102_20141208', '/data/ic_based_reduced_features_YEAR_20141209_20161114', '/data/ic_based_reduced_features_YEAR_20161115_20181022', '/data/ic_based_reduced_features_YEAR_20181023_20200928', '/data/ic_based_reduced_features_YEAR_20200929_20220902', '/data/ic_based_reduced_features_YEAR_20220906_20230811']\n"
     ]
    }
   ],
   "source": [
    "import pandas as pd\n",
    "from pathlib import Path\n",
    "\n",
    "DATA_STORE = Path('data/250_dataset.h5')\n",
    "\n",
    "with pd.HDFStore(DATA_STORE) as store:\n",
    "    keys = store.keys()\n",
    "\n",
    "print(keys)"
   ]
  },
  {
   "cell_type": "code",
   "execution_count": 3,
   "metadata": {},
   "outputs": [],
   "source": [
    "from utils import rank_and_quantize\n",
    "\n",
    "with pd.HDFStore(DATA_STORE) as store:\n",
    "    # dataset = store['/data/YEAR_20220906_20230811']\n",
    "    dataset = store['/data/YEAR_20161115_20181022']\n",
    "    dataset = rank_and_quantize(dataset, TARGET_col='TARGET_ret_fwd_frac_order')"
   ]
  },
  {
   "cell_type": "code",
   "execution_count": 4,
   "metadata": {},
   "outputs": [
    {
     "name": "stdout",
     "output_type": "stream",
     "text": [
      "<class 'pandas.core.frame.DataFrame'>\n",
      "MultiIndex: 123208 entries, ('AA', Timestamp('2016-11-15 00:00:00')) to ('ZTS', Timestamp('2018-10-22 00:00:00'))\n",
      "Columns: 600 entries, FEATURE_open to TARGET_ret_fwd_frac_order_quantiled\n",
      "dtypes: float32(360), float64(32), int32(198), int64(1), int8(9)\n",
      "memory usage: 294.8+ MB\n"
     ]
    }
   ],
   "source": [
    "dataset.info()"
   ]
  },
  {
   "cell_type": "code",
   "execution_count": 5,
   "metadata": {},
   "outputs": [
    {
     "name": "stdout",
     "output_type": "stream",
     "text": [
      "586\n",
      "TARGET_ret_fwd_frac_order_quantiled\n"
     ]
    }
   ],
   "source": [
    "# Assuming your DataFrame is named df\n",
    "cols = dataset.columns.tolist()\n",
    "\n",
    "# Populate the features list with column names starting with 'feature_'\n",
    "features = [col for col in cols if col.startswith('FEATURE_')]\n",
    "\n",
    "# Find the first column starting with 'target_' and set it as the label\n",
    "label_cols = [col for col in cols if col.startswith('TARGET_')]\n",
    "# print(label_cols)\n",
    "# label = label_cols[0] if label_cols else None\n",
    "label = 'TARGET_ret_fwd_frac_order_quantiled'\n",
    "print(len(features))  # This will show all the columns starting with 'feature_'\n",
    "print(label)  # This will show the first column starting with 'target_'"
   ]
  },
  {
   "cell_type": "code",
   "execution_count": 6,
   "metadata": {},
   "outputs": [],
   "source": [
    "# Get unique dates and sort them\n",
    "unique_dates = dataset.index.get_level_values('date').unique().sort_values()\n",
    "\n",
    "# Adjust for the look-ahead gap\n",
    "look_ahead = 1\n",
    "\n",
    "# Split dates for training and testing with a gap\n",
    "train_dates = unique_dates[:-21-look_ahead]\n",
    "test_dates = unique_dates[-21:]\n",
    "\n",
    "# Split the dataset\n",
    "train_data = dataset.loc[pd.IndexSlice[:, train_dates], :]\n",
    "test_data = dataset.loc[pd.IndexSlice[:, test_dates], :]"
   ]
  },
  {
   "cell_type": "code",
   "execution_count": 7,
   "metadata": {},
   "outputs": [],
   "source": [
    "def get_fi(model):\n",
    "    fi = model.feature_importance(importance_type='gain')\n",
    "    return (pd.Series(fi / fi.sum(),\n",
    "                index=model.feature_name()))\n",
    "                \n",
    "def ic_lgbm(preds, train_data):\n",
    "    \"\"\"Custom IC eval metric for lightgbm\"\"\"\n",
    "    is_higher_better = True\n",
    "    return 'ic', spearmanr(preds, train_data.get_label())[0], \\\n",
    "        is_higher_better"
   ]
  },
  {
   "cell_type": "code",
   "execution_count": 8,
   "metadata": {},
   "outputs": [],
   "source": [
    "def sharpe_ratio_lgbm(preds, train_data):\n",
    "    \"\"\"Custom Sharpe ratio eval metric for lightgbm that calculates daily Spearman correlations.\"\"\"\n",
    "    labels = train_data.get_label()\n",
    "    \n",
    "    # Assuming the data index is a MultiIndex with date as the first level\n",
    "    if not isinstance(train_data.data.index, pd.MultiIndex):\n",
    "        raise ValueError(\"Expecting a MultiIndex with date as the first level\")\n",
    "\n",
    "    # Group by the first level of the MultiIndex (date) and compute the Spearman correlation for each group\n",
    "    grouped_labels = pd.Series(labels, \\\n",
    "        index=train_data.data.index).groupby(level=0)\n",
    "    # print(len(grouped_labels))\n",
    "    grouped_preds = pd.Series(preds, \\\n",
    "        index=train_data.data.index).groupby(level=0)\n",
    "    # print(len(grouped_preds))\n",
    "\n",
    "    daily_scores = []\n",
    "    for (_, actuals_for_day), (_, preds_for_day) in zip(grouped_labels, grouped_preds):\n",
    "        score_for_day = spearmanr(actuals_for_day, preds_for_day)[0]\n",
    "        if np.isnan(score_for_day):\n",
    "            score_for_day = 0\n",
    "        daily_scores.append(score_for_day)\n",
    "\n",
    "    # Calculate the Sharpe ratio\n",
    "    sharpe_ratio = np.mean(daily_scores) / (np.std(daily_scores) + 1e-9)  # added epsilon to avoid division by zero\n",
    "\n",
    "    return 'sharpe_ratio', sharpe_ratio, True"
   ]
  },
  {
   "cell_type": "code",
   "execution_count": 9,
   "metadata": {},
   "outputs": [],
   "source": [
    "def metrics_on_fold(era_scores):\n",
    "    era_scores = pd.Series(era_scores)\n",
    "    \n",
    "    # Calculate metrics\n",
    "    mean_correlation = np.mean(era_scores)\n",
    "    std_deviation = np.std(era_scores)\n",
    "    sharpe_ratio = mean_correlation / std_deviation\n",
    "    max_dd = (era_scores.cummax() - era_scores).max()\n",
    "\n",
    "    # Smart Sharpe\n",
    "    smart_sharpe = mean_correlation / (std_deviation + np.std(era_scores.diff()))\n",
    "    \n",
    "    # Autocorrelation\n",
    "    autocorrelation = era_scores.autocorr()\n",
    "\n",
    "    metrics = pd.Series({\n",
    "        'mean_correlation': mean_correlation,\n",
    "        'std_deviation': std_deviation,\n",
    "        'sharpe_ratio': sharpe_ratio,\n",
    "        'smart_sharpe': smart_sharpe,\n",
    "        'autocorrelation': autocorrelation,\n",
    "        'max_dd': max_dd,\n",
    "        'min_correlation': era_scores.min(),\n",
    "        'max_correlation': era_scores.max(),\n",
    "    })\n",
    "\n",
    "    # Cleanup\n",
    "    _ = gc.collect()\n",
    "    \n",
    "    return metrics"
   ]
  },
  {
   "cell_type": "code",
   "execution_count": 10,
   "metadata": {},
   "outputs": [
    {
     "name": "stdout",
     "output_type": "stream",
     "text": [
      "<class 'pandas.core.frame.DataFrame'>\n",
      "MultiIndex: 117642 entries, ('AA', Timestamp('2016-11-15 00:00:00')) to ('ZTS', Timestamp('2018-09-20 00:00:00'))\n",
      "Columns: 600 entries, FEATURE_open to TARGET_ret_fwd_frac_order_quantiled\n",
      "dtypes: float32(360), float64(32), int32(198), int64(1), int8(9)\n",
      "memory usage: 281.5+ MB\n"
     ]
    }
   ],
   "source": [
    "train_data.info()"
   ]
  },
  {
   "cell_type": "code",
   "execution_count": 11,
   "metadata": {},
   "outputs": [
    {
     "name": "stderr",
     "output_type": "stream",
     "text": [
      "[I 2023-09-26 21:38:29,328] A new study created in memory with name: no-name-59946139-5c16-43d0-9928-125fa853c23d\n"
     ]
    },
    {
     "name": "stdout",
     "output_type": "stream",
     "text": [
      "Number of categorical vals: 76\n",
      "Training until validation scores don't improve for 500 rounds\n",
      "Early stopping, best iteration is:\n",
      "[1788]\ttrain's sharpe_ratio: 1.76771\tvalid_0's sharpe_ratio: 0.0698503\n",
      "Evaluated only: sharpe_ratio\n",
      "Training until validation scores don't improve for 500 rounds\n",
      "Early stopping, best iteration is:\n",
      "[1]\ttrain's sharpe_ratio: 1.51492\tvalid_0's sharpe_ratio: -0.01082\n",
      "Evaluated only: sharpe_ratio\n",
      "Training until validation scores don't improve for 500 rounds\n",
      "Early stopping, best iteration is:\n",
      "[294]\ttrain's sharpe_ratio: 1.6713\tvalid_0's sharpe_ratio: 0.270381\n",
      "Evaluated only: sharpe_ratio\n",
      "Training until validation scores don't improve for 500 rounds\n",
      "Early stopping, best iteration is:\n",
      "[5]\ttrain's sharpe_ratio: 1.45141\tvalid_0's sharpe_ratio: 0.078977\n",
      "Evaluated only: sharpe_ratio\n",
      "Training until validation scores don't improve for 500 rounds\n",
      "Early stopping, best iteration is:\n",
      "[127]\ttrain's sharpe_ratio: 1.43523\tvalid_0's sharpe_ratio: 0.153043\n",
      "Evaluated only: sharpe_ratio\n",
      "Training until validation scores don't improve for 500 rounds\n"
     ]
    },
    {
     "name": "stderr",
     "output_type": "stream",
     "text": [
      "[I 2023-09-26 21:46:03,884] Trial 0 finished with value: 0.8416087329779494 and parameters: {'num_leaves': 86, 'learning_rate': 0.0024914257978752505, 'feature_fraction': 0.692270523233183, 'bagging_fraction': 0.6520273005825306, 'bagging_freq': 7, 'min_child_samples': 37, 'lambda_l1': 1.9848059472392573e-06, 'lambda_l2': 2.6925006362689277e-06}. Best is trial 0 with value: 0.8416087329779494.\n",
      "[I 2023-09-26 21:46:03,988] Trial 1 finished with value: 1e-09 and parameters: {'num_leaves': 81, 'learning_rate': 0.0012566869639276605, 'feature_fraction': 0.43203575598867083, 'bagging_fraction': 0.47647585279643623, 'bagging_freq': 1, 'min_child_samples': 75, 'lambda_l1': 8.714097914763105e-05, 'lambda_l2': 5.0931745646085164e-08}. Best is trial 0 with value: 0.8416087329779494.\n"
     ]
    },
    {
     "name": "stdout",
     "output_type": "stream",
     "text": [
      "Early stopping, best iteration is:\n",
      "[1]\ttrain's sharpe_ratio: 1.28003\tvalid_0's sharpe_ratio: 0.185929\n",
      "Evaluated only: sharpe_ratio\n",
      "Trial 1/15 finished with value: 0.8416087329779494 and parameters: {'num_leaves': 86, 'learning_rate': 0.0024914257978752505, 'feature_fraction': 0.692270523233183, 'bagging_fraction': 0.6520273005825306, 'bagging_freq': 7, 'min_child_samples': 37, 'lambda_l1': 1.9848059472392573e-06, 'lambda_l2': 2.6925006362689277e-06}. Best is trial 0 with value: 0.8416087329779494.\n"
     ]
    },
    {
     "name": "stderr",
     "output_type": "stream",
     "text": [
      "[I 2023-09-26 21:46:04,098] Trial 2 finished with value: 1e-09 and parameters: {'num_leaves': 51, 'learning_rate': 0.0023455202387422614, 'feature_fraction': 0.969595752919992, 'bagging_fraction': 0.9035197673947086, 'bagging_freq': 4, 'min_child_samples': 44, 'lambda_l1': 0.015835281318273782, 'lambda_l2': 0.0019678454173031653}. Best is trial 0 with value: 0.8416087329779494.\n",
      "[I 2023-09-26 21:46:04,204] Trial 3 finished with value: 1e-09 and parameters: {'num_leaves': 99, 'learning_rate': 0.003199772468213921, 'feature_fraction': 0.45964904806341234, 'bagging_fraction': 0.43804349255950276, 'bagging_freq': 3, 'min_child_samples': 62, 'lambda_l1': 0.005519503563163231, 'lambda_l2': 0.00012810223818281318}. Best is trial 0 with value: 0.8416087329779494.\n",
      "[I 2023-09-26 21:46:04,309] Trial 4 finished with value: 1e-09 and parameters: {'num_leaves': 138, 'learning_rate': 0.01299535436010541, 'feature_fraction': 0.6810435691796974, 'bagging_fraction': 0.5729481936785548, 'bagging_freq': 6, 'min_child_samples': 38, 'lambda_l1': 0.7784735972731421, 'lambda_l2': 0.047398170606539045}. Best is trial 0 with value: 0.8416087329779494.\n"
     ]
    },
    {
     "name": "stdout",
     "output_type": "stream",
     "text": [
      "Trial 2/15 finished with value: 1e-09 and parameters: {'num_leaves': 81, 'learning_rate': 0.0012566869639276605, 'feature_fraction': 0.43203575598867083, 'bagging_fraction': 0.47647585279643623, 'bagging_freq': 1, 'min_child_samples': 75, 'lambda_l1': 8.714097914763105e-05, 'lambda_l2': 5.0931745646085164e-08}. Best is trial 0 with value: 0.8416087329779494.\n",
      "Trial 3/15 finished with value: 1e-09 and parameters: {'num_leaves': 51, 'learning_rate': 0.0023455202387422614, 'feature_fraction': 0.969595752919992, 'bagging_fraction': 0.9035197673947086, 'bagging_freq': 4, 'min_child_samples': 44, 'lambda_l1': 0.015835281318273782, 'lambda_l2': 0.0019678454173031653}. Best is trial 0 with value: 0.8416087329779494.\n",
      "Trial 4/15 finished with value: 1e-09 and parameters: {'num_leaves': 99, 'learning_rate': 0.003199772468213921, 'feature_fraction': 0.45964904806341234, 'bagging_fraction': 0.43804349255950276, 'bagging_freq': 3, 'min_child_samples': 62, 'lambda_l1': 0.005519503563163231, 'lambda_l2': 0.00012810223818281318}. Best is trial 0 with value: 0.8416087329779494.\n"
     ]
    },
    {
     "name": "stderr",
     "output_type": "stream",
     "text": [
      "[I 2023-09-26 21:46:04,414] Trial 5 finished with value: 1e-09 and parameters: {'num_leaves': 122, 'learning_rate': 0.001826953584764995, 'feature_fraction': 0.7506816848820879, 'bagging_fraction': 0.5600167963987206, 'bagging_freq': 7, 'min_child_samples': 47, 'lambda_l1': 8.62030026929333, 'lambda_l2': 0.25560943669846864}. Best is trial 0 with value: 0.8416087329779494.\n",
      "[I 2023-09-26 21:46:04,522] Trial 6 finished with value: 1e-09 and parameters: {'num_leaves': 145, 'learning_rate': 0.025669850406539158, 'feature_fraction': 0.9498880365910709, 'bagging_fraction': 0.9961960699061542, 'bagging_freq': 4, 'min_child_samples': 81, 'lambda_l1': 0.02108994035614337, 'lambda_l2': 2.2479125864014736e-05}. Best is trial 0 with value: 0.8416087329779494.\n",
      "[I 2023-09-26 21:46:04,641] Trial 7 finished with value: 1e-09 and parameters: {'num_leaves': 103, 'learning_rate': 0.0019240860736383187, 'feature_fraction': 0.42833237274421426, 'bagging_fraction': 0.543121560537784, 'bagging_freq': 1, 'min_child_samples': 28, 'lambda_l1': 2.833954532426668e-06, 'lambda_l2': 5.7274471468545203e-08}. Best is trial 0 with value: 0.8416087329779494.\n"
     ]
    },
    {
     "name": "stdout",
     "output_type": "stream",
     "text": [
      "Trial 5/15 finished with value: 1e-09 and parameters: {'num_leaves': 138, 'learning_rate': 0.01299535436010541, 'feature_fraction': 0.6810435691796974, 'bagging_fraction': 0.5729481936785548, 'bagging_freq': 6, 'min_child_samples': 38, 'lambda_l1': 0.7784735972731421, 'lambda_l2': 0.047398170606539045}. Best is trial 0 with value: 0.8416087329779494.\n",
      "Trial 6/15 finished with value: 1e-09 and parameters: {'num_leaves': 122, 'learning_rate': 0.001826953584764995, 'feature_fraction': 0.7506816848820879, 'bagging_fraction': 0.5600167963987206, 'bagging_freq': 7, 'min_child_samples': 47, 'lambda_l1': 8.62030026929333, 'lambda_l2': 0.25560943669846864}. Best is trial 0 with value: 0.8416087329779494.\n",
      "Trial 7/15 finished with value: 1e-09 and parameters: {'num_leaves': 145, 'learning_rate': 0.025669850406539158, 'feature_fraction': 0.9498880365910709, 'bagging_fraction': 0.9961960699061542, 'bagging_freq': 4, 'min_child_samples': 81, 'lambda_l1': 0.02108994035614337, 'lambda_l2': 2.2479125864014736e-05}. Best is trial 0 with value: 0.8416087329779494.\n"
     ]
    },
    {
     "name": "stderr",
     "output_type": "stream",
     "text": [
      "[I 2023-09-26 21:46:04,760] Trial 8 finished with value: 1e-09 and parameters: {'num_leaves': 92, 'learning_rate': 0.011961228300941406, 'feature_fraction': 0.47863081703344573, 'bagging_fraction': 0.6745268914721142, 'bagging_freq': 3, 'min_child_samples': 92, 'lambda_l1': 1.355098033377072e-07, 'lambda_l2': 0.0023427485974355376}. Best is trial 0 with value: 0.8416087329779494.\n",
      "[I 2023-09-26 21:46:04,873] Trial 9 finished with value: 1e-09 and parameters: {'num_leaves': 125, 'learning_rate': 0.004918094877862522, 'feature_fraction': 0.9516866886494154, 'bagging_fraction': 0.6631415325974239, 'bagging_freq': 7, 'min_child_samples': 52, 'lambda_l1': 0.02215336004719233, 'lambda_l2': 8.844344684038936e-05}. Best is trial 0 with value: 0.8416087329779494.\n"
     ]
    },
    {
     "name": "stdout",
     "output_type": "stream",
     "text": [
      "Trial 8/15 finished with value: 1e-09 and parameters: {'num_leaves': 103, 'learning_rate': 0.0019240860736383187, 'feature_fraction': 0.42833237274421426, 'bagging_fraction': 0.543121560537784, 'bagging_freq': 1, 'min_child_samples': 28, 'lambda_l1': 2.833954532426668e-06, 'lambda_l2': 5.7274471468545203e-08}. Best is trial 0 with value: 0.8416087329779494.\n",
      "Trial 9/15 finished with value: 1e-09 and parameters: {'num_leaves': 92, 'learning_rate': 0.011961228300941406, 'feature_fraction': 0.47863081703344573, 'bagging_fraction': 0.6745268914721142, 'bagging_freq': 3, 'min_child_samples': 92, 'lambda_l1': 1.355098033377072e-07, 'lambda_l2': 0.0023427485974355376}. Best is trial 0 with value: 0.8416087329779494.\n",
      "Trial 10/15 finished with value: 1e-09 and parameters: {'num_leaves': 125, 'learning_rate': 0.004918094877862522, 'feature_fraction': 0.9516866886494154, 'bagging_fraction': 0.6631415325974239, 'bagging_freq': 7, 'min_child_samples': 52, 'lambda_l1': 0.02215336004719233, 'lambda_l2': 8.844344684038936e-05}. Best is trial 0 with value: 0.8416087329779494.\n"
     ]
    },
    {
     "name": "stderr",
     "output_type": "stream",
     "text": [
      "[I 2023-09-26 21:46:05,006] Trial 10 finished with value: 1e-09 and parameters: {'num_leaves': 33, 'learning_rate': 0.08491135429121735, 'feature_fraction': 0.6276056119646483, 'bagging_fraction': 0.7559888691291052, 'bagging_freq': 6, 'min_child_samples': 6, 'lambda_l1': 5.755986993158117e-08, 'lambda_l2': 6.968580105998318}. Best is trial 0 with value: 0.8416087329779494.\n",
      "[I 2023-09-26 21:46:05,138] Trial 11 finished with value: 1e-09 and parameters: {'num_leaves': 70, 'learning_rate': 0.0010893361100534468, 'feature_fraction': 0.5576487299076944, 'bagging_fraction': 0.4229665728767468, 'bagging_freq': 1, 'min_child_samples': 71, 'lambda_l1': 3.8011502341763116e-05, 'lambda_l2': 4.720118917853861e-08}. Best is trial 0 with value: 0.8416087329779494.\n"
     ]
    },
    {
     "name": "stdout",
     "output_type": "stream",
     "text": [
      "Trial 11/15 finished with value: 1e-09 and parameters: {'num_leaves': 33, 'learning_rate': 0.08491135429121735, 'feature_fraction': 0.6276056119646483, 'bagging_fraction': 0.7559888691291052, 'bagging_freq': 6, 'min_child_samples': 6, 'lambda_l1': 5.755986993158117e-08, 'lambda_l2': 6.968580105998318}. Best is trial 0 with value: 0.8416087329779494.\n",
      "Trial 12/15 finished with value: 1e-09 and parameters: {'num_leaves': 70, 'learning_rate': 0.0010893361100534468, 'feature_fraction': 0.5576487299076944, 'bagging_fraction': 0.4229665728767468, 'bagging_freq': 1, 'min_child_samples': 71, 'lambda_l1': 3.8011502341763116e-05, 'lambda_l2': 4.720118917853861e-08}. Best is trial 0 with value: 0.8416087329779494.\n"
     ]
    },
    {
     "name": "stderr",
     "output_type": "stream",
     "text": [
      "[I 2023-09-26 21:46:05,272] Trial 12 finished with value: 1e-09 and parameters: {'num_leaves': 69, 'learning_rate': 0.0010479043827322206, 'feature_fraction': 0.4024262099369854, 'bagging_fraction': 0.48908743152381606, 'bagging_freq': 2, 'min_child_samples': 99, 'lambda_l1': 2.6028600181549637e-05, 'lambda_l2': 1.9933604195809472e-06}. Best is trial 0 with value: 0.8416087329779494.\n",
      "[I 2023-09-26 21:46:05,422] Trial 13 finished with value: 1e-09 and parameters: {'num_leaves': 75, 'learning_rate': 0.004942123285120973, 'feature_fraction': 0.5480270894535969, 'bagging_fraction': 0.4037560497037219, 'bagging_freq': 5, 'min_child_samples': 21, 'lambda_l1': 1.406843428149083e-06, 'lambda_l2': 8.480847191701278e-07}. Best is trial 0 with value: 0.8416087329779494.\n"
     ]
    },
    {
     "name": "stdout",
     "output_type": "stream",
     "text": [
      "Trial 13/15 finished with value: 1e-09 and parameters: {'num_leaves': 69, 'learning_rate': 0.0010479043827322206, 'feature_fraction': 0.4024262099369854, 'bagging_fraction': 0.48908743152381606, 'bagging_freq': 2, 'min_child_samples': 99, 'lambda_l1': 2.6028600181549637e-05, 'lambda_l2': 1.9933604195809472e-06}. Best is trial 0 with value: 0.8416087329779494.\n",
      "Trial 14/15 finished with value: 1e-09 and parameters: {'num_leaves': 75, 'learning_rate': 0.004942123285120973, 'feature_fraction': 0.5480270894535969, 'bagging_fraction': 0.4037560497037219, 'bagging_freq': 5, 'min_child_samples': 21, 'lambda_l1': 1.406843428149083e-06, 'lambda_l2': 8.480847191701278e-07}. Best is trial 0 with value: 0.8416087329779494.\n"
     ]
    },
    {
     "name": "stderr",
     "output_type": "stream",
     "text": [
      "[I 2023-09-26 21:46:05,555] Trial 14 finished with value: 1e-09 and parameters: {'num_leaves': 82, 'learning_rate': 0.004678698073186435, 'feature_fraction': 0.7693509429279778, 'bagging_fraction': 0.7478937433412038, 'bagging_freq': 5, 'min_child_samples': 68, 'lambda_l1': 0.0002623488418059988, 'lambda_l2': 2.5431535770900987e-08}. Best is trial 0 with value: 0.8416087329779494.\n"
     ]
    },
    {
     "name": "stdout",
     "output_type": "stream",
     "text": [
      "Trial 15/15 finished with value: 1e-09 and parameters: {'num_leaves': 82, 'learning_rate': 0.004678698073186435, 'feature_fraction': 0.7693509429279778, 'bagging_fraction': 0.7478937433412038, 'bagging_freq': 5, 'min_child_samples': 68, 'lambda_l1': 0.0002623488418059988, 'lambda_l2': 2.5431535770900987e-08}. Best is trial 0 with value: 0.8416087329779494.\n"
     ]
    }
   ],
   "source": [
    "## DONT DELETE or MODIFY\n",
    "import numpy as np\n",
    "import pandas as pd\n",
    "import lightgbm as lgb\n",
    "import optuna\n",
    "from optuna.integration import LightGBMPruningCallback\n",
    "from scipy.stats import spearmanr\n",
    "from utils import CustomBackwardMultipleTimeSeriesCV\n",
    "\n",
    "warnings.filterwarnings('ignore')\n",
    "\n",
    "\n",
    "evals_result = {}\n",
    "\n",
    "def objective(trial, data, features, categoricals, cv):\n",
    "    params = {\n",
    "        'boosting': 'gbdt',\n",
    "        'objective': 'regression',\n",
    "        'verbose': -1,\n",
    "        'metric': 'None',\n",
    "        'device': 'gpu',\n",
    "        'num_leaves': trial.suggest_int('num_leaves', 30, 150),\n",
    "        'learning_rate': trial.suggest_float('learning_rate', 0.001, 0.1, log=True),\n",
    "        'feature_fraction': trial.suggest_float('feature_fraction', 0.4, 1.0),\n",
    "        'bagging_fraction': trial.suggest_float('bagging_fraction', 0.4, 1.0),\n",
    "        'bagging_freq': trial.suggest_int('bagging_freq', 1, 7),\n",
    "        'min_child_samples': trial.suggest_int('min_child_samples', 5, 100),\n",
    "        'lambda_l1': trial.suggest_loguniform('lambda_l1', 1e-8, 10.0),\n",
    "        'lambda_l2': trial.suggest_loguniform('lambda_l2', 1e-8, 10.0),\n",
    "    }\n",
    "\n",
    "    # Create a LightGBM callback for early stopping\n",
    "    early_stopping = lgb.early_stopping(stopping_rounds=500, \\\n",
    "        verbose=True, first_metric_only=True)\n",
    "\n",
    "    all_daily_scores = []\n",
    "    # print(cv)\n",
    "    for train_idx, val_idx in cv:\n",
    "        train_features = data.loc[train_idx, features]\n",
    "        train_labels = data.loc[train_idx, label]\n",
    "\n",
    "        lgb_train = lgb.Dataset(data=train_features, label=train_labels, \n",
    "                                categorical_feature=categoricals,\n",
    "                                free_raw_data=False)\n",
    "\n",
    "        val_features = data.loc[val_idx, features]\n",
    "        val_labels = data.loc[val_idx, label]\n",
    "\n",
    "        lgb_val = lgb.Dataset(data=val_features, label=val_labels, \n",
    "                              categorical_feature=categoricals,\n",
    "                              free_raw_data=False)\n",
    "\n",
    "        model = lgb.train(params=params,\n",
    "                          train_set=lgb_train,\n",
    "                          num_boost_round=5000,\n",
    "                          valid_sets=[lgb_train, lgb_val],\n",
    "                          valid_names=['train', 'valid_0'],\n",
    "                          feval=sharpe_ratio_lgbm,\n",
    "                          callbacks=[lgb.record_evaluation(evals_result),\n",
    "                                     early_stopping,\n",
    "                                     LightGBMPruningCallback(trial, 'sharpe_ratio')])\n",
    "\n",
    "        # Ensure your feval function returns daily scores for this to work correctly\n",
    "        all_daily_scores.extend(evals_result['valid_0']['sharpe_ratio'])\n",
    "\n",
    "    metrics = metrics_on_fold(all_daily_scores)\n",
    "\n",
    "    # Now, return the smart_sharpe to be optimized by Optuna\n",
    "    score = metrics['smart_sharpe'] #- 0.1 * metrics['max_dd']\n",
    "\n",
    "    if np.isnan(score):\n",
    "        return 1e-9  # Return a very low value if smart_sharpe is nan\n",
    "\n",
    "    return score\n",
    "\n",
    "\n",
    "uniques = dataset.nunique()\n",
    "\n",
    "# categoricals = [col for col in uniques[uniques < 20].index if dataset[col].ge(0).all()]\n",
    "categoricals = [col for col in uniques[uniques < 20].index if \\\n",
    "    dataset[col].ge(0).all() and col.startswith(\"FEATURE_\")]\n",
    "\n",
    "\n",
    "print(f'Number of categorical vals: {len(categoricals)}')\n",
    "\n",
    "\n",
    "cv = CustomBackwardMultipleTimeSeriesCV(train_data, train_period_length=21*3, \n",
    "                                        test_period_length=5, \n",
    "                                        lookahead=1, \n",
    "                                        date_idx='date')\n",
    "\n",
    "def progress_bar(study, trial, n_trials):\n",
    "    progress = (trial.number + 1) / n_trials\n",
    "    best_trial_msg = \"\"\n",
    "    if study.best_trial is not None:\n",
    "        best_trial_msg = f\"Best is trial {study.best_trial.number} with value: {study.best_trial.value}.\"\n",
    "    print(f'Trial {trial.number + 1}/{n_trials} finished with value: {trial.value} and parameters: {trial.params}. {best_trial_msg}')\n",
    "\n",
    "n_trials = 15\n",
    "study = optuna.create_study(direction='maximize', pruner=optuna.pruners.MedianPruner(n_startup_trials=10, n_warmup_steps=5))\n",
    "study.optimize(lambda trial: objective(trial, train_data, features, categoricals, cv), \n",
    "               n_trials=n_trials, \n",
    "               callbacks=[lambda study, \\\n",
    "               trial: progress_bar(study, trial, n_trials)])"
   ]
  },
  {
   "cell_type": "code",
   "execution_count": 12,
   "metadata": {},
   "outputs": [
    {
     "data": {
      "image/png": "[encoded data removed]",
      "text/plain": [
       "<Figure size 1200x400 with 2 Axes>"
      ]
     },
     "metadata": {},
     "output_type": "display_data"
    }
   ],
   "source": [
    "import matplotlib.pyplot as plt\n",
    "\n",
    "# Create DataFrame from results\n",
    "cv_result = pd.DataFrame({'Train Set': evals_result['train']['sharpe_ratio'], \n",
    "                          'Validation Set': evals_result['valid_0']['sharpe_ratio']})\n",
    "\n",
    "# Create the plot with separate y-axes for Train and Validation sets\n",
    "fig, ax1 = plt.subplots(figsize=(12, 4))\n",
    "\n",
    "ax2 = ax1.twinx()  # instantiate a second axes sharing the same x-axis\n",
    "ax1.plot(cv_result.index, cv_result['Train Set'], 'g-')\n",
    "ax2.plot(cv_result.index, cv_result['Validation Set'], 'b-')\n",
    "\n",
    "ax1.set_ylabel('Train Set', color='g')\n",
    "ax2.set_ylabel('Validation Set', color='b')\n",
    "ax1.axvline(cv_result['Validation Set'].idxmax(), c='k', ls='--', lw=1)\n",
    "\n",
    "plt.show()"
   ]
  },
  {
   "cell_type": "code",
   "execution_count": 13,
   "metadata": {},
   "outputs": [
    {
     "name": "stdout",
     "output_type": "stream",
     "text": [
      "Best parameters found by Optuna:\n",
      "{'num_leaves': 86, 'learning_rate': 0.0024914257978752505, 'feature_fraction': 0.692270523233183, 'bagging_fraction': 0.6520273005825306, 'bagging_freq': 7, 'min_child_samples': 37, 'lambda_l1': 1.9848059472392573e-06, 'lambda_l2': 2.6925006362689277e-06}\n"
     ]
    }
   ],
   "source": [
    "best_params = study.best_params\n",
    "print(\"Best parameters found by Optuna:\")\n",
    "print(best_params)"
   ]
  },
  {
   "cell_type": "code",
   "execution_count": 14,
   "metadata": {},
   "outputs": [
    {
     "name": "stdout",
     "output_type": "stream",
     "text": [
      "[LightGBM] [Warning] Auto-choosing col-wise multi-threading, the overhead of testing was 0.086561 seconds.\n",
      "You can set `force_col_wise=true` to remove the overhead.\n",
      "[LightGBM] [Info] Total Bins 95997\n",
      "[LightGBM] [Info] Number of data points in the train set: 117642, number of used features: 556\n",
      "[LightGBM] [Info] Start training from score 0.501989\n"
     ]
    }
   ],
   "source": [
    "lgb_train_all = lgb.Dataset(data=train_data[features], label=train_data[label], \n",
    "                            categorical_feature=categoricals, free_raw_data=False)\n",
    "\n",
    "best_model = lgb.train(params=best_params,\n",
    "                       train_set=lgb_train_all,\n",
    "                       num_boost_round=5000,  # or some other number of boosting rounds\n",
    "                       feval=sharpe_ratio_lgbm,\n",
    "                       callbacks=[lgb.record_evaluation(evals_result)])"
   ]
  },
  {
   "cell_type": "markdown",
   "metadata": {},
   "source": [
    "#### Test on unseen data"
   ]
  },
  {
   "cell_type": "code",
   "execution_count": 15,
   "metadata": {},
   "outputs": [],
   "source": [
    "test_features = test_data[features]\n",
    "test_labels = test_data[label]\n",
    "\n",
    "y_pred = best_model.predict(test_features)\n",
    "\n",
    "preds = test_labels.reset_index(name='actual').assign(predicted=y_pred).set_index(['date', 'ticker'])\n",
    "\n",
    "# Rename columns to add 'feature_' prefix\n",
    "cols_to_rename = ['open', 'high', 'low', 'close', 'volume']\n",
    "new_col_names = [\"FEATURE_\" + col for col in cols_to_rename]\n",
    "rename_dict = dict(zip(cols_to_rename, new_col_names))\n",
    "\n",
    "test_data_renamed = test_data.rename(columns=rename_dict)\n",
    "\n",
    "# Using the 'merge' method to join on MultiIndex levels 'date' and 'ticker'\n",
    "preds = preds.reset_index().merge(test_data_renamed[new_col_names].reset_index(), \n",
    "                                  on=['ticker', 'date'], \n",
    "                                  how='left')\n",
    "\n",
    "### Only select columns of interest\n",
    "preds = preds[['date', 'ticker', 'actual', 'predicted'] \\\n",
    "    + new_col_names].set_index(['ticker', 'date'])\n"
   ]
  },
  {
   "cell_type": "code",
   "execution_count": 16,
   "metadata": {},
   "outputs": [
    {
     "data": {
      "text/html": [
       "<div>\n",
       "<style scoped>\n",
       "    .dataframe tbody tr th:only-of-type {\n",
       "        vertical-align: middle;\n",
       "    }\n",
       "\n",
       "    .dataframe tbody tr th {\n",
       "        vertical-align: top;\n",
       "    }\n",
       "\n",
       "    .dataframe thead th {\n",
       "        text-align: right;\n",
       "    }\n",
       "</style>\n",
       "<table border=\"1\" class=\"dataframe\">\n",
       "  <thead>\n",
       "    <tr style=\"text-align: right;\">\n",
       "      <th></th>\n",
       "      <th></th>\n",
       "      <th>actual</th>\n",
       "      <th>predicted</th>\n",
       "      <th>FEATURE_open</th>\n",
       "      <th>FEATURE_high</th>\n",
       "      <th>FEATURE_low</th>\n",
       "      <th>FEATURE_close</th>\n",
       "      <th>FEATURE_volume</th>\n",
       "    </tr>\n",
       "    <tr>\n",
       "      <th>ticker</th>\n",
       "      <th>date</th>\n",
       "      <th></th>\n",
       "      <th></th>\n",
       "      <th></th>\n",
       "      <th></th>\n",
       "      <th></th>\n",
       "      <th></th>\n",
       "      <th></th>\n",
       "    </tr>\n",
       "  </thead>\n",
       "  <tbody>\n",
       "    <tr>\n",
       "      <th rowspan=\"5\" valign=\"top\">AA</th>\n",
       "      <th>2018-09-24</th>\n",
       "      <td>0.25</td>\n",
       "      <td>0.397240</td>\n",
       "      <td>42.600899</td>\n",
       "      <td>43.274601</td>\n",
       "      <td>41.511799</td>\n",
       "      <td>41.561501</td>\n",
       "      <td>4.093206e+06</td>\n",
       "    </tr>\n",
       "    <tr>\n",
       "      <th>2018-09-25</th>\n",
       "      <td>0.25</td>\n",
       "      <td>0.361032</td>\n",
       "      <td>41.253399</td>\n",
       "      <td>41.541500</td>\n",
       "      <td>40.213902</td>\n",
       "      <td>40.847900</td>\n",
       "      <td>5.201593e+06</td>\n",
       "    </tr>\n",
       "    <tr>\n",
       "      <th>2018-09-26</th>\n",
       "      <td>0.25</td>\n",
       "      <td>0.312567</td>\n",
       "      <td>40.907501</td>\n",
       "      <td>40.907501</td>\n",
       "      <td>39.203400</td>\n",
       "      <td>40.094700</td>\n",
       "      <td>7.925007e+06</td>\n",
       "    </tr>\n",
       "    <tr>\n",
       "      <th>2018-09-27</th>\n",
       "      <td>0.25</td>\n",
       "      <td>0.330050</td>\n",
       "      <td>39.996399</td>\n",
       "      <td>40.421700</td>\n",
       "      <td>39.699200</td>\n",
       "      <td>40.114601</td>\n",
       "      <td>2.870088e+06</td>\n",
       "    </tr>\n",
       "    <tr>\n",
       "      <th>2018-09-28</th>\n",
       "      <td>0.25</td>\n",
       "      <td>0.339807</td>\n",
       "      <td>40.154301</td>\n",
       "      <td>40.961201</td>\n",
       "      <td>39.857101</td>\n",
       "      <td>40.016201</td>\n",
       "      <td>3.791802e+06</td>\n",
       "    </tr>\n",
       "    <tr>\n",
       "      <th>...</th>\n",
       "      <th>...</th>\n",
       "      <td>...</td>\n",
       "      <td>...</td>\n",
       "      <td>...</td>\n",
       "      <td>...</td>\n",
       "      <td>...</td>\n",
       "      <td>...</td>\n",
       "      <td>...</td>\n",
       "    </tr>\n",
       "    <tr>\n",
       "      <th rowspan=\"5\" valign=\"top\">ZTS</th>\n",
       "      <th>2018-10-16</th>\n",
       "      <td>0.75</td>\n",
       "      <td>0.561334</td>\n",
       "      <td>88.508102</td>\n",
       "      <td>89.587799</td>\n",
       "      <td>87.962303</td>\n",
       "      <td>89.442497</td>\n",
       "      <td>2.399464e+06</td>\n",
       "    </tr>\n",
       "    <tr>\n",
       "      <th>2018-10-17</th>\n",
       "      <td>0.75</td>\n",
       "      <td>0.606728</td>\n",
       "      <td>89.423500</td>\n",
       "      <td>90.581902</td>\n",
       "      <td>89.158600</td>\n",
       "      <td>90.396698</td>\n",
       "      <td>2.183397e+06</td>\n",
       "    </tr>\n",
       "    <tr>\n",
       "      <th>2018-10-18</th>\n",
       "      <td>0.75</td>\n",
       "      <td>0.566261</td>\n",
       "      <td>90.094902</td>\n",
       "      <td>90.544098</td>\n",
       "      <td>88.856796</td>\n",
       "      <td>89.462402</td>\n",
       "      <td>1.707729e+06</td>\n",
       "    </tr>\n",
       "    <tr>\n",
       "      <th>2018-10-19</th>\n",
       "      <td>0.75</td>\n",
       "      <td>0.525344</td>\n",
       "      <td>89.356796</td>\n",
       "      <td>90.289200</td>\n",
       "      <td>88.886597</td>\n",
       "      <td>89.109802</td>\n",
       "      <td>1.781375e+06</td>\n",
       "    </tr>\n",
       "    <tr>\n",
       "      <th>2018-10-22</th>\n",
       "      <td>0.75</td>\n",
       "      <td>0.614335</td>\n",
       "      <td>89.365700</td>\n",
       "      <td>90.534103</td>\n",
       "      <td>88.811996</td>\n",
       "      <td>90.406601</td>\n",
       "      <td>2.823025e+06</td>\n",
       "    </tr>\n",
       "  </tbody>\n",
       "</table>\n",
       "<p>5439 rows × 7 columns</p>\n",
       "</div>"
      ],
      "text/plain": [
       "                   actual  predicted  FEATURE_open  FEATURE_high  FEATURE_low  \\\n",
       "ticker date                                                                     \n",
       "AA     2018-09-24    0.25   0.397240     42.600899     43.274601    41.511799   \n",
       "       2018-09-25    0.25   0.361032     41.253399     41.541500    40.213902   \n",
       "       2018-09-26    0.25   0.312567     40.907501     40.907501    39.203400   \n",
       "       2018-09-27    0.25   0.330050     39.996399     40.421700    39.699200   \n",
       "       2018-09-28    0.25   0.339807     40.154301     40.961201    39.857101   \n",
       "...                   ...        ...           ...           ...          ...   \n",
       "ZTS    2018-10-16    0.75   0.561334     88.508102     89.587799    87.962303   \n",
       "       2018-10-17    0.75   0.606728     89.423500     90.581902    89.158600   \n",
       "       2018-10-18    0.75   0.566261     90.094902     90.544098    88.856796   \n",
       "       2018-10-19    0.75   0.525344     89.356796     90.289200    88.886597   \n",
       "       2018-10-22    0.75   0.614335     89.365700     90.534103    88.811996   \n",
       "\n",
       "                   FEATURE_close  FEATURE_volume  \n",
       "ticker date                                       \n",
       "AA     2018-09-24      41.561501    4.093206e+06  \n",
       "       2018-09-25      40.847900    5.201593e+06  \n",
       "       2018-09-26      40.094700    7.925007e+06  \n",
       "       2018-09-27      40.114601    2.870088e+06  \n",
       "       2018-09-28      40.016201    3.791802e+06  \n",
       "...                          ...             ...  \n",
       "ZTS    2018-10-16      89.442497    2.399464e+06  \n",
       "       2018-10-17      90.396698    2.183397e+06  \n",
       "       2018-10-18      89.462402    1.707729e+06  \n",
       "       2018-10-19      89.109802    1.781375e+06  \n",
       "       2018-10-22      90.406601    2.823025e+06  \n",
       "\n",
       "[5439 rows x 7 columns]"
      ]
     },
     "execution_count": 16,
     "metadata": {},
     "output_type": "execute_result"
    }
   ],
   "source": [
    "preds"
   ]
  },
  {
   "cell_type": "code",
   "execution_count": 17,
   "metadata": {},
   "outputs": [],
   "source": [
    "def daily_spearman(group):\n",
    "    return spearmanr(group['actual'], group['predicted'])[0]\n",
    "\n",
    "daily_correlations = preds.groupby('date').apply(daily_spearman)"
   ]
  },
  {
   "cell_type": "code",
   "execution_count": 18,
   "metadata": {},
   "outputs": [],
   "source": [
    "# Calculate the mean and standard deviation of daily correlations\n",
    "mean_daily_correlation = daily_correlations.mean()\n",
    "std_daily_correlation = daily_correlations.std()\n",
    "\n",
    "# Calculate Sharpe ratio for each date\n",
    "daily_sharpe_ratios = (daily_correlations - mean_daily_correlation) / std_daily_correlation"
   ]
  },
  {
   "cell_type": "code",
   "execution_count": 19,
   "metadata": {},
   "outputs": [
    {
     "data": {
      "image/png": "[encoded data removed]",
      "text/plain": [
       "<Figure size 1200x600 with 1 Axes>"
      ]
     },
     "metadata": {},
     "output_type": "display_data"
    }
   ],
   "source": [
    "import matplotlib.pyplot as plt\n",
    "\n",
    "# Create a list of colors based on the sign of the Sharpe Ratios\n",
    "colors = ['blue' if value > 0 else 'red' for value in daily_sharpe_ratios]\n",
    "\n",
    "plt.figure(figsize=(12,6))\n",
    "daily_sharpe_ratios.plot(kind='bar', color=colors)\n",
    "plt.title('Daily Sharpe Ratios')\n",
    "plt.xlabel('Date')\n",
    "plt.ylabel('Sharpe Ratio')\n",
    "plt.grid(axis='y')\n",
    "plt.tight_layout()\n",
    "plt.axhline(y=0, color='black', linestyle='-')  # Here's where we add the horizontal line at y=0\n",
    "plt.xticks(rotation=45)  # rotates the x-axis labels for better visibility\n",
    "plt.show()"
   ]
  },
  {
   "cell_type": "code",
   "execution_count": 20,
   "metadata": {},
   "outputs": [
    {
     "name": "stdout",
     "output_type": "stream",
     "text": [
      "Information Coefficient (overall): 93.984% (p-value: 0.0000%)\n"
     ]
    }
   ],
   "source": [
    "lr_r, lr_p = spearmanr(preds.actual, preds.predicted)\n",
    "print(f'Information Coefficient (overall): {lr_r:.3%} (p-value: {lr_p:.4%})')"
   ]
  },
  {
   "cell_type": "code",
   "execution_count": null,
   "metadata": {},
   "outputs": [],
   "source": []
  }
 ],
 "metadata": {
  "kernelspec": {
   "display_name": "base",
   "language": "python",
   "name": "python3"
  },
  "language_info": {
   "codemirror_mode": {
    "name": "ipython",
    "version": 3
   },
   "file_extension": ".py",
   "mimetype": "text/x-python",
   "name": "python",
   "nbconvert_exporter": "python",
   "pygments_lexer": "ipython3",
   "version": "3.11.3"
  },
  "orig_nbformat": 4
 },
 "nbformat": 4,
 "nbformat_minor": 2
}
