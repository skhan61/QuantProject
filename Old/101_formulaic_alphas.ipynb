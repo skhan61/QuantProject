{
 "cells": [
  {
   "cell_type": "markdown",
   "metadata": {},
   "source": [
    "##### 101 Formulaic Alphas"
   ]
  },
  {
   "cell_type": "markdown",
   "metadata": {},
   "source": [
    "- Based on [101 Formulaic Alphas](https://arxiv.org/pdf/1601.00991.pdf), Zura Kakushadze, arxiv, 2015"
   ]
  },
  {
   "cell_type": "markdown",
   "metadata": {},
   "source": [
    "##### Imports & Settings"
   ]
  },
  {
   "cell_type": "code",
   "execution_count": null,
   "metadata": {
    "ExecuteTime": {
     "end_time": "2021-04-16T14:05:27.056262Z",
     "start_time": "2021-04-16T14:05:27.054663Z"
    }
   },
   "outputs": [],
   "source": [
    "import warnings\n",
    "warnings.filterwarnings('ignore')"
   ]
  },
  {
   "cell_type": "code",
   "execution_count": null,
   "metadata": {
    "ExecuteTime": {
     "end_time": "2021-04-16T14:05:27.069872Z",
     "start_time": "2021-04-16T14:05:27.066583Z"
    }
   },
   "outputs": [],
   "source": [
    "%matplotlib inline\n",
    "\n",
    "import numpy as np\n",
    "import pandas as pd\n",
    "from sklearn.feature_selection import mutual_info_regression\n",
    "from scipy.stats import spearmanr\n",
    "import matplotlib.pyplot as plt\n",
    "import seaborn as sns\n",
    "from talib import WMA"
   ]
  },
  {
   "cell_type": "code",
   "execution_count": null,
   "metadata": {
    "ExecuteTime": {
     "end_time": "2021-04-16T14:05:27.078659Z",
     "start_time": "2021-04-16T14:05:27.076944Z"
    }
   },
   "outputs": [],
   "source": [
    "idx= pd.IndexSlice\n",
    "sns.set_style('whitegrid')"
   ]
  },
  {
   "cell_type": "code",
   "execution_count": null,
   "metadata": {
    "ExecuteTime": {
     "end_time": "2021-04-16T14:05:27.118985Z",
     "start_time": "2021-04-16T14:05:27.116951Z"
    }
   },
   "outputs": [],
   "source": [
    "def rank(df):\n",
    "    \"\"\"Return the cross-sectional percentile rank\n",
    "\n",
    "     Args:\n",
    "         :param df: tickers in columns, sorted dates in rows.\n",
    "\n",
    "     Returns:\n",
    "         pd.DataFrame: the ranked values\n",
    "     \"\"\"\n",
    "    return df.rank(axis=1, pct=True)"
   ]
  },
  {
   "cell_type": "code",
   "execution_count": null,
   "metadata": {
    "ExecuteTime": {
     "end_time": "2021-04-16T14:05:27.130008Z",
     "start_time": "2021-04-16T14:05:27.128012Z"
    }
   },
   "outputs": [],
   "source": [
    "def scale(df):\n",
    "    \"\"\"\n",
    "    Scaling time serie.\n",
    "    :param df: a pandas DataFrame.\n",
    "    :param k: scaling factor.\n",
    "    :return: a pandas DataFrame rescaled df such that sum(abs(df)) = k\n",
    "    \"\"\"\n",
    "    return df.div(df.abs().sum(axis=1), axis=0)"
   ]
  },
  {
   "cell_type": "code",
   "execution_count": null,
   "metadata": {
    "ExecuteTime": {
     "end_time": "2021-04-16T14:05:27.151780Z",
     "start_time": "2021-04-16T14:05:27.150003Z"
    }
   },
   "outputs": [],
   "source": [
    "def log(df):\n",
    "    return np.log1p(df)"
   ]
  },
  {
   "cell_type": "code",
   "execution_count": null,
   "metadata": {
    "ExecuteTime": {
     "end_time": "2021-04-16T14:05:27.163090Z",
     "start_time": "2021-04-16T14:05:27.161417Z"
    }
   },
   "outputs": [],
   "source": [
    "def sign(df):\n",
    "    return np.sign(df)"
   ]
  },
  {
   "cell_type": "code",
   "execution_count": null,
   "metadata": {
    "ExecuteTime": {
     "end_time": "2021-04-16T14:05:27.177116Z",
     "start_time": "2021-04-16T14:05:27.172544Z"
    }
   },
   "outputs": [],
   "source": [
    "def power(df, exp):\n",
    "    return df.pow(exp)"
   ]
  },
  {
   "cell_type": "code",
   "execution_count": null,
   "metadata": {
    "ExecuteTime": {
     "end_time": "2021-04-16T14:05:27.202307Z",
     "start_time": "2021-04-16T14:05:27.200505Z"
    }
   },
   "outputs": [],
   "source": [
    "def ts_lag(df: pd.DataFrame, t: int = 1) -> pd.DataFrame:\n",
    "    \"\"\"Return the lagged values t periods ago.\n",
    "\n",
    "    Args:\n",
    "        :param df: tickers in columns, sorted dates in rows.\n",
    "        :param t: lag\n",
    "\n",
    "    Returns:\n",
    "        pd.DataFrame: the lagged values\n",
    "    \"\"\"\n",
    "    return df.shift(t)"
   ]
  },
  {
   "cell_type": "code",
   "execution_count": null,
   "metadata": {
    "ExecuteTime": {
     "end_time": "2021-04-16T14:05:27.213254Z",
     "start_time": "2021-04-16T14:05:27.211414Z"
    }
   },
   "outputs": [],
   "source": [
    "def ts_delta(df, period=1):\n",
    "    \"\"\"\n",
    "    Wrapper function to estimate difference.\n",
    "    :param df: a pandas DataFrame.\n",
    "    :param period: the difference grade.\n",
    "    :return: a pandas DataFrame with today’s value minus the value 'period' days ago.\n",
    "    \"\"\"\n",
    "    return df.diff(period)"
   ]
  },
  {
   "cell_type": "code",
   "execution_count": null,
   "metadata": {
    "ExecuteTime": {
     "end_time": "2021-04-16T14:05:27.229422Z",
     "start_time": "2021-04-16T14:05:27.222232Z"
    }
   },
   "outputs": [],
   "source": [
    "def ts_sum(df: pd.DataFrame, window: int = 10) -> pd.DataFrame:\n",
    "    \"\"\"Computes the rolling ts_sum for the given window size.\n",
    "\n",
    "    Args:\n",
    "        df (pd.DataFrame): tickers in columns, dates in rows.\n",
    "        window      (int): size of rolling window.\n",
    "\n",
    "    Returns:\n",
    "        pd.DataFrame: the ts_sum over the last 'window' days.\n",
    "    \"\"\"\n",
    "    return df.rolling(window).sum()"
   ]
  },
  {
   "cell_type": "code",
   "execution_count": null,
   "metadata": {
    "ExecuteTime": {
     "end_time": "2021-04-16T14:05:27.237317Z",
     "start_time": "2021-04-16T14:05:27.232838Z"
    }
   },
   "outputs": [],
   "source": [
    "def ts_mean(df, window=10):\n",
    "    \"\"\"Computes the rolling mean for the given window size.\n",
    "\n",
    "    Args:\n",
    "        df (pd.DataFrame): tickers in columns, dates in rows.\n",
    "        window      (int): size of rolling window.\n",
    "\n",
    "    Returns:\n",
    "        pd.DataFrame: the mean over the last 'window' days.\n",
    "    \"\"\"\n",
    "    return df.rolling(window).mean()"
   ]
  },
  {
   "cell_type": "code",
   "execution_count": null,
   "metadata": {
    "ExecuteTime": {
     "end_time": "2021-04-16T14:05:27.245763Z",
     "start_time": "2021-04-16T14:05:27.243908Z"
    }
   },
   "outputs": [],
   "source": [
    "def ts_weighted_mean(df, period=10):\n",
    "    \"\"\"\n",
    "    Linear weighted moving average implementation.\n",
    "    :param df: a pandas DataFrame.\n",
    "    :param period: the LWMA period\n",
    "    :return: a pandas DataFrame with the LWMA.\n",
    "    \"\"\"\n",
    "    return (df.apply(lambda x: WMA(x, timeperiod=period)))"
   ]
  },
  {
   "cell_type": "code",
   "execution_count": null,
   "metadata": {
    "ExecuteTime": {
     "end_time": "2021-04-16T14:05:27.256611Z",
     "start_time": "2021-04-16T14:05:27.254806Z"
    }
   },
   "outputs": [],
   "source": [
    "def ts_std(df, window=10):\n",
    "    \"\"\"\n",
    "    Wrapper function to estimate rolling standard deviation.\n",
    "    :param df: a pandas DataFrame.\n",
    "    :param window: the rolling window.\n",
    "    :return: a pandas DataFrame with the time-series min over the past 'window' days.\n",
    "    \"\"\"\n",
    "    return (df\n",
    "            .rolling(window)\n",
    "            .std())"
   ]
  },
  {
   "cell_type": "code",
   "execution_count": null,
   "metadata": {
    "ExecuteTime": {
     "end_time": "2021-04-16T14:05:27.266413Z",
     "start_time": "2021-04-16T14:05:27.264495Z"
    }
   },
   "outputs": [],
   "source": [
    "def ts_rank(df, window=10):\n",
    "    \"\"\"\n",
    "    Wrapper function to estimate rolling rank.\n",
    "    :param df: a pandas DataFrame.\n",
    "    :param window: the rolling window.\n",
    "    :return: a pandas DataFrame with the time-series rank over the past window days.\n",
    "    \"\"\"\n",
    "    return (df\n",
    "            .rolling(window)\n",
    "            .apply(lambda x: x.rank().iloc[-1]))"
   ]
  },
  {
   "cell_type": "code",
   "execution_count": null,
   "metadata": {
    "ExecuteTime": {
     "end_time": "2021-04-16T14:05:27.275962Z",
     "start_time": "2021-04-16T14:05:27.274169Z"
    }
   },
   "outputs": [],
   "source": [
    "def ts_product(df, window=10):\n",
    "    \"\"\"\n",
    "    Wrapper function to estimate rolling ts_product.\n",
    "    :param df: a pandas DataFrame.\n",
    "    :param window: the rolling window.\n",
    "    :return: a pandas DataFrame with the time-series ts_product over the past 'window' days.\n",
    "    \"\"\"\n",
    "    return (df\n",
    "            .rolling(window)\n",
    "            .apply(np.prod))"
   ]
  },
  {
   "cell_type": "code",
   "execution_count": null,
   "metadata": {
    "ExecuteTime": {
     "end_time": "2021-04-16T14:05:27.286920Z",
     "start_time": "2021-04-16T14:05:27.283973Z"
    }
   },
   "outputs": [],
   "source": [
    "def ts_min(df, window=10):\n",
    "    \"\"\"\n",
    "    Wrapper function to estimate rolling min.\n",
    "    :param df: a pandas DataFrame.\n",
    "    :param window: the rolling window.\n",
    "    :return: a pandas DataFrame with the time-series min over the past 'window' days.\n",
    "    \"\"\"\n",
    "    return df.rolling(window).min()"
   ]
  },
  {
   "cell_type": "code",
   "execution_count": null,
   "metadata": {
    "ExecuteTime": {
     "end_time": "2021-04-16T14:05:27.295455Z",
     "start_time": "2021-04-16T14:05:27.293667Z"
    }
   },
   "outputs": [],
   "source": [
    "def ts_max(df, window=10):\n",
    "    \"\"\"\n",
    "    Wrapper function to estimate rolling min.\n",
    "    :param df: a pandas DataFrame.\n",
    "    :param window: the rolling window.\n",
    "    :return: a pandas DataFrame with the time-series max over the past 'window' days.\n",
    "    \"\"\"\n",
    "    return df.rolling(window).max()"
   ]
  },
  {
   "cell_type": "code",
   "execution_count": null,
   "metadata": {
    "ExecuteTime": {
     "end_time": "2021-04-16T14:05:27.305297Z",
     "start_time": "2021-04-16T14:05:27.303519Z"
    }
   },
   "outputs": [],
   "source": [
    "def ts_argmax(df, window=10):\n",
    "    \"\"\"\n",
    "    Wrapper function to estimate which day ts_max(df, window) occurred on\n",
    "    :param df: a pandas DataFrame.\n",
    "    :param window: the rolling window.\n",
    "    :return: well.. that :)\n",
    "    \"\"\"\n",
    "    return df.rolling(window).apply(np.argmax).add(1)"
   ]
  },
  {
   "cell_type": "code",
   "execution_count": null,
   "metadata": {
    "ExecuteTime": {
     "end_time": "2021-04-16T14:05:27.315548Z",
     "start_time": "2021-04-16T14:05:27.313650Z"
    }
   },
   "outputs": [],
   "source": [
    "def ts_argmin(df, window=10):\n",
    "    \"\"\"\n",
    "    Wrapper function to estimate which day ts_min(df, window) occurred on\n",
    "    :param df: a pandas DataFrame.\n",
    "    :param window: the rolling window.\n",
    "    :return: well.. that :)\n",
    "    \"\"\"\n",
    "    return (df.rolling(window)\n",
    "            .apply(np.argmin)\n",
    "            .add(1))"
   ]
  },
  {
   "cell_type": "code",
   "execution_count": null,
   "metadata": {
    "ExecuteTime": {
     "end_time": "2021-04-16T14:05:27.327912Z",
     "start_time": "2021-04-16T14:05:27.323431Z"
    }
   },
   "outputs": [],
   "source": [
    "def ts_corr(x, y, window=10):\n",
    "    \"\"\"\n",
    "    Wrapper function to estimate rolling correlations.\n",
    "    :param x, y: pandas DataFrames.\n",
    "    :param window: the rolling window.\n",
    "    :return: a pandas DataFrame with the time-series min over the past 'window' days.\n",
    "    \"\"\"\n",
    "    return x.rolling(window).corr(y)"
   ]
  },
  {
   "cell_type": "code",
   "execution_count": null,
   "metadata": {
    "ExecuteTime": {
     "end_time": "2021-04-16T14:05:27.335815Z",
     "start_time": "2021-04-16T14:05:27.333297Z"
    }
   },
   "outputs": [],
   "source": [
    "def ts_cov(x, y, window=10):\n",
    "    \"\"\"\n",
    "    Wrapper function to estimate rolling covariance.\n",
    "    :param df: a pandas DataFrame.\n",
    "    :param window: the rolling window.\n",
    "    :return: a pandas DataFrame with the time-series min over the past 'window' days.\n",
    "    \"\"\"\n",
    "    return x.rolling(window).cov(y)"
   ]
  },
  {
   "cell_type": "code",
   "execution_count": null,
   "metadata": {
    "ExecuteTime": {
     "end_time": "2021-04-16T14:05:27.934144Z",
     "start_time": "2021-04-16T14:05:27.354761Z"
    }
   },
   "outputs": [],
   "source": [
    "ohlcv = ['open', 'high', 'low', 'close', 'volume']\n",
    "data = (pd.read_hdf('data.h5', 'data/top500')\n",
    "        .loc[:, ohlcv + ['ret_01', 'sector', 'ret_fwd']]\n",
    "        .rename(columns={'ret_01': 'returns'})\n",
    "        .sort_index())"
   ]
  },
  {
   "cell_type": "code",
   "execution_count": null,
   "metadata": {
    "ExecuteTime": {
     "end_time": "2021-04-16T14:05:28.035970Z",
     "start_time": "2021-04-16T14:05:27.935382Z"
    }
   },
   "outputs": [],
   "source": [
    "adv20 = data.groupby('ticker').rolling(20).volume.mean().reset_index(0, drop=True)"
   ]
  },
  {
   "cell_type": "code",
   "execution_count": null,
   "metadata": {
    "ExecuteTime": {
     "end_time": "2021-04-16T14:05:32.189520Z",
     "start_time": "2021-04-16T14:05:28.037148Z"
    }
   },
   "outputs": [],
   "source": [
    "data = data.assign(adv20=adv20)"
   ]
  },
  {
   "cell_type": "code",
   "execution_count": null,
   "metadata": {
    "ExecuteTime": {
     "end_time": "2021-04-16T14:05:33.481654Z",
     "start_time": "2021-04-16T14:05:32.190438Z"
    }
   },
   "outputs": [],
   "source": [
    "data = data.join(data.groupby('date')[ohlcv].rank(axis=1, pct=True), rsuffix='_rank')"
   ]
  },
  {
   "cell_type": "code",
   "execution_count": null,
   "metadata": {
    "ExecuteTime": {
     "end_time": "2021-04-16T14:05:33.524805Z",
     "start_time": "2021-04-16T14:05:33.482700Z"
    }
   },
   "outputs": [],
   "source": [
    "data.info(null_counts=True)"
   ]
  },
  {
   "cell_type": "code",
   "execution_count": null,
   "metadata": {
    "ExecuteTime": {
     "end_time": "2021-04-16T14:05:33.527875Z",
     "start_time": "2021-04-16T14:05:33.526078Z"
    }
   },
   "outputs": [],
   "source": [
    "# data.to_hdf('factors.h5', 'data')"
   ]
  },
  {
   "cell_type": "code",
   "execution_count": null,
   "metadata": {
    "ExecuteTime": {
     "end_time": "2021-04-16T14:05:35.150528Z",
     "start_time": "2021-04-16T14:05:33.528907Z"
    }
   },
   "outputs": [],
   "source": [
    "o = data.open.unstack('ticker')\n",
    "h = data.high.unstack('ticker')\n",
    "l = data.low.unstack('ticker')\n",
    "c = data.close.unstack('ticker')\n",
    "v = data.volume.unstack('ticker')\n",
    "vwap = o.add(h).add(l).add(c).div(4)\n",
    "adv20 = v.rolling(20).mean()\n",
    "r = data.returns.unstack('ticker')"
   ]
  },
  {
   "cell_type": "markdown",
   "metadata": {},
   "source": [
    "## Evaluate Alphas"
   ]
  },
  {
   "cell_type": "code",
   "execution_count": null,
   "metadata": {
    "ExecuteTime": {
     "end_time": "2021-04-16T14:05:35.203096Z",
     "start_time": "2021-04-16T14:05:35.151621Z"
    }
   },
   "outputs": [],
   "source": [
    "alphas = data[['returns', 'ret_fwd']].copy()\n",
    "mi,ic = {}, {}"
   ]
  },
  {
   "cell_type": "code",
   "execution_count": null,
   "metadata": {
    "ExecuteTime": {
     "end_time": "2021-04-16T14:05:35.206011Z",
     "start_time": "2021-04-16T14:05:35.203958Z"
    }
   },
   "outputs": [],
   "source": [
    "def get_mutual_info_score(returns, alpha, n=100000):\n",
    "    df = pd.DataFrame({'y': returns, 'alpha': alpha}).dropna().sample(n=n)\n",
    "    return mutual_info_regression(y=df.y, X=df[['alpha']])[0]"
   ]
  },
  {
   "cell_type": "markdown",
   "metadata": {},
   "source": [
    "## Alpha 001"
   ]
  },
  {
   "cell_type": "markdown",
   "metadata": {},
   "source": [
    "```\n",
    "rank(ts_argmax(power(((returns < 0) ? ts_std(returns, 20) : close), 2.), 5))\n",
    "```"
   ]
  },
  {
   "cell_type": "code",
   "execution_count": null,
   "metadata": {
    "ExecuteTime": {
     "end_time": "2021-04-16T05:06:41.944269Z",
     "start_time": "2021-04-16T05:06:41.934599Z"
    }
   },
   "outputs": [],
   "source": [
    "def alpha001(c, r):\n",
    "    \"\"\"(rank(ts_argmax(power(((returns < 0)\n",
    "        ? ts_std(returns, 20)\n",
    "        : close), 2.), 5)) -0.5)\"\"\"\n",
    "    c[r < 0] = ts_std(r, 20)\n",
    "    return (rank(ts_argmax(power(c, 2), 5)).mul(-.5)\n",
    "            .stack().swaplevel())"
   ]
  },
  {
   "cell_type": "code",
   "execution_count": null,
   "metadata": {
    "ExecuteTime": {
     "end_time": "2021-04-16T05:06:41.952410Z",
     "start_time": "2021-04-16T05:06:41.945353Z"
    }
   },
   "outputs": [],
   "source": [
    "alpha = 1"
   ]
  },
  {
   "cell_type": "code",
   "execution_count": null,
   "metadata": {
    "ExecuteTime": {
     "end_time": "2021-04-16T05:08:40.638764Z",
     "start_time": "2021-04-16T05:06:41.953255Z"
    }
   },
   "outputs": [],
   "source": [
    "%%time\n",
    "alphas[f'{alpha:03}'] = alpha001(c, r)"
   ]
  },
  {
   "cell_type": "code",
   "execution_count": null,
   "metadata": {
    "ExecuteTime": {
     "end_time": "2021-04-16T05:08:40.650674Z",
     "start_time": "2021-04-16T05:08:40.639892Z"
    }
   },
   "outputs": [],
   "source": [
    "alphas.info()"
   ]
  },
  {
   "cell_type": "code",
   "execution_count": null,
   "metadata": {
    "ExecuteTime": {
     "end_time": "2021-04-16T05:08:53.780015Z",
     "start_time": "2021-04-16T05:08:53.776654Z"
    }
   },
   "outputs": [],
   "source": [
    "def alpha002(o, c, v):\n",
    "    \"\"\"(-1 * ts_corr(rank(ts_delta(log(volume), 2)), rank(((close - open) / open)), 6))\"\"\"\n",
    "    s1 = rank(ts_delta(log(v), 2))\n",
    "    s2 = rank((c / o) - 1)\n",
    "    alpha = -ts_corr(s1, s2, 6)\n",
    "    return alpha.stack('ticker').swaplevel().replace([-np.inf, np.inf], np.nan)"
   ]
  },
  {
   "cell_type": "markdown",
   "metadata": {},
   "source": [
    "## Alpha 003"
   ]
  },
  {
   "cell_type": "markdown",
   "metadata": {},
   "source": [
    "```\n",
    "(-1 * correlation(rank(open), rank(volume), 10))\n",
    "```"
   ]
  },
  {
   "cell_type": "code",
   "execution_count": null,
   "metadata": {
    "ExecuteTime": {
     "end_time": "2021-04-16T05:09:11.280760Z",
     "start_time": "2021-04-16T05:09:11.278750Z"
    }
   },
   "outputs": [],
   "source": [
    "def alpha003(o, v):\n",
    "    \"\"\"(-1 * ts_corr(rank(open), rank(volume), 10))\"\"\"\n",
    "\n",
    "    return (-ts_corr(rank(o), rank(v), 10)\n",
    "            .stack('ticker')\n",
    "            .swaplevel()\n",
    "            .replace([-np.inf, np.inf], np.nan))"
   ]
  },
  {
   "cell_type": "markdown",
   "metadata": {},
   "source": [
    "## Alpha 004"
   ]
  },
  {
   "cell_type": "markdown",
   "metadata": {},
   "source": [
    "```\n",
    "(-1 * Ts_Rank(rank(low), 9))\n",
    "```"
   ]
  },
  {
   "cell_type": "code",
   "execution_count": null,
   "metadata": {
    "ExecuteTime": {
     "end_time": "2021-04-16T05:09:28.559295Z",
     "start_time": "2021-04-16T05:09:28.557443Z"
    }
   },
   "outputs": [],
   "source": [
    "def alpha004(l):\n",
    "    \"\"\"(-1 * Ts_Rank(rank(low), 9))\"\"\"\n",
    "    return (-ts_rank(rank(l), 9)\n",
    "            .stack('ticker')\n",
    "            .swaplevel())"
   ]
  },
  {
   "cell_type": "code",
   "execution_count": null,
   "metadata": {
    "ExecuteTime": {
     "end_time": "2021-04-16T05:12:44.669538Z",
     "start_time": "2021-04-16T05:12:44.667554Z"
    }
   },
   "outputs": [],
   "source": [
    "def alpha005(o, vwap, c):\n",
    "    \"\"\"(rank((open - ts_mean(vwap, 10))) * (-1 * abs(rank((close - vwap)))))\"\"\"\n",
    "    return (rank(o.sub(ts_mean(vwap, 10)))\n",
    "            .mul(rank(c.sub(vwap)).mul(-1).abs())\n",
    "            .stack('ticker')\n",
    "            .swaplevel())"
   ]
  },
  {
   "cell_type": "code",
   "execution_count": null,
   "metadata": {
    "ExecuteTime": {
     "end_time": "2021-04-16T05:13:00.160150Z",
     "start_time": "2021-04-16T05:13:00.158329Z"
    }
   },
   "outputs": [],
   "source": [
    "def alpha006(o, v):\n",
    "    \"\"\"(-ts_corr(open, volume, 10))\"\"\"\n",
    "    return (-ts_corr(o, v, 10)\n",
    "            .stack('ticker')\n",
    "            .swaplevel())"
   ]
  },
  {
   "cell_type": "code",
   "execution_count": null,
   "metadata": {
    "ExecuteTime": {
     "end_time": "2021-04-16T05:13:17.044253Z",
     "start_time": "2021-04-16T05:13:17.030666Z"
    }
   },
   "outputs": [],
   "source": [
    "def alpha007(c, v, adv20):\n",
    "    \"\"\"(adv20 < volume) \n",
    "        ? ((-ts_rank(abs(ts_delta(close, 7)), 60)) * sign(ts_delta(close, 7))) \n",
    "        : -1\n",
    "    \"\"\"\n",
    "    \n",
    "    delta7 = ts_delta(c, 7)\n",
    "    return (-ts_rank(abs(delta7), 60)\n",
    "            .mul(sign(delta7))\n",
    "            .where(adv20<v, -1)\n",
    "            .stack('ticker')\n",
    "            .swaplevel())"
   ]
  },
  {
   "cell_type": "code",
   "execution_count": null,
   "metadata": {
    "ExecuteTime": {
     "end_time": "2021-04-16T05:16:28.171653Z",
     "start_time": "2021-04-16T05:16:28.164322Z"
    }
   },
   "outputs": [],
   "source": [
    "def alpha008(o, r):\n",
    "    \"\"\"-rank(((ts_sum(open, 5) * ts_sum(returns, 5)) - \n",
    "        ts_lag((ts_sum(open, 5) * ts_sum(returns, 5)),10)))\n",
    "    \"\"\"\n",
    "    return (-(rank(((ts_sum(o, 5) * ts_sum(r, 5)) -\n",
    "                       ts_lag((ts_sum(o, 5) * ts_sum(r, 5)), 10))))\n",
    "           .stack('ticker')\n",
    "            .swaplevel())"
   ]
  },
  {
   "cell_type": "code",
   "execution_count": null,
   "metadata": {
    "ExecuteTime": {
     "end_time": "2021-04-16T05:16:43.492759Z",
     "start_time": "2021-04-16T05:16:43.479444Z"
    }
   },
   "outputs": [],
   "source": [
    "def alpha009(c):\n",
    "    \"\"\"(0 < ts_min(ts_delta(close, 1), 5)) ? ts_delta(close, 1) \n",
    "    : ((ts_max(ts_delta(close, 1), 5) < 0) \n",
    "    ? ts_delta(close, 1) : (-1 * ts_delta(close, 1)))\n",
    "    \"\"\"\n",
    "    close_diff = ts_delta(c, 1)\n",
    "    alpha = close_diff.where(ts_min(close_diff, 5) > 0,\n",
    "                             close_diff.where(ts_max(close_diff, 5) < 0,\n",
    "                                              -close_diff))\n",
    "    return (alpha\n",
    "            .stack('ticker')\n",
    "            .swaplevel())"
   ]
  },
  {
   "cell_type": "code",
   "execution_count": null,
   "metadata": {
    "ExecuteTime": {
     "end_time": "2021-04-16T05:17:11.568926Z",
     "start_time": "2021-04-16T05:17:11.562074Z"
    }
   },
   "outputs": [],
   "source": [
    "def alpha010(c):\n",
    "    \"\"\"rank(((0 < ts_min(ts_delta(close, 1), 4)) \n",
    "        ? ts_delta(close, 1) \n",
    "        : ((ts_max(ts_delta(close, 1), 4) < 0)\n",
    "            ? ts_delta(close, 1) \n",
    "            : (-1 * ts_delta(close, 1)))))\n",
    "    \"\"\"\n",
    "    close_diff = ts_delta(c, 1)\n",
    "    alpha = close_diff.where(ts_min(close_diff, 4) > 0,\n",
    "                             close_diff.where(ts_min(close_diff, 4) > 0,\n",
    "                                              -close_diff))\n",
    "\n",
    "    return (rank(alpha)\n",
    "            .stack('ticker')\n",
    "            .swaplevel())"
   ]
  },
  {
   "cell_type": "code",
   "execution_count": null,
   "metadata": {
    "ExecuteTime": {
     "end_time": "2021-04-16T05:17:27.070061Z",
     "start_time": "2021-04-16T05:17:27.059822Z"
    }
   },
   "outputs": [],
   "source": [
    "def alpha011(c, vwap, v):\n",
    "    \"\"\"(rank(ts_max((vwap - close), 3)) + \n",
    "        rank(ts_min(vwap - close), 3)) * \n",
    "        rank(ts_delta(volume, 3))\n",
    "        \"\"\"\n",
    "    return (rank(ts_max(vwap.sub(c), 3))\n",
    "            .add(rank(ts_min(vwap.sub(c), 3)))\n",
    "            .mul(rank(ts_delta(v, 3)))\n",
    "            .stack('ticker')\n",
    "            .swaplevel())"
   ]
  },
  {
   "cell_type": "code",
   "execution_count": null,
   "metadata": {
    "ExecuteTime": {
     "end_time": "2021-04-16T05:17:42.819729Z",
     "start_time": "2021-04-16T05:17:42.806458Z"
    }
   },
   "outputs": [],
   "source": [
    "def alpha012(v, c):\n",
    "    \"\"\"(sign(ts_delta(volume, 1)) * \n",
    "            (-1 * ts_delta(close, 1)))\n",
    "        \"\"\"\n",
    "    return (sign(ts_delta(v, 1)).mul(-ts_delta(c, 1))\n",
    "            .stack('ticker')\n",
    "            .swaplevel())"
   ]
  },
  {
   "cell_type": "code",
   "execution_count": null,
   "metadata": {
    "ExecuteTime": {
     "end_time": "2021-04-16T05:18:11.174074Z",
     "start_time": "2021-04-16T05:18:11.158966Z"
    }
   },
   "outputs": [],
   "source": [
    "def alpha013(c, v):\n",
    "    \"\"\"-rank(ts_cov(rank(close), rank(volume), 5))\"\"\"\n",
    "    return (-rank(ts_cov(rank(c), rank(v), 5))\n",
    "            .stack('ticker')\n",
    "            .swaplevel())"
   ]
  },
  {
   "cell_type": "code",
   "execution_count": null,
   "metadata": {
    "ExecuteTime": {
     "end_time": "2021-04-16T05:18:27.557239Z",
     "start_time": "2021-04-16T05:18:27.550087Z"
    }
   },
   "outputs": [],
   "source": [
    "def alpha014(o, v, r):\n",
    "    \"\"\"\n",
    "    (-rank(ts_delta(returns, 3))) * ts_corr(open, volume, 10))\n",
    "    \"\"\"\n",
    "\n",
    "    alpha = -rank(ts_delta(r, 3)).mul(ts_corr(o, v, 10)\n",
    "                                      .replace([-np.inf,\n",
    "                                                np.inf],\n",
    "                                               np.nan))\n",
    "    return (alpha\n",
    "            .stack('ticker')\n",
    "            .swaplevel())"
   ]
  },
  {
   "cell_type": "code",
   "execution_count": null,
   "metadata": {
    "ExecuteTime": {
     "end_time": "2021-04-16T05:18:44.703056Z",
     "start_time": "2021-04-16T05:18:44.688336Z"
    }
   },
   "outputs": [],
   "source": [
    "def alpha015(h, v):\n",
    "    \"\"\"(-1 * ts_sum(rank(ts_corr(rank(high), rank(volume), 3)), 3))\"\"\"\n",
    "    alpha = (-ts_sum(rank(ts_corr(rank(h), rank(v), 3)\n",
    "                          .replace([-np.inf, np.inf], np.nan)), 3))\n",
    "    return (alpha\n",
    "            .stack('ticker')\n",
    "            .swaplevel())"
   ]
  },
  {
   "cell_type": "code",
   "execution_count": null,
   "metadata": {
    "ExecuteTime": {
     "end_time": "2021-04-16T05:19:00.735858Z",
     "start_time": "2021-04-16T05:19:00.723395Z"
    }
   },
   "outputs": [],
   "source": [
    "def alpha016(h, v):\n",
    "    \"\"\"(-1 * rank(ts_cov(rank(high), rank(volume), 5)))\"\"\"\n",
    "    return (-rank(ts_cov(rank(h), rank(v), 5))\n",
    "            .stack('ticker')\n",
    "            .swaplevel())"
   ]
  },
  {
   "cell_type": "code",
   "execution_count": null,
   "metadata": {
    "ExecuteTime": {
     "end_time": "2021-04-16T05:19:16.696606Z",
     "start_time": "2021-04-16T05:19:16.689579Z"
    }
   },
   "outputs": [],
   "source": [
    "def alpha017(c, v):\n",
    "    \"\"\"(((-1 * rank(ts_rank(close, 10))) * rank(ts_delta(ts_delta(close, 1), 1))) *rank(ts_rank((volume / adv20), 5)))\n",
    "        \"\"\"\n",
    "    adv20 = ts_mean(v, 20)\n",
    "    return (-rank(ts_rank(c, 10))\n",
    "            .mul(rank(ts_delta(ts_delta(c, 1), 1)))\n",
    "            .mul(rank(ts_rank(v.div(adv20), 5)))\n",
    "            .stack('ticker')\n",
    "            .swaplevel())"
   ]
  },
  {
   "cell_type": "code",
   "execution_count": null,
   "metadata": {
    "ExecuteTime": {
     "end_time": "2021-04-16T05:25:28.777955Z",
     "start_time": "2021-04-16T05:25:28.765295Z"
    }
   },
   "outputs": [],
   "source": [
    "def alpha018(o, c):\n",
    "    \"\"\"-rank((ts_std(abs((close - open)), 5) + (close - open)) +\n",
    "            ts_corr(close, open,10))\n",
    "    \"\"\"\n",
    "    return (-rank(ts_std(c.sub(o).abs(), 5)\n",
    "                  .add(c.sub(o))\n",
    "                  .add(ts_corr(c, o, 10)\n",
    "                       .replace([-np.inf,\n",
    "                                 np.inf],\n",
    "                                np.nan)))\n",
    "            .stack('ticker')\n",
    "            .swaplevel())"
   ]
  },
  {
   "cell_type": "code",
   "execution_count": null,
   "metadata": {
    "ExecuteTime": {
     "end_time": "2021-04-16T05:25:45.055019Z",
     "start_time": "2021-04-16T05:25:45.042774Z"
    }
   },
   "outputs": [],
   "source": [
    "def alpha019(c, r):\n",
    "    \"\"\"((-1 * sign(((close - ts_lag(close, 7)) + ts_delta(close, 7)))) * \n",
    "    (1 + rank((1 + ts_sum(returns,250)))))\n",
    "    \"\"\"\n",
    "    return (-sign(ts_delta(c, 7) + ts_delta(c, 7))\n",
    "            .mul(1 + rank(1 + ts_sum(r, 250)))\n",
    "            .stack('ticker')\n",
    "            .swaplevel())"
   ]
  },
  {
   "cell_type": "code",
   "execution_count": null,
   "metadata": {
    "ExecuteTime": {
     "end_time": "2021-04-16T05:25:59.726063Z",
     "start_time": "2021-04-16T05:25:59.719133Z"
    }
   },
   "outputs": [],
   "source": [
    "def alpha020(o, h, l, c):\n",
    "    \"\"\"-rank(open - ts_lag(high, 1)) * \n",
    "        rank(open - ts_lag(close, 1)) * \n",
    "        rank(open -ts_lag(low, 1))\"\"\"\n",
    "    return (rank(o - ts_lag(h, 1))\n",
    "            .mul(rank(o - ts_lag(c, 1)))\n",
    "            .mul(rank(o - ts_lag(l, 1)))\n",
    "            .mul(-1)\n",
    "            .stack('ticker')\n",
    "            .swaplevel())"
   ]
  },
  {
   "cell_type": "code",
   "execution_count": null,
   "metadata": {
    "ExecuteTime": {
     "end_time": "2021-04-16T05:26:15.152085Z",
     "start_time": "2021-04-16T05:26:15.139719Z"
    }
   },
   "outputs": [],
   "source": [
    "def alpha021(c, v):\n",
    "    \"\"\"ts_mean(close, 8) + ts_std(close, 8) < ts_mean(close, 2)\n",
    "        ? -1\n",
    "        : (ts_mean(close,2) < ts_mean(close, 8) - ts_std(close, 8)\n",
    "            ? 1\n",
    "            : (volume / adv20 < 1\n",
    "                ? -1\n",
    "                : 1))\n",
    "    \"\"\"\n",
    "    sma2 = ts_mean(c, 2)\n",
    "    sma8 = ts_mean(c, 8)\n",
    "    std8 = ts_std(c, 8)\n",
    "\n",
    "    cond_1 = sma8.add(std8) < sma2\n",
    "    cond_2 = sma8.add(std8) > sma2\n",
    "    cond_3 = v.div(ts_mean(v, 20)) < 1\n",
    "\n",
    "    val = np.ones_like(c)\n",
    "    alpha = pd.DataFrame(np.select(condlist=[cond_1, cond_2, cond_3],\n",
    "                                   choicelist=[-1, 1, -1], default=1),\n",
    "                         index=c.index,\n",
    "                         columns=c.columns)\n",
    "\n",
    "    return (alpha\n",
    "            .stack('ticker')\n",
    "            .swaplevel())"
   ]
  },
  {
   "cell_type": "code",
   "execution_count": null,
   "metadata": {
    "ExecuteTime": {
     "end_time": "2021-04-16T05:26:26.766936Z",
     "start_time": "2021-04-16T05:26:26.759039Z"
    }
   },
   "outputs": [],
   "source": [
    "def alpha022(h, c, v):\n",
    "    \"\"\"-(ts_delta(ts_corr(high, volume, 5), 5) * \n",
    "        rank(ts_std(close, 20)))\n",
    "    \"\"\"\n",
    "\n",
    "    return (ts_delta(ts_corr(h, v, 5)\n",
    "                     .replace([-np.inf,\n",
    "                               np.inf],\n",
    "                              np.nan), 5)\n",
    "            .mul(rank(ts_std(c, 20)))\n",
    "            .mul(-1)\n",
    "            .stack('ticker')\n",
    "            .swaplevel())"
   ]
  },
  {
   "cell_type": "code",
   "execution_count": null,
   "metadata": {
    "ExecuteTime": {
     "end_time": "2021-04-16T05:26:43.829487Z",
     "start_time": "2021-04-16T05:26:43.817729Z"
    }
   },
   "outputs": [],
   "source": [
    "def alpha023(h, c):\n",
    "    \"\"\"((ts_mean(high, 20) < high)\n",
    "            ? (-1 * ts_delta(high, 2))\n",
    "            : 0\n",
    "        \"\"\"\n",
    "\n",
    "    return (ts_delta(h, 2)\n",
    "            .mul(-1)\n",
    "            .where(ts_mean(h, 20) < h, 0)\n",
    "            .stack('ticker')\n",
    "            .swaplevel())"
   ]
  },
  {
   "cell_type": "code",
   "execution_count": null,
   "metadata": {
    "ExecuteTime": {
     "end_time": "2021-04-16T05:27:37.550141Z",
     "start_time": "2021-04-16T05:27:37.537578Z"
    }
   },
   "outputs": [],
   "source": [
    "def alpha024(c):\n",
    "    \"\"\"((((ts_delta((ts_mean(close, 100)), 100) / ts_lag(close, 100)) <= 0.05)  \n",
    "        ? (-1 * (close - ts_min(close, 100))) \n",
    "        : (-1 * ts_delta(close, 3)))\n",
    "    \"\"\"\n",
    "    cond = ts_delta(ts_mean(c, 100), 100) / ts_lag(c, 100) <= 0.05\n",
    "\n",
    "    return (c.sub(ts_min(c, 100)).mul(-1).where(cond, -ts_delta(c, 3))\n",
    "            .stack('ticker')\n",
    "            .swaplevel())"
   ]
  },
  {
   "cell_type": "code",
   "execution_count": null,
   "metadata": {
    "ExecuteTime": {
     "end_time": "2021-04-16T05:28:00.424979Z",
     "start_time": "2021-04-16T05:28:00.411962Z"
    }
   },
   "outputs": [],
   "source": [
    "def alpha025(h, c, r, vwap, adv20):\n",
    "    \"\"\"rank((-1 * returns) * adv20 * vwap * (high - close))\"\"\"\n",
    "    return (rank(-r.mul(adv20)\n",
    "                 .mul(vwap)\n",
    "                 .mul(h.sub(c)))\n",
    "            .stack('ticker')\n",
    "            .swaplevel())"
   ]
  },
  {
   "cell_type": "code",
   "execution_count": null,
   "metadata": {
    "ExecuteTime": {
     "end_time": "2021-04-16T05:28:16.011470Z",
     "start_time": "2021-04-16T05:28:16.004545Z"
    }
   },
   "outputs": [],
   "source": [
    "def alpha026(h, v):\n",
    "    \"\"\"(-1 * ts_max(ts_corr(ts_rank(volume, 5), ts_rank(high, 5), 5), 3))\"\"\"\n",
    "    return (ts_max(ts_corr(ts_rank(v, 5), \n",
    "                           ts_rank(h, 5), 5)\n",
    "                   .replace([-np.inf, np.inf], np.nan), 3)\n",
    "            .mul(-1)\n",
    "            .stack('ticker')\n",
    "            .swaplevel())"
   ]
  },
  {
   "cell_type": "code",
   "execution_count": null,
   "metadata": {
    "ExecuteTime": {
     "end_time": "2021-04-16T05:34:32.290141Z",
     "start_time": "2021-04-16T05:34:32.273274Z"
    }
   },
   "outputs": [],
   "source": [
    "def alpha027(v, vwap):\n",
    "    \"\"\"((0.5 < rank(ts_mean(ts_corr(rank(volume), rank(vwap), 6), 2))) \n",
    "            ? -1\n",
    "            : 1)\"\"\"\n",
    "    cond = rank(ts_mean(ts_corr(rank(v),\n",
    "                                rank(vwap), 6), 2))\n",
    "    alpha = cond.notnull().astype(float)\n",
    "    return (alpha.where(cond <= 0.5, -alpha)\n",
    "            .stack('ticker')\n",
    "            .swaplevel())"
   ]
  },
  {
   "cell_type": "code",
   "execution_count": null,
   "metadata": {
    "ExecuteTime": {
     "end_time": "2021-04-16T05:34:47.963108Z",
     "start_time": "2021-04-16T05:34:47.952256Z"
    }
   },
   "outputs": [],
   "source": [
    "def alpha028(h, l, c, v, adv20):\n",
    "    \"\"\"scale(((ts_corr(adv20, low, 5) + (high + low) / 2) - close))\"\"\"\n",
    "    return (scale(ts_corr(adv20, l, 5)\n",
    "                  .replace([-np.inf, np.inf], 0)\n",
    "                  .add(h.add(l).div(2).sub(c)))\n",
    "            .stack('ticker')\n",
    "            .swaplevel())"
   ]
  },
  {
   "cell_type": "code",
   "execution_count": null,
   "metadata": {
    "ExecuteTime": {
     "end_time": "2021-04-16T05:35:18.913733Z",
     "start_time": "2021-04-16T05:35:18.906365Z"
    }
   },
   "outputs": [],
   "source": [
    "def alpha029(c, r):\n",
    "    \"\"\"(ts_min(ts_product(rank(rank(scale(log(ts_sum(ts_min(rank(rank((-1 * \n",
    "            rank(ts_delta((close - 1),5))))), 2), 1))))), 1), 5)\n",
    "        + ts_rank(ts_lag((-1 * returns), 6), 5))\n",
    "    \"\"\"\n",
    "    return (ts_min(rank(rank(scale(log(ts_sum(rank(rank(-rank(ts_delta((c - 1), 5)))), 2))))), 5)\n",
    "            .add(ts_rank(ts_lag((-1 * r), 6), 5))\n",
    "            .stack('ticker')\n",
    "            .swaplevel())"
   ]
  },
  {
   "cell_type": "code",
   "execution_count": null,
   "metadata": {
    "ExecuteTime": {
     "end_time": "2021-04-16T05:38:35.800402Z",
     "start_time": "2021-04-16T05:38:35.787984Z"
    }
   },
   "outputs": [],
   "source": [
    "def alpha030(c, v):\n",
    "    \"\"\"(((1.0 - rank(((sign((close - ts_lag(close, 1))) +\n",
    "            sign((ts_lag(close, 1) - ts_lag(close, 2)))) +\n",
    "            sign((ts_lag(close, 2) - ts_lag(close, 3)))))) *\n",
    "            ts_sum(volume, 5)) / ts_sum(volume, 20))\"\"\"\n",
    "    close_diff = ts_delta(c, 1)\n",
    "    return (rank(sign(close_diff)\n",
    "                 .add(sign(ts_lag(close_diff, 1)))\n",
    "                 .add(sign(ts_lag(close_diff, 2))))\n",
    "            .mul(-1).add(1)\n",
    "            .mul(ts_sum(v, 5))\n",
    "            .div(ts_sum(v, 20))\n",
    "            .stack('ticker')\n",
    "            .swaplevel())"
   ]
  },
  {
   "cell_type": "code",
   "execution_count": null,
   "metadata": {
    "ExecuteTime": {
     "end_time": "2021-04-16T05:38:51.503376Z",
     "start_time": "2021-04-16T05:38:51.488939Z"
    }
   },
   "outputs": [],
   "source": [
    "def alpha031(l, c, adv20):\n",
    "    \"\"\"((rank(rank(rank(ts_weighted_mean((-1 * rank(rank(ts_delta(close, 10)))), 10)))) +\n",
    "        rank((-1 * ts_delta(close, 3)))) + sign(scale(ts_corr(adv20, low, 12))))\n",
    "    \"\"\"\n",
    "    return (rank(rank(rank(ts_weighted_mean(rank(rank(ts_delta(c, 10))).mul(-1), 10))))\n",
    "            .add(rank(ts_delta(c, 3).mul(-1)))\n",
    "            .add(sign(scale(ts_corr(adv20, l, 12)\n",
    "                            .replace([-np.inf, np.inf],\n",
    "                                     np.nan))))\n",
    "            .stack('ticker')\n",
    "            .swaplevel())"
   ]
  },
  {
   "cell_type": "code",
   "execution_count": null,
   "metadata": {
    "ExecuteTime": {
     "end_time": "2021-04-16T05:39:03.669076Z",
     "start_time": "2021-04-16T05:39:03.666981Z"
    }
   },
   "outputs": [],
   "source": [
    "def alpha032(c, vwap):\n",
    "    \"\"\"scale(ts_mean(close, 7) - close) + \n",
    "        (20 * scale(ts_corr(vwap, ts_lag(close, 5),230)))\"\"\"\n",
    "    return (scale(ts_mean(c, 7).sub(c))\n",
    "            .add(20 * scale(ts_corr(vwap,\n",
    "                                    ts_lag(c, 5), 230)))\n",
    "            .stack('ticker')\n",
    "            .swaplevel())"
   ]
  },
  {
   "cell_type": "code",
   "execution_count": null,
   "metadata": {
    "ExecuteTime": {
     "end_time": "2021-04-16T05:40:03.872885Z",
     "start_time": "2021-04-16T05:40:03.859940Z"
    }
   },
   "outputs": [],
   "source": [
    "def alpha033(o, c):\n",
    "    \"\"\"rank(-(1 - (open / close)))\"\"\"\n",
    "    return (rank(o.div(c).mul(-1).add(1).mul(-1))\n",
    "            .stack('ticker')\n",
    "            .swaplevel())"
   ]
  },
  {
   "cell_type": "code",
   "execution_count": null,
   "metadata": {
    "ExecuteTime": {
     "end_time": "2021-04-16T05:40:20.060923Z",
     "start_time": "2021-04-16T05:40:20.048374Z"
    }
   },
   "outputs": [],
   "source": [
    "def alpha034(c, r):\n",
    "    \"\"\"rank(((1 - rank((ts_std(returns, 2) / ts_std(returns, 5)))) + (1 - rank(ts_delta(close, 1)))))\"\"\"\n",
    "\n",
    "    return (rank(rank(ts_std(r, 2).div(ts_std(r, 5))\n",
    "                      .replace([-np.inf, np.inf],\n",
    "                               np.nan))\n",
    "                 .mul(-1)\n",
    "                 .sub(rank(ts_delta(c, 1)))\n",
    "                 .add(2))\n",
    "            .stack('ticker')\n",
    "            .swaplevel())"
   ]
  },
  {
   "cell_type": "code",
   "execution_count": null,
   "metadata": {
    "ExecuteTime": {
     "end_time": "2021-04-16T05:40:36.068903Z",
     "start_time": "2021-04-16T05:40:36.061631Z"
    }
   },
   "outputs": [],
   "source": [
    "def alpha035(h, l, c, v, r):\n",
    "    \"\"\"((ts_Rank(volume, 32) *\n",
    "        (1 - ts_Rank(((close + high) - low), 16))) *\n",
    "        (1 -ts_Rank(returns, 32)))\n",
    "    \"\"\"\n",
    "    return (ts_rank(v, 32)\n",
    "            .mul(1 - ts_rank(c.add(h).sub(l), 16))\n",
    "            .mul(1 - ts_rank(r, 32))\n",
    "            .stack('ticker')\n",
    "            .swaplevel())"
   ]
  },
  {
   "cell_type": "code",
   "execution_count": null,
   "metadata": {
    "ExecuteTime": {
     "end_time": "2021-04-16T05:49:50.276708Z",
     "start_time": "2021-04-16T05:49:50.263477Z"
    }
   },
   "outputs": [],
   "source": [
    "def alpha036(o, c, v, r, adv20):\n",
    "    \"\"\"2.21 * rank(ts_corr((close - open), ts_lag(volume, 1), 15)) +\n",
    "        0.7 * rank((open- close)) +\n",
    "        0.73 * rank(ts_Rank(ts_lag(-1 * returns, 6), 5)) +\n",
    "        rank(abs(ts_corr(vwap,adv20, 6))) +\n",
    "        0.6 * rank(((ts_mean(close, 200) - open) * (close - open)))\n",
    "    \"\"\"\n",
    "\n",
    "    return (rank(ts_corr(c.sub(o), ts_lag(v, 1), 15)).mul(2.21)\n",
    "            .add(rank(o.sub(c)).mul(.7))\n",
    "            .add(rank(ts_rank(ts_lag(-r, 6), 5)).mul(0.73))\n",
    "            .add(rank(abs(ts_corr(vwap, adv20, 6))))\n",
    "            .add(rank(ts_mean(c, 200).sub(o).mul(c.sub(o))).mul(0.6))\n",
    "            .stack('ticker')\n",
    "            .swaplevel())"
   ]
  },
  {
   "cell_type": "code",
   "execution_count": null,
   "metadata": {
    "ExecuteTime": {
     "end_time": "2021-04-16T05:53:08.604343Z",
     "start_time": "2021-04-16T05:53:08.591945Z"
    }
   },
   "outputs": [],
   "source": [
    "def alpha037(o, c):\n",
    "    \"\"\"(rank(ts_corr(ts_lag((open - close), 1), close, 200)) + rank((open - close)))\"\"\"\n",
    "    return (rank(ts_corr(ts_lag(o.sub(c), 1), c, 200))\n",
    "            .add(rank(o.sub(c)))\n",
    "            .stack('ticker')\n",
    "            .swaplevel())"
   ]
  },
  {
   "cell_type": "code",
   "execution_count": null,
   "metadata": {
    "ExecuteTime": {
     "end_time": "2021-04-16T05:53:25.144063Z",
     "start_time": "2021-04-16T05:53:25.136689Z"
    }
   },
   "outputs": [],
   "source": [
    "def alpha038(o, c):\n",
    "    \"\"\"\"-1 * rank(ts_rank(close, 10)) * rank(close / open)\"\"\"\n",
    "    return (rank(ts_rank(o, 10))\n",
    "            .mul(rank(c.div(o).replace([-np.inf, np.inf], np.nan)))\n",
    "            .mul(-1)\n",
    "            .stack('ticker')\n",
    "            .swaplevel())"
   ]
  },
  {
   "cell_type": "code",
   "execution_count": null,
   "metadata": {
    "ExecuteTime": {
     "end_time": "2021-04-16T05:56:43.052948Z",
     "start_time": "2021-04-16T05:56:43.028037Z"
    }
   },
   "outputs": [],
   "source": [
    "def alpha039(c, v, r, adv20):\n",
    "    \"\"\"-rank(ts_delta(close, 7) * (1 - rank(ts_weighted_mean(volume / adv20, 9)))) * \n",
    "            (1 + rank(ts_sum(returns, 250)))\"\"\"\n",
    "    return (rank(ts_delta(c, 7).mul(rank(ts_weighted_mean(v.div(adv20), 9)).mul(-1).add(1))).mul(-1)\n",
    "            .mul(rank(ts_mean(r, 250).add(1)))\n",
    "            .stack('ticker')\n",
    "            .swaplevel())"
   ]
  },
  {
   "cell_type": "code",
   "execution_count": null,
   "metadata": {
    "ExecuteTime": {
     "end_time": "2021-04-16T05:56:57.940786Z",
     "start_time": "2021-04-16T05:56:57.928135Z"
    }
   },
   "outputs": [],
   "source": [
    "def alpha040(h, v):\n",
    "    \"\"\"((-1 * rank(ts_std(high, 10))) * ts_corr(high, volume, 10))\n",
    "    \"\"\"\n",
    "    return (rank(ts_std(h, 10))\n",
    "            .mul(ts_corr(h, v, 10))\n",
    "            .mul(-1)\n",
    "            .stack('ticker')\n",
    "            .swaplevel())"
   ]
  },
  {
   "cell_type": "code",
   "execution_count": null,
   "metadata": {
    "ExecuteTime": {
     "end_time": "2021-04-16T05:57:14.717898Z",
     "start_time": "2021-04-16T05:57:14.715946Z"
    }
   },
   "outputs": [],
   "source": [
    "def alpha041(h, l, vwap):\n",
    "    \"\"\"power(high * low, 0.5 - vwap\"\"\"\n",
    "    return (power(h.mul(l), 0.5)\n",
    "            .sub(vwap)\n",
    "            .stack('ticker')\n",
    "            .swaplevel())"
   ]
  },
  {
   "cell_type": "code",
   "execution_count": null,
   "metadata": {
    "ExecuteTime": {
     "end_time": "2021-04-16T05:58:01.833196Z",
     "start_time": "2021-04-16T05:58:01.831299Z"
    }
   },
   "outputs": [],
   "source": [
    "def alpha042(c, vwap):\n",
    "    \"\"\"rank(vwap - close) / rank(vwap + close)\"\"\"\n",
    "    return (rank(vwap.sub(c))\n",
    "            .div(rank(vwap.add(c)))\n",
    "            .stack('ticker')\n",
    "            .swaplevel())"
   ]
  },
  {
   "cell_type": "code",
   "execution_count": null,
   "metadata": {
    "ExecuteTime": {
     "end_time": "2021-04-16T05:58:31.391655Z",
     "start_time": "2021-04-16T05:58:31.389639Z"
    }
   },
   "outputs": [],
   "source": [
    "def alpha043(c, adv20):\n",
    "    \"\"\"(ts_rank((volume / adv20), 20) * ts_rank((-1 * ts_delta(close, 7)), 8))\"\"\"\n",
    "\n",
    "    return (ts_rank(v.div(adv20), 20)\n",
    "            .mul(ts_rank(ts_delta(c, 7).mul(-1), 8))\n",
    "            .stack('ticker')\n",
    "            .swaplevel())"
   ]
  },
  {
   "cell_type": "code",
   "execution_count": null,
   "metadata": {
    "ExecuteTime": {
     "end_time": "2021-04-16T06:04:47.290504Z",
     "start_time": "2021-04-16T06:04:47.288483Z"
    }
   },
   "outputs": [],
   "source": [
    "def alpha044(h, v):\n",
    "    \"\"\"-ts_corr(high, rank(volume), 5)\"\"\"\n",
    "\n",
    "    return (ts_corr(h, rank(v), 5)\n",
    "            .replace([-np.inf, np.inf], np.nan)\n",
    "            .mul(-1)\n",
    "            .stack('ticker')\n",
    "            .swaplevel())"
   ]
  },
  {
   "cell_type": "code",
   "execution_count": null,
   "metadata": {
    "ExecuteTime": {
     "end_time": "2021-04-16T06:05:03.618010Z",
     "start_time": "2021-04-16T06:05:03.615452Z"
    }
   },
   "outputs": [],
   "source": [
    "def alpha045(c, v):\n",
    "    \"\"\"-(rank((ts_mean(ts_lag(close, 5), 20)) * \n",
    "        ts_corr(close, volume, 2)) *\n",
    "        rank(ts_corr(ts_sum(close, 5), ts_sum(close, 20), 2)))\"\"\"\n",
    "\n",
    "    return (rank(ts_mean(ts_lag(c, 5), 20))\n",
    "            .mul(ts_corr(c, v, 2)\n",
    "                 .replace([-np.inf, np.inf], np.nan))\n",
    "            .mul(rank(ts_corr(ts_sum(c, 5),\n",
    "                              ts_sum(c, 20), 2)))\n",
    "            .mul(-1)\n",
    "            .stack('ticker')\n",
    "            .swaplevel())"
   ]
  },
  {
   "cell_type": "code",
   "execution_count": null,
   "metadata": {
    "ExecuteTime": {
     "end_time": "2021-04-16T06:05:23.139170Z",
     "start_time": "2021-04-16T06:05:23.136635Z"
    }
   },
   "outputs": [],
   "source": [
    "def alpha046(c):\n",
    "    \"\"\"0.25 < ts_lag(ts_delta(close, 10), 10) / 10 - ts_delta(close, 10) / 10\n",
    "            ? -1\n",
    "            : ((ts_lag(ts_delta(close, 10), 10) / 10 - ts_delta(close, 10) / 10 < 0) \n",
    "                ? 1 \n",
    "                : -ts_delta(close, 1))\n",
    "    \"\"\"\n",
    "\n",
    "    cond = ts_lag(ts_delta(c, 10), 10).div(10).sub(ts_delta(c, 10).div(10))\n",
    "    alpha = pd.DataFrame(-np.ones_like(cond),\n",
    "                         index=c.index,\n",
    "                         columns=c.columns)\n",
    "    alpha[cond.isnull()] = np.nan\n",
    "    return (cond.where(cond > 0.25,\n",
    "                       -alpha.where(cond < 0,\n",
    "                       -ts_delta(c, 1)))\n",
    "            .stack('ticker')\n",
    "            .swaplevel())"
   ]
  },
  {
   "cell_type": "code",
   "execution_count": null,
   "metadata": {
    "ExecuteTime": {
     "end_time": "2021-04-16T06:06:29.639126Z",
     "start_time": "2021-04-16T06:06:29.636872Z"
    }
   },
   "outputs": [],
   "source": [
    "def alpha047(h, c, v, vwap, adv20):\n",
    "    \"\"\"((((rank((1 / close)) * volume) / adv20) * ((high * rank((high - close))) / \n",
    "        (ts_sum(high, 5) /5))) - rank((vwap - ts_lag(vwap, 5))))\"\"\"\n",
    "\n",
    "    return (rank(c.pow(-1)).mul(v).div(adv20)\n",
    "            .mul(h.mul(rank(h.sub(c))\n",
    "                       .div(ts_mean(h, 5)))\n",
    "                 .sub(rank(ts_delta(vwap, 5))))\n",
    "            .stack('ticker')\n",
    "            .swaplevel())"
   ]
  },
  {
   "cell_type": "code",
   "execution_count": null,
   "metadata": {
    "ExecuteTime": {
     "end_time": "2021-04-16T06:06:48.083039Z",
     "start_time": "2021-04-16T06:06:48.081065Z"
    }
   },
   "outputs": [],
   "source": [
    "def alpha48(c, industry):\n",
    "    \"\"\"(indneutralize(((ts_corr(ts_delta(close, 1), ts_delta(ts_lag(close, 1), 1), 250) * \n",
    "        ts_delta(close, 1)) / close), IndClass.subindustry) / \n",
    "        ts_sum(((ts_delta(close, 1) / ts_lag(close, 1))^2), 250))\"\"\"\n",
    "    pass"
   ]
  },
  {
   "cell_type": "code",
   "execution_count": null,
   "metadata": {
    "ExecuteTime": {
     "end_time": "2021-04-16T06:06:48.147828Z",
     "start_time": "2021-04-16T06:06:48.140589Z"
    }
   },
   "outputs": [],
   "source": [
    "def alpha049(c):\n",
    "    \"\"\"ts_delta(ts_lag(close, 10), 10).div(10).sub(ts_delta(close, 10).div(10)) < -0.1 * c\n",
    "        ? 1 \n",
    "        : -ts_delta(close, 1)\"\"\"\n",
    "    cond = (ts_delta(ts_lag(c, 10), 10).div(10)\n",
    "            .sub(ts_delta(c, 10).div(10)) >= -0.1 * c)\n",
    "    return (-ts_delta(c, 1)\n",
    "            .where(cond, 1)\n",
    "            .stack('ticker')\n",
    "            .swaplevel())"
   ]
  },
  {
   "cell_type": "code",
   "execution_count": null,
   "metadata": {
    "ExecuteTime": {
     "end_time": "2021-04-16T06:09:59.677510Z",
     "start_time": "2021-04-16T06:09:59.675190Z"
    }
   },
   "outputs": [],
   "source": [
    "def alpha050(v, vwap):\n",
    "    \"\"\"-ts_max(rank(ts_corr(rank(volume), rank(vwap), 5)), 5)\"\"\"\n",
    "    return (ts_max(rank(ts_corr(rank(v),\n",
    "                                rank(vwap), 5)), 5)\n",
    "            .mul(-1)\n",
    "            .stack('ticker')\n",
    "            .swaplevel())"
   ]
  },
  {
   "cell_type": "code",
   "execution_count": null,
   "metadata": {
    "ExecuteTime": {
     "end_time": "2021-04-16T06:10:15.318043Z",
     "start_time": "2021-04-16T06:10:15.315861Z"
    }
   },
   "outputs": [],
   "source": [
    "def alpha051(c):\n",
    "    \"\"\"ts_delta(ts_lag(close, 10), 10).div(10).sub(ts_delta(close, 10).div(10)) < -0.05 * c\n",
    "        ? 1 \n",
    "        : -ts_delta(close, 1)\"\"\"\n",
    "    cond = (ts_delta(ts_lag(c, 10), 10).div(10)\n",
    "            .sub(ts_delta(c, 10).div(10)) >= -0.05 * c)\n",
    "    return (-ts_delta(c, 1)\n",
    "            .where(cond, 1)\n",
    "            .stack('ticker')\n",
    "            .swaplevel())"
   ]
  },
  {
   "cell_type": "code",
   "execution_count": null,
   "metadata": {
    "ExecuteTime": {
     "end_time": "2021-04-16T06:13:30.304338Z",
     "start_time": "2021-04-16T06:13:30.302090Z"
    }
   },
   "outputs": [],
   "source": [
    "def alpha052(l, v, r):\n",
    "    \"\"\"(ts_lag(ts_min(low, 5), 5) - ts_min(low, 5)) * \n",
    "        rank((ts_sum(returns, 240) - ts_sum(returns, 20)) / 220) * \n",
    "        ts_rank(volume, 5)\n",
    "    \"\"\"\n",
    "    return (ts_delta(ts_min(l, 5), 5)\n",
    "            .mul(rank(ts_sum(r, 240)\n",
    "                      .sub(ts_sum(r, 20))\n",
    "                      .div(220)))\n",
    "            .mul(ts_rank(v, 5))\n",
    "            .stack('ticker')\n",
    "            .swaplevel())"
   ]
  },
  {
   "cell_type": "code",
   "execution_count": null,
   "metadata": {
    "ExecuteTime": {
     "end_time": "2021-04-16T06:17:29.591479Z",
     "start_time": "2021-04-16T06:17:29.589243Z"
    }
   },
   "outputs": [],
   "source": [
    "def alpha053(h, l, c):\n",
    "    \"\"\"-1 * ts_delta(1 - (high - close) / (close - low), 9)\"\"\"\n",
    "    inner = (c.sub(l)).add(1e-6)\n",
    "    return (ts_delta(h.sub(c)\n",
    "                     .mul(-1).add(1)\n",
    "                     .div(c.sub(l)\n",
    "                          .add(1e-6)), 9)\n",
    "            .mul(-1)\n",
    "            .stack('ticker')\n",
    "            .swaplevel())"
   ]
  },
  {
   "cell_type": "code",
   "execution_count": null,
   "metadata": {
    "ExecuteTime": {
     "end_time": "2021-04-16T14:12:24.162259Z",
     "start_time": "2021-04-16T14:12:24.159008Z"
    }
   },
   "outputs": [],
   "source": [
    "def alpha054(o, h, l, c):\n",
    "    \"\"\"-(low - close) * power(open, 5) / ((low - high) * power(close, 5))\"\"\"\n",
    "    return (l.sub(c).mul(o.pow(5)).mul(-1)\n",
    "            .div(l.sub(h).replace(0, -0.0001).mul(c ** 5))\n",
    "            .stack('ticker')\n",
    "            .swaplevel())"
   ]
  },
  {
   "cell_type": "code",
   "execution_count": null,
   "metadata": {
    "ExecuteTime": {
     "end_time": "2021-04-16T14:12:39.462200Z",
     "start_time": "2021-04-16T14:12:39.449509Z"
    }
   },
   "outputs": [],
   "source": [
    "def alpha055(h, l, c):\n",
    "    \"\"\"(-1 * ts_corr(rank(((close - ts_min(low, 12)) / \n",
    "                            (ts_max(high, 12) - ts_min(low,12)))), \n",
    "                    rank(volume), 6))\"\"\"\n",
    "\n",
    "    return (ts_corr(rank(c.sub(ts_min(l, 12))\n",
    "                         .div(ts_max(h, 12).sub(ts_min(l, 12))\n",
    "                              .replace(0, 1e-6))),\n",
    "                    rank(v), 6)\n",
    "            .replace([-np.inf, np.inf], np.nan)\n",
    "            .mul(-1)\n",
    "            .stack('ticker')\n",
    "            .swaplevel())"
   ]
  },
  {
   "cell_type": "code",
   "execution_count": null,
   "metadata": {
    "ExecuteTime": {
     "end_time": "2021-04-16T14:12:56.079684Z",
     "start_time": "2021-04-16T14:12:56.078104Z"
    }
   },
   "outputs": [],
   "source": [
    "def alpha056(r, cap):\n",
    "    \"\"\"-rank(ts_sum(returns, 10) / ts_sum(ts_sum(returns, 2), 3)) * \n",
    "        rank((returns * cap))\n",
    "    \"\"\"\n",
    "    pass"
   ]
  },
  {
   "cell_type": "code",
   "execution_count": null,
   "metadata": {
    "ExecuteTime": {
     "end_time": "2021-04-16T14:12:56.094273Z",
     "start_time": "2021-04-16T14:12:56.080506Z"
    }
   },
   "outputs": [],
   "source": [
    "def alpha057(c, vwap):\n",
    "    \"\"\"-(close - vwap) / ts_weighted_mean(rank(ts_argmax(close, 30)), 2)\"\"\"\n",
    "    return (c.sub(vwap.add(1e-5))\n",
    "            .div(ts_weighted_mean(rank(ts_argmax(c, 30)))).mul(-1)\n",
    "            .stack('ticker')\n",
    "            .swaplevel())"
   ]
  },
  {
   "cell_type": "code",
   "execution_count": null,
   "metadata": {
    "ExecuteTime": {
     "end_time": "2021-04-16T14:16:02.022307Z",
     "start_time": "2021-04-16T14:16:02.020707Z"
    }
   },
   "outputs": [],
   "source": [
    "def alpha58(v, wvap, sector):\n",
    "    \"\"\"(-1 * ts_rank(ts_weighted_mean(ts_corr(IndNeutralize(vwap, IndClass.sector), volume, 3), 7), 5))\"\"\"\n",
    "    pass"
   ]
  },
  {
   "cell_type": "code",
   "execution_count": null,
   "metadata": {
    "ExecuteTime": {
     "end_time": "2021-04-16T14:16:02.031781Z",
     "start_time": "2021-04-16T14:16:02.024635Z"
    }
   },
   "outputs": [],
   "source": [
    "def alpha59(v, wvap, industry):\n",
    "    \"\"\"-ts_rank(ts_weighted_mean(ts_corr(IndNeutralize(vwap, IndClass.industry), volume, 4), 16), 8)\"\"\"\n",
    "    pass"
   ]
  },
  {
   "cell_type": "code",
   "execution_count": null,
   "metadata": {
    "ExecuteTime": {
     "end_time": "2021-04-16T14:16:02.040727Z",
     "start_time": "2021-04-16T14:16:02.033218Z"
    }
   },
   "outputs": [],
   "source": [
    "def alpha060(l, h, c, v):\n",
    "    \"\"\"-((2 * scale(rank(((((close - low) - (high - close)) / (high - low)) * volume)))) -scale(rank(ts_argmax(close, 10))))\"\"\"\n",
    "    return (scale(rank(c.mul(2).sub(l).sub(h)\n",
    "                       .div(h.sub(l).replace(0, 1e-5))\n",
    "                       .mul(v))).mul(2)\n",
    "            .sub(scale(rank(ts_argmax(c, 10)))).mul(-1)\n",
    "            .stack('ticker')\n",
    "            .swaplevel())"
   ]
  },
  {
   "cell_type": "code",
   "execution_count": null,
   "metadata": {
    "ExecuteTime": {
     "end_time": "2021-04-16T14:18:11.653681Z",
     "start_time": "2021-04-16T14:18:11.650743Z"
    }
   },
   "outputs": [],
   "source": [
    "def alpha061(v, vwap):\n",
    "    \"\"\"rank((vwap - ts_min(vwap, 16))) < rank(ts_corr(vwap, adv180, 17))\"\"\"\n",
    "\n",
    "    return (rank(vwap.sub(ts_min(vwap, 16)))\n",
    "            .lt(rank(ts_corr(vwap, ts_mean(v, 180), 18)))\n",
    "            .astype(int)\n",
    "            .stack('ticker')\n",
    "            .swaplevel())"
   ]
  },
  {
   "cell_type": "code",
   "execution_count": null,
   "metadata": {
    "ExecuteTime": {
     "end_time": "2021-04-16T14:18:19.014396Z",
     "start_time": "2021-04-16T14:18:19.011661Z"
    }
   },
   "outputs": [],
   "source": [
    "def alpha062(o, h, l, vwap, adv20):\n",
    "    \"\"\"((rank(ts_corr(vwap, ts_sum(adv20, 22.4101), 9.91009)) < \n",
    "    rank(((rank(open) + rank(open)) < (rank(((high + low) / 2)) + rank(high))))) * -1)\"\"\"\n",
    "    return (rank(ts_corr(vwap, ts_sum(adv20, 22), 9))\n",
    "            .lt(rank(\n",
    "                rank(o).mul(2))\n",
    "                .lt(rank(h.add(l).div(2))\n",
    "                    .add(rank(h))))\n",
    "            .mul(-1)\n",
    "            .stack('ticker')\n",
    "            .swaplevel())"
   ]
  },
  {
   "cell_type": "code",
   "execution_count": null,
   "metadata": {
    "ExecuteTime": {
     "end_time": "2021-04-16T14:18:32.178156Z",
     "start_time": "2021-04-16T14:18:32.163557Z"
    }
   },
   "outputs": [],
   "source": [
    "def alpha63(v, wvap, industry):\n",
    "    \"\"\"((rank(ts_weighted_mean(ts_delta(IndNeutralize(close, IndClass.industry), 2), 8)) - \n",
    "        rank(ts_weighted_mean(ts_corr(((vwap * 0.318108) + (open * (1 - 0.318108))), \n",
    "                                        ts_sum(adv180, 37), 13), 12))) * -1)\n",
    "    \"\"\"\n",
    "    pass"
   ]
  },
  {
   "cell_type": "code",
   "execution_count": null,
   "metadata": {
    "ExecuteTime": {
     "end_time": "2021-04-16T14:18:32.238980Z",
     "start_time": "2021-04-16T14:18:32.228618Z"
    }
   },
   "outputs": [],
   "source": [
    "def alpha064(o, h, l, v, vwap):\n",
    "    \"\"\"((rank(ts_corr(ts_sum(((open * 0.178404) + (low * (1 - 0.178404))), 12.7054),ts_sum(adv120, 12.7054), 16.6208)) <\n",
    "        rank(ts_delta(((((high + low) / 2) * 0.178404) + (vwap * (1 -0.178404))), 3.69741))) * -1)\"\"\"\n",
    "    w = 0.178404\n",
    "    return (rank(ts_corr(ts_sum(o.mul(w).add(l.mul(1 - w)), 12),\n",
    "                         ts_sum(ts_mean(v, 120), 12), 16))\n",
    "            .lt(rank(ts_delta(h.add(l).div(2).mul(w)\n",
    "                               .add(vwap.mul(1 - w)), 3)))\n",
    "            .mul(-1)\n",
    "            .stack('ticker')\n",
    "            .swaplevel())"
   ]
  },
  {
   "cell_type": "code",
   "execution_count": null,
   "metadata": {
    "ExecuteTime": {
     "end_time": "2021-04-16T14:18:47.408986Z",
     "start_time": "2021-04-16T14:18:47.406537Z"
    }
   },
   "outputs": [],
   "source": [
    "def alpha065(o, v, vwap):\n",
    "    \"\"\"((rank(ts_corr(((open * 0.00817205) + (vwap * (1 - 0.00817205))), \n",
    "                        ts_sum(adv60,8.6911), 6.40374)) < \n",
    "        rank((open - ts_min(open, 13.635)))) * -1)\n",
    "    \"\"\"\n",
    "    w = 0.00817205\n",
    "    return (rank(ts_corr(o.mul(w).add(vwap.mul(1 - w)),\n",
    "                         ts_mean(ts_mean(v, 60), 9), 6))\n",
    "            .lt(rank(o.sub(ts_min(o, 13))))\n",
    "            .mul(-1)\n",
    "            .stack('ticker')\n",
    "            .swaplevel())"
   ]
  },
  {
   "cell_type": "code",
   "execution_count": null,
   "metadata": {
    "ExecuteTime": {
     "end_time": "2021-04-16T14:19:03.348934Z",
     "start_time": "2021-04-16T14:19:03.346522Z"
    }
   },
   "outputs": [],
   "source": [
    "def alpha066(l, h, vwap):\n",
    "    \"\"\"((rank(ts_weighted_mean(ts_delta(vwap, 3.51013), 7.23052)) +\n",
    "        ts_rank(ts_weighted_mean(((((low* 0.96633) + (low *\n",
    "                                    (1 - 0.96633))) - vwap) /\n",
    "                                    (open - ((high + low) / 2))), 11.4157), 6.72611)) * -1)\n",
    "    \"\"\"\n",
    "    w = 0.96633\n",
    "    return (rank(ts_weighted_mean(ts_delta(vwap, 4), 7))\n",
    "            .add(ts_rank(ts_weighted_mean(l.mul(w).add(l.mul(1 - w))\n",
    "                                           .sub(vwap)\n",
    "                                           .div(o.sub(h.add(l).div(2)).add(1e-3)), 11), 7))\n",
    "            .mul(-1)\n",
    "            .stack('ticker')\n",
    "            .swaplevel())"
   ]
  },
  {
   "cell_type": "code",
   "execution_count": null,
   "metadata": {
    "ExecuteTime": {
     "end_time": "2021-04-16T14:22:16.722140Z",
     "start_time": "2021-04-16T14:22:16.720453Z"
    }
   },
   "outputs": [],
   "source": [
    "def alpha067(h, v, sector, subindustry):\n",
    "    \"\"\"(power(rank((high - ts_min(high, 2.14593))),\n",
    "        rank(ts_corr(IndNeutralize(vwap,IndClass.sector), \n",
    "                IndNeutralize(adv20, IndClass.subindustry), 6.02936))) * -1)\n",
    "    \"\"\"\n",
    "    pass"
   ]
  },
  {
   "cell_type": "code",
   "execution_count": null,
   "metadata": {
    "ExecuteTime": {
     "end_time": "2021-04-16T14:22:16.806028Z",
     "start_time": "2021-04-16T14:22:16.798687Z"
    }
   },
   "outputs": [],
   "source": [
    "def alpha068(h, c, v):\n",
    "    \"\"\"((ts_rank(ts_corr(rank(high), rank(adv15), 8.91644), 13.9333) <\n",
    "        rank(ts_delta(((close * 0.518371) + (low * (1 - 0.518371))), 1.06157))) * -1)\n",
    "    \"\"\"\n",
    "    w = 0.518371\n",
    "    return (ts_rank(ts_corr(rank(h), rank(ts_mean(v, 15)), 9), 14)\n",
    "            .lt(rank(ts_delta(c.mul(w).add(l.mul(1 - w)), 1)))\n",
    "            .mul(-1)\n",
    "            .stack('ticker')\n",
    "            .swaplevel())"
   ]
  },
  {
   "cell_type": "code",
   "execution_count": null,
   "metadata": {
    "ExecuteTime": {
     "end_time": "2021-04-16T14:25:21.438899Z",
     "start_time": "2021-04-16T14:25:21.437172Z"
    }
   },
   "outputs": [],
   "source": [
    "def alpha069(c, vwap, industry):\n",
    "    \"\"\"((power(rank(ts_max(ts_delta(IndNeutralize(vwap, IndClass.industry), 2.72412),4.79344)),\n",
    "    Ts_Rank(ts_corr(((close * 0.490655) + (vwap * (1 - 0.490655))), adv20, 4.92416),9.0615))) * -1)\n",
    "    \"\"\"\n",
    "    pass"
   ]
  },
  {
   "cell_type": "code",
   "execution_count": null,
   "metadata": {
    "ExecuteTime": {
     "end_time": "2021-04-16T14:25:21.449107Z",
     "start_time": "2021-04-16T14:25:21.439848Z"
    }
   },
   "outputs": [],
   "source": [
    "def alpha076(c, v, vwap, industry):\n",
    "    \"\"\"((power(rank(ts_delta(vwap, 1.29456)),\n",
    "        ts_rank(ts_corr(IndNeutralize(close, IndClass.industry), adv50, 17.8256), 17.9171))) * -1)\n",
    "    \"\"\"\n",
    "    pass"
   ]
  },
  {
   "cell_type": "code",
   "execution_count": null,
   "metadata": {
    "ExecuteTime": {
     "end_time": "2021-04-16T14:25:21.465423Z",
     "start_time": "2021-04-16T14:25:21.458166Z"
    }
   },
   "outputs": [],
   "source": [
    "def alpha071(o, c, v, vwap):\n",
    "    \"\"\"max(ts_rank(ts_weighted_mean(ts_corr(ts_rank(close, 3.43976), ts_rank(adv180,12.0647), 18.0175), 4.20501), 15.6948), \n",
    "            ts_rank(ts_weighted_mean((rank(((low + open) - (vwap +vwap)))^2), 16.4662), 4.4388))\"\"\"\n",
    "\n",
    "    s1 = (ts_rank(ts_weighted_mean(ts_corr(ts_rank(c, 3),\n",
    "                                           ts_rank(ts_mean(v, 180), 12), 18), 4), 16))\n",
    "    s2 = (ts_rank(ts_weighted_mean(rank(l.add(o).\n",
    "                                        sub(vwap.mul(2)))\n",
    "                                   .pow(2), 16), 4))\n",
    "    return (s1.where(s1 > s2, s2)\n",
    "            .stack('ticker')\n",
    "            .swaplevel())"
   ]
  },
  {
   "cell_type": "code",
   "execution_count": null,
   "metadata": {
    "ExecuteTime": {
     "end_time": "2021-04-16T14:35:03.590469Z",
     "start_time": "2021-04-16T14:35:03.588125Z"
    }
   },
   "outputs": [],
   "source": [
    "def alpha072(h, l, v, vwap):\n",
    "    \"\"\"(rank(ts_weighted_mean(ts_corr(((high + low) / 2), adv40, 8.93345), 10.1519)) /\n",
    "        rank(ts_weighted_mean(ts_corr(ts_rank(vwap, 3.72469), ts_rank(volume, 18.5188), 6.86671), 2.95011)))\n",
    "    \"\"\"\n",
    "    return (rank(ts_weighted_mean(ts_corr(h.add(l).div(2), ts_mean(v, 40), 9), 10))\n",
    "            .div(rank(ts_weighted_mean(ts_corr(ts_rank(vwap, 3), ts_rank(v, 18), 6), 2)))\n",
    "            .stack('ticker')\n",
    "            .swaplevel())"
   ]
  },
  {
   "cell_type": "code",
   "execution_count": null,
   "metadata": {
    "ExecuteTime": {
     "end_time": "2021-04-16T14:41:17.746677Z",
     "start_time": "2021-04-16T14:41:17.742299Z"
    }
   },
   "outputs": [],
   "source": [
    "def alpha073(l, vwap):\n",
    "    \"\"\"(max(rank(ts_weighted_mean(ts_delta(vwap, 4.72775), 2.91864)),\n",
    "        ts_rank(ts_weighted_mean(((ts_delta(((open * 0.147155) + \n",
    "            (low * (1 - 0.147155))), 2.03608) / \n",
    "            ((open *0.147155) + (low * (1 - 0.147155)))) * -1), 3.33829), 16.7411)) * -1)\n",
    "        \"\"\"\n",
    "    w = 0.147155\n",
    "    s1 = rank(ts_weighted_mean(ts_delta(vwap, 5), 3))\n",
    "    s2 = (ts_rank(ts_weighted_mean(ts_delta(o.mul(w).add(l.mul(1 - w)), 2)\n",
    "                                   .div(o.mul(w).add(l.mul(1 - w)).mul(-1)), 3), 16))\n",
    "\n",
    "    print(s2)\n",
    "    return (s1.where(s1 > s2, s2)\n",
    "            .mul(-1)\n",
    "            .stack('ticker')\n",
    "            .swaplevel())"
   ]
  },
  {
   "cell_type": "code",
   "execution_count": null,
   "metadata": {
    "ExecuteTime": {
     "end_time": "2021-04-16T14:44:32.964223Z",
     "start_time": "2021-04-16T14:44:32.961866Z"
    }
   },
   "outputs": [],
   "source": [
    "def alpha074(v, vwap):\n",
    "    \"\"\"((rank(ts_corr(close, ts_sum(adv30, 37.4843), 15.1365)) <\n",
    "        rank(ts_corr(rank(((high * 0.0261661) + (vwap * (1 - 0.0261661)))), rank(volume), 11.4791)))* -1)\"\"\"\n",
    "\n",
    "    w = 0.0261661\n",
    "    return (rank(ts_corr(c, ts_mean(ts_mean(v, 30), 37), 15))\n",
    "            .lt(rank(ts_corr(rank(h.mul(w).add(vwap.mul(1 - w))), rank(v), 11)))\n",
    "            .mul(-1)\n",
    "            .stack('ticker')\n",
    "            .swaplevel())"
   ]
  },
  {
   "cell_type": "code",
   "execution_count": null,
   "metadata": {
    "ExecuteTime": {
     "end_time": "2021-04-16T14:44:49.637283Z",
     "start_time": "2021-04-16T14:44:49.635049Z"
    }
   },
   "outputs": [],
   "source": [
    "def alpha075(l, v, vwap):\n",
    "    \"\"\"(rank(ts_corr(vwap, volume, 4.24304)) < \n",
    "        rank(ts_corr(rank(low), rank(adv50),12.4413)))\n",
    "    \"\"\"\n",
    "\n",
    "    return (rank(ts_corr(vwap, v, 4))\n",
    "            .lt(rank(ts_corr(rank(l), rank(ts_mean(v, 50)), 12)))\n",
    "            .astype(int)\n",
    "            .stack('ticker')\n",
    "            .swaplevel())"
   ]
  },
  {
   "cell_type": "code",
   "execution_count": null,
   "metadata": {
    "ExecuteTime": {
     "end_time": "2021-04-16T14:44:57.109673Z",
     "start_time": "2021-04-16T14:44:57.107866Z"
    }
   },
   "outputs": [],
   "source": [
    "def alpha076(l, vwap, sector):\n",
    "    \"\"\"(max(rank(ts_weighted_mean(ts_delta(vwap, 1.24383), 11.8259)),\n",
    "            ts_rank(ts_weighted_mean(ts_rank(ts_corr(IndNeutralize(low, IndClass.sector), adv81,8.14941), 19.569), 17.1543), 19.383)) * -1)\n",
    "    \"\"\"\n",
    "    pass"
   ]
  },
  {
   "cell_type": "code",
   "execution_count": null,
   "metadata": {
    "ExecuteTime": {
     "end_time": "2021-04-16T14:44:57.130228Z",
     "start_time": "2021-04-16T14:44:57.123218Z"
    }
   },
   "outputs": [],
   "source": [
    "def alpha077(l, h, vwap):\n",
    "    \"\"\"min(rank(ts_weighted_mean(((((high + low) / 2) + high) - (vwap + high)), 20.0451)),\n",
    "            rank(ts_weighted_mean(ts_corr(((high + low) / 2), adv40, 3.1614), 5.64125)))\n",
    "    \"\"\"\n",
    "\n",
    "    s1 = rank(ts_weighted_mean(h.add(l).div(2).sub(vwap), 20))\n",
    "    s2 = rank(ts_weighted_mean(ts_corr(h.add(l).div(2), ts_mean(v, 40), 3), 5))\n",
    "    return (s1.where(s1 < s2, s2)\n",
    "            .stack('ticker')\n",
    "            .swaplevel())"
   ]
  },
  {
   "cell_type": "code",
   "execution_count": null,
   "metadata": {
    "ExecuteTime": {
     "end_time": "2021-04-16T14:45:13.742520Z",
     "start_time": "2021-04-16T14:45:13.740012Z"
    }
   },
   "outputs": [],
   "source": [
    "def alpha078(l, v, vwap):\n",
    "    \"\"\"(rank(ts_corr(ts_sum(((low * 0.352233) + (vwap * (1 - 0.352233))), 19.7428),\n",
    "        ts_sum(adv40, 19.7428), 6.83313))^rank(ts_corr(rank(vwap), rank(volume), 5.77492)))\"\"\"\n",
    "\n",
    "    w = 0.352233\n",
    "    return (rank(ts_corr(ts_sum((l.mul(w).add(vwap.mul(1 - w))), 19),\n",
    "                         ts_sum(ts_mean(v, 40), 19), 6))\n",
    "            .pow(rank(ts_corr(rank(vwap), rank(v), 5)))\n",
    "            .stack('ticker')\n",
    "            .swaplevel())"
   ]
  },
  {
   "cell_type": "code",
   "execution_count": null,
   "metadata": {
    "ExecuteTime": {
     "end_time": "2021-04-16T14:45:31.288447Z",
     "start_time": "2021-04-16T14:45:31.286714Z"
    }
   },
   "outputs": [],
   "source": [
    "def alpha079(o, v, sector):\n",
    "    \"\"\"(rank(ts_delta(IndNeutralize(((close * 0.60733) + (open * (1 - 0.60733))),IndClass.sector), 1.23438)) < \n",
    "        rank(ts_corr(Ts_Rank(vwap, 3.60973), Ts_Rank(adv150,9.18637), 14.6644)))\n",
    "    \"\"\"\n",
    "    pass"
   ]
  },
  {
   "cell_type": "code",
   "execution_count": null,
   "metadata": {
    "ExecuteTime": {
     "end_time": "2021-04-16T14:45:31.303815Z",
     "start_time": "2021-04-16T14:45:31.289397Z"
    }
   },
   "outputs": [],
   "source": [
    "def alpha080(h, industry):\n",
    "    \"\"\"((power(rank(sign(ts_delta(IndNeutralize(((open * 0.868128) + (high * (1 - 0.868128))),IndClass.industry), 4.04545))),\n",
    "        ts_rank(ts_corr(high, adv10, 5.11456), 5.53756)) * -1)\n",
    "    \"\"\"\n",
    "    pass"
   ]
  },
  {
   "cell_type": "code",
   "execution_count": null,
   "metadata": {
    "ExecuteTime": {
     "end_time": "2021-04-16T14:45:31.312106Z",
     "start_time": "2021-04-16T14:45:31.304771Z"
    }
   },
   "outputs": [],
   "source": [
    "def alpha081(v, vwap):\n",
    "    \"\"\"-(rank(log(ts_product(rank((rank(ts_corr(vwap, ts_sum(adv10, 49.6054),8.47743))^4)), 14.9655))) <\n",
    "        rank(ts_corr(rank(vwap), rank(volume), 5.07914)))\"\"\"\n",
    "\n",
    "    return (rank(log(ts_product(rank(rank(ts_corr(vwap,\n",
    "                                                  ts_sum(ts_mean(v, 10), 50), 8))\n",
    "                                     .pow(4)), 15)))\n",
    "            .lt(rank(ts_corr(rank(vwap), rank(v), 5)))\n",
    "            .mul(-1)\n",
    "            .stack('ticker')\n",
    "            .swaplevel())"
   ]
  },
  {
   "cell_type": "code",
   "execution_count": null,
   "metadata": {
    "ExecuteTime": {
     "end_time": "2021-04-16T14:47:40.230304Z",
     "start_time": "2021-04-16T14:47:40.216202Z"
    }
   },
   "outputs": [],
   "source": [
    "def alpha082(o, v, sector):\n",
    "    \"\"\"(min(rank(ts_weighted_mean(ts_delta(open, 1.46063), 14.8717)),\n",
    "        ts_rank(ts_weighted_mean(ts_corr(IndNeutralize(volume, IndClass.sector), \n",
    "        ((open * 0.634196) +(open * (1 - 0.634196))), 17.4842), 6.92131), 13.4283)) * -1)\n",
    "    \n",
    "    \"\"\"\n",
    "    pass"
   ]
  },
  {
   "cell_type": "code",
   "execution_count": null,
   "metadata": {
    "ExecuteTime": {
     "end_time": "2021-04-16T14:47:40.238173Z",
     "start_time": "2021-04-16T14:47:40.231217Z"
    }
   },
   "outputs": [],
   "source": [
    "def alpha083(h, l, c):\n",
    "    \"\"\"(rank(ts_lag((high - low) / ts_mean(close, 5), 2)) * rank(rank(volume)) / \n",
    "            (((high - low) / ts_mean(close, 5) / (vwap - close)))\n",
    "    \"\"\"\n",
    "    s = h.sub(l).div(ts_mean(c, 5))\n",
    "\n",
    "    return (rank(rank(ts_lag(s, 2))\n",
    "                 .mul(rank(rank(v)))\n",
    "                 .div(s).div(vwap.sub(c).add(1e-3)))\n",
    "            .stack('ticker')\n",
    "            .swaplevel()\n",
    "            .replace((np.inf, -np.inf), np.nan))"
   ]
  },
  {
   "cell_type": "code",
   "execution_count": null,
   "metadata": {
    "ExecuteTime": {
     "end_time": "2021-04-16T14:47:55.747405Z",
     "start_time": "2021-04-16T14:47:55.745412Z"
    }
   },
   "outputs": [],
   "source": [
    "def alpha084(c, vwap):\n",
    "    \"\"\"power(ts_rank((vwap - ts_max(vwap, 15.3217)), 20.7127), \n",
    "        ts_delta(close,4.96796))\"\"\"\n",
    "    return (rank(power(ts_rank(vwap.sub(ts_max(vwap, 15)), 20),\n",
    "                       ts_delta(c, 6)))\n",
    "            .stack('ticker')\n",
    "            .swaplevel())"
   ]
  },
  {
   "cell_type": "code",
   "execution_count": null,
   "metadata": {
    "ExecuteTime": {
     "end_time": "2021-04-16T14:51:10.956032Z",
     "start_time": "2021-04-16T14:51:10.953678Z"
    }
   },
   "outputs": [],
   "source": [
    "def alpha085(l, v):\n",
    "    \"\"\"power(rank(ts_corr(((high * 0.876703) + (close * (1 - 0.876703))), adv30,9.61331)),\n",
    "        rank(ts_corr(ts_rank(((high + low) / 2), 3.70596), \n",
    "                     ts_rank(volume, 10.1595),7.11408)))\n",
    "                     \"\"\"\n",
    "    w = 0.876703\n",
    "    return (rank(ts_corr(h.mul(w).add(c.mul(1 - w)), ts_mean(v, 30), 10))\n",
    "            .pow(rank(ts_corr(ts_rank(h.add(l).div(2), 4),\n",
    "                              ts_rank(v, 10), 7)))\n",
    "            .stack('ticker')\n",
    "            .swaplevel())"
   ]
  },
  {
   "cell_type": "code",
   "execution_count": null,
   "metadata": {
    "ExecuteTime": {
     "end_time": "2021-04-16T14:57:38.854662Z",
     "start_time": "2021-04-16T14:57:38.852381Z"
    }
   },
   "outputs": [],
   "source": [
    "def alpha086(c, v, vwap):\n",
    "    \"\"\"((ts_rank(ts_corr(close, ts_sum(adv20, 14.7444), 6.00049), 20.4195) < \n",
    "        rank(((open + close) - (vwap + open)))) * -1)\n",
    "    \"\"\"\n",
    "    return (ts_rank(ts_corr(c, ts_mean(ts_mean(v, 20), 15), 6), 20)\n",
    "            .lt(rank(c.sub(vwap)))\n",
    "            .mul(-1)\n",
    "            .stack('ticker')\n",
    "            .swaplevel())"
   ]
  },
  {
   "cell_type": "code",
   "execution_count": null,
   "metadata": {
    "ExecuteTime": {
     "end_time": "2021-04-16T15:00:52.295732Z",
     "start_time": "2021-04-16T15:00:52.293965Z"
    }
   },
   "outputs": [],
   "source": [
    "def alpha087(c, vwap, industry):\n",
    "    \"\"\"(max(rank(ts_weighted_mean(ts_delta(((close * 0.369701) + (vwap * (1 - 0.369701))),1.91233), 2.65461)), \n",
    "            ts_rank(ts_weighted_mean(abs(ts_corr(IndNeutralize(adv81,IndClass.industry), close, 13.4132)), 4.89768), 14.4535)) * -1)\n",
    "    \"\"\"\n",
    "    pass"
   ]
  },
  {
   "cell_type": "code",
   "execution_count": null,
   "metadata": {
    "ExecuteTime": {
     "end_time": "2021-04-16T15:00:52.306742Z",
     "start_time": "2021-04-16T15:00:52.296590Z"
    }
   },
   "outputs": [],
   "source": [
    "def alpha088(o, h, l, c, v):\n",
    "    \"\"\"min(rank(ts_weighted_mean(((rank(open) + rank(low)) - (rank(high) + rank(close))),8.06882)), \n",
    "        ts_rank(ts_weighted_mean(ts_corr(ts_rank(close, 8.44728), \n",
    "                ts_rank(adv60,20.6966), 8.01266), 6.65053), 2.61957))\"\"\"\n",
    "\n",
    "    s1 = (rank(ts_weighted_mean(rank(o)\n",
    "                                .add(rank(l))\n",
    "                                .sub(rank(h))\n",
    "                                .add(rank(c)), 8)))\n",
    "    s2 = ts_rank(ts_weighted_mean(ts_corr(ts_rank(c, 8),\n",
    "                                          ts_rank(ts_mean(v, 60), 20), 8), 6), 2)\n",
    "\n",
    "    return (s1.where(s1 < s2, s2)\n",
    "            .stack('ticker')\n",
    "            .swaplevel())"
   ]
  },
  {
   "cell_type": "code",
   "execution_count": null,
   "metadata": {
    "ExecuteTime": {
     "end_time": "2021-04-16T15:07:08.812951Z",
     "start_time": "2021-04-16T15:07:08.810805Z"
    }
   },
   "outputs": [],
   "source": [
    "def alpha089(l, v, vwap, industry):\n",
    "    \"\"\"(ts_rank(ts_weighted_mean(ts_corr(((low * 0.967285) + \n",
    "        (low * (1 - 0.967285))), adv10,6.94279), 5.51607), 3.79744) - \n",
    "        ts_rank(ts_weighted_mean(ts_delta(IndNeutralize(vwap,IndClass.industry), 3.48158), 10.1466), 15.3012))\n",
    "    \"\"\"\n",
    "    pass"
   ]
  },
  {
   "cell_type": "code",
   "execution_count": null,
   "metadata": {
    "ExecuteTime": {
     "end_time": "2021-04-16T15:07:08.824082Z",
     "start_time": "2021-04-16T15:07:08.814141Z"
    }
   },
   "outputs": [],
   "source": [
    "def alpha090(c, l, subindustry):\n",
    "    \"\"\"((rank((close - ts_max(close, 4.66719)))\n",
    "        ^ts_rank(ts_corr(IndNeutralize(adv40,IndClass.subindustry), low, 5.38375), 3.21856)) * -1)\n",
    "    \"\"\"\n",
    "    pass"
   ]
  },
  {
   "cell_type": "code",
   "execution_count": null,
   "metadata": {
    "ExecuteTime": {
     "end_time": "2021-04-16T15:07:08.832367Z",
     "start_time": "2021-04-16T15:07:08.825223Z"
    }
   },
   "outputs": [],
   "source": [
    "def alpha091(v, vwap, industry):\n",
    "    \"\"\"((ts_rank(ts_weighted_mean(ts_weighted_mean(ts_corr(IndNeutralize(close,IndClass.industry), volume, 9.74928), 16.398), 3.83219), 4.8667) -\n",
    "        rank(ts_weighted_mean(ts_corr(vwap, adv30, 4.01303), 2.6809))) * -1)\n",
    "    \"\"\"\n",
    "    pass"
   ]
  },
  {
   "cell_type": "code",
   "execution_count": null,
   "metadata": {
    "ExecuteTime": {
     "end_time": "2021-04-16T15:07:08.840614Z",
     "start_time": "2021-04-16T15:07:08.833539Z"
    }
   },
   "outputs": [],
   "source": [
    "def alpha092(o, l, c, v):\n",
    "    \"\"\"min(ts_rank(ts_weighted_mean(((((high + low) / 2) + close) < (low + open)), 14.7221),18.8683), \n",
    "            ts_rank(ts_weighted_mean(ts_corr(rank(low), rank(adv30), 7.58555), 6.94024),6.80584))\n",
    "    \"\"\"\n",
    "    p1 = ts_rank(ts_weighted_mean(h.add(l).div(2).add(c).lt(l.add(o)), 15), 18)\n",
    "    p2 = ts_rank(ts_weighted_mean(ts_corr(rank(l), rank(ts_mean(v, 30)), 7), 6), 6)\n",
    "\n",
    "    return (p1.where(p1<p2, p2)\n",
    "            .stack('ticker')\n",
    "            .swaplevel())"
   ]
  },
  {
   "cell_type": "code",
   "execution_count": null,
   "metadata": {
    "ExecuteTime": {
     "end_time": "2021-04-16T15:11:53.945088Z",
     "start_time": "2021-04-16T15:11:53.942874Z"
    }
   },
   "outputs": [],
   "source": [
    "def alpha093(c, v, vwap, industry):\n",
    "    \"\"\"(ts_rank(ts_weighted_mean(ts_corr(IndNeutralize(vwap, IndClass.industry), adv81,17.4193), 19.848), 7.54455) / \n",
    "        rank(ts_weighted_mean(ts_delta(((close * 0.524434) + (vwap * (1 -0.524434))), 2.77377), 16.2664)))\n",
    "    \"\"\"\n",
    "    pass"
   ]
  },
  {
   "cell_type": "code",
   "execution_count": null,
   "metadata": {
    "ExecuteTime": {
     "end_time": "2021-04-16T15:11:53.966035Z",
     "start_time": "2021-04-16T15:11:53.946220Z"
    }
   },
   "outputs": [],
   "source": [
    "def alpha094(v, vwap):\n",
    "    \"\"\"((rank((vwap - ts_min(vwap, 11.5783)))^ts_rank(ts_corr(ts_rank(vwap,19.6462), \n",
    "        ts_rank(adv60, 4.02992), 18.0926), 2.70756)) * -1)\n",
    "    \"\"\"\n",
    "\n",
    "    return (rank(vwap.sub(ts_min(vwap, 11)))\n",
    "            .pow(ts_rank(ts_corr(ts_rank(vwap, 20),\n",
    "                                 ts_rank(ts_mean(v, 60), 4), 18), 2))\n",
    "            .mul(-1)\n",
    "            .stack('ticker')\n",
    "            .swaplevel())"
   ]
  },
  {
   "cell_type": "code",
   "execution_count": null,
   "metadata": {
    "ExecuteTime": {
     "end_time": "2021-04-16T15:21:06.787230Z",
     "start_time": "2021-04-16T15:21:06.783900Z"
    }
   },
   "outputs": [],
   "source": [
    "def alpha095(o, l, v):\n",
    "    \"\"\"(rank((open - ts_min(open, 12.4105))) < \n",
    "        ts_rank((rank(ts_corr(ts_sum(((high + low)/ 2), 19.1351), ts_sum(adv40, 19.1351), 12.8742))^5), 11.7584))\n",
    "    \"\"\"\n",
    "    \n",
    "    return (rank(o.sub(ts_min(o, 12)))\n",
    "            .lt(ts_rank(rank(ts_corr(ts_mean(h.add(l).div(2), 19),\n",
    "                                     ts_sum(ts_mean(v, 40), 19), 13).pow(5)), 12))\n",
    "            .astype(int)\n",
    "            .stack('ticker')\n",
    "            .swaplevel())"
   ]
  },
  {
   "cell_type": "code",
   "execution_count": null,
   "metadata": {
    "ExecuteTime": {
     "end_time": "2021-04-16T15:47:29.507109Z",
     "start_time": "2021-04-16T15:47:29.505327Z"
    }
   },
   "outputs": [],
   "source": [
    "def alpha097(l):\n",
    "    \"\"\"((rank(ts_weighted_mean(ts_delta(IndNeutralize(((low * 0.721001) + \n",
    "        (vwap * (1 - 0.721001))),IndClass.industry), 3.3705), 20.4523)) - \n",
    "        ts_rank(ts_weighted_mean(ts_rank(ts_corr(Ts_Rank(low,7.87871), \n",
    "        ts_rank(adv60, 17.255), 4.97547), 18.5925), 15.7152), 6.71659)) * -1)\n",
    "    \"\"\"\n",
    "    pass"
   ]
  },
  {
   "cell_type": "code",
   "execution_count": null,
   "metadata": {
    "ExecuteTime": {
     "end_time": "2021-04-16T15:47:30.136248Z",
     "start_time": "2021-04-16T15:47:30.133873Z"
    }
   },
   "outputs": [],
   "source": [
    "def alpha098(o, v, vwap):\n",
    "    \"\"\"(rank(ts_weighted_mean(ts_corr(vwap, ts_sum(adv5, 26.4719), 4.58418), 7.18088)) -\n",
    "        rank(ts_weighted_mean(ts_tank(ts_argmin(ts_corr(rank(open), \n",
    "        rank(adv15), 20.8187), 8.62571),6.95668), 8.07206)))\n",
    "    \"\"\"\n",
    "    adv5 = ts_mean(v, 5)\n",
    "    adv15 = ts_mean(v, 15)\n",
    "    return (rank(ts_weighted_mean(ts_corr(vwap, ts_mean(adv5, 26), 4), 7))\n",
    "            .sub(rank(ts_weighted_mean(ts_rank(ts_argmin(ts_corr(rank(o),\n",
    "                                                                 rank(adv15), 20), 8), 6))))\n",
    "            .stack('ticker')\n",
    "            .swaplevel())"
   ]
  },
  {
   "cell_type": "code",
   "execution_count": null,
   "metadata": {
    "ExecuteTime": {
     "end_time": "2021-04-16T15:52:40.248528Z",
     "start_time": "2021-04-16T15:52:40.246013Z"
    }
   },
   "outputs": [],
   "source": [
    "def alpha099(l, v):\n",
    "    \"\"\"((rank(ts_corr(ts_sum(((high + low) / 2), 19.8975), \n",
    "                    ts_sum(adv60, 19.8975), 8.8136)) <\n",
    "                    rank(ts_corr(low, volume, 6.28259))) * -1)\"\"\"\n",
    "\n",
    "    return ((rank(ts_corr(ts_sum((h.add(l).div(2)), 19),\n",
    "                          ts_sum(ts_mean(v, 60), 19), 8))\n",
    "             .lt(rank(ts_corr(l, v, 6)))\n",
    "             .mul(-1))\n",
    "            .stack('ticker')\n",
    "            .swaplevel())"
   ]
  },
  {
   "cell_type": "code",
   "execution_count": null,
   "metadata": {
    "ExecuteTime": {
     "end_time": "2021-04-16T15:52:56.482489Z",
     "start_time": "2021-04-16T15:52:56.480274Z"
    }
   },
   "outputs": [],
   "source": [
    "def alpha100(r, cap):\n",
    "    \"\"\"(0 - (1 * (((1.5 * scale(indneutralize(\n",
    "                indneutralize(rank(((((close - low) - (high -close)) / (high - low)) * volume)), \n",
    "                                IndClass.subindustry), IndClass.subindustry))) - \n",
    "    scale(indneutralize((ts_corr(close, rank(adv20), 5) - rank(ts_argmin(close, 30))), IndClass.subindustry))) * (volume / adv20))))\n",
    "    \"\"\"\n",
    "    pass"
   ]
  },
  {
   "cell_type": "code",
   "execution_count": null,
   "metadata": {
    "ExecuteTime": {
     "end_time": "2021-04-16T15:52:56.491221Z",
     "start_time": "2021-04-16T15:52:56.483597Z"
    }
   },
   "outputs": [],
   "source": [
    "def alpha101(o, h, l, c):\n",
    "    \"\"\"((close - open) / ((high - low) + .001))\"\"\"\n",
    "    return (c.sub(o).div(h.sub(l).add(1e-3))\n",
    "            .stack('ticker')\n",
    "            .swaplevel())"
   ]
  },
  {
   "cell_type": "markdown",
   "metadata": {},
   "source": [
    "## Store results"
   ]
  },
  {
   "cell_type": "code",
   "execution_count": null,
   "metadata": {
    "ExecuteTime": {
     "end_time": "2021-04-16T15:53:35.565439Z",
     "start_time": "2021-04-16T15:53:19.393097Z"
    }
   },
   "outputs": [],
   "source": [
    "alphas = []\n",
    "with pd.HDFStore('alphas.h5') as store:\n",
    "    keys = [k[1:] for k in store.keys()]\n",
    "    for key in keys:\n",
    "        i = int(key.split('/')[-1])\n",
    "        alphas.append(store[key].to_frame(i))\n",
    "alphas = pd.concat(alphas, axis=1)"
   ]
  },
  {
   "cell_type": "code",
   "execution_count": null,
   "metadata": {
    "ExecuteTime": {
     "end_time": "2021-04-16T15:53:35.970078Z",
     "start_time": "2021-04-16T15:53:35.566546Z"
    }
   },
   "outputs": [],
   "source": [
    "alphas.info(null_counts=True)"
   ]
  },
  {
   "cell_type": "code",
   "execution_count": null,
   "metadata": {
    "ExecuteTime": {
     "end_time": "2021-04-16T15:53:37.588822Z",
     "start_time": "2021-04-16T15:53:35.972104Z"
    }
   },
   "outputs": [],
   "source": [
    "alphas.to_hdf('data.h5', 'factors/formulaic')"
   ]
  }
 ],
 "metadata": {
  "kernelspec": {
   "display_name": "base",
   "language": "python",
   "name": "python3"
  },
  "language_info": {
   "codemirror_mode": {
    "name": "ipython",
    "version": 3
   },
   "file_extension": ".py",
   "mimetype": "text/x-python",
   "name": "python",
   "nbconvert_exporter": "python",
   "pygments_lexer": "ipython3",
   "version": "3.11.3"
  },
  "toc": {
   "base_numbering": "1",
   "nav_menu": {},
   "number_sections": true,
   "sideBar": true,
   "skip_h1_title": true,
   "title_cell": "Table of Contents",
   "title_sidebar": "Contents",
   "toc_cell": false,
   "toc_position": {
    "height": "calc(100% - 180px)",
    "left": "10px",
    "top": "150px",
    "width": "342.391px"
   },
   "toc_section_display": true,
   "toc_window_display": true
  }
 },
 "nbformat": 4,
 "nbformat_minor": 4
}
