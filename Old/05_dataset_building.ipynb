{
 "cells": [
  {
   "cell_type": "markdown",
   "metadata": {},
   "source": [
    "##### Imports"
   ]
  },
  {
   "cell_type": "code",
   "execution_count": 6,
   "metadata": {
    "tags": [
     "parameters"
    ]
   },
   "outputs": [],
   "source": [
    "# Parameters\n",
    "top = 10  # default value"
   ]
  },
  {
   "cell_type": "code",
   "execution_count": 7,
   "metadata": {},
   "outputs": [],
   "source": [
    "import warnings\n",
    "import pandas as pd\n",
    "warnings.filterwarnings('ignore')\n",
    "\n",
    "pd.set_option('display.max_columns', 1000)\n",
    "pd.set_option('display.max_rows', 1000)"
   ]
  },
  {
   "cell_type": "code",
   "execution_count": 8,
   "metadata": {},
   "outputs": [],
   "source": [
    "%matplotlib inline\n",
    "\n",
    "import numpy as np\n",
    "import pandas as pd\n",
    "from sklearn.feature_selection \\\n",
    "        import mutual_info_regression\n",
    "        \n",
    "from scipy.stats import spearmanr\n",
    "import matplotlib.pyplot as plt\n",
    "import seaborn as sns\n",
    "from pathlib import Path"
   ]
  },
  {
   "cell_type": "code",
   "execution_count": 9,
   "metadata": {
    "tags": [
     "parameters"
    ]
   },
   "outputs": [],
   "source": [
    "from pathlib import Path\n",
    "import pandas as pd\n",
    "from filelock import FileLock\n",
    "import dask.dataframe as dd\n",
    "\n",
    "# Define the path\n",
    "DATA_STORE = Path('/home/sayem/Desktop/Project/data/assets.h5')\n",
    "lock_path = \"/tmp/assets_h5_file.lock\"  # Lock path\n",
    "top = 250\n",
    "# Lock the file and retrieve the data\n",
    "with FileLock(lock_path):\n",
    "    # Use Dask to directly read the HDF5 files\n",
    "    alpha_101_data_full = dd.read_hdf(DATA_STORE, \\\n",
    "        key=f'factor/top{top}_dataset_alpha101').compute()\n",
    "    ta_data_full = dd.read_hdf(DATA_STORE, \\\n",
    "        key=f'factor/top{top}_dataset_with_TA').compute()\n",
    "    beta_proxy_data_full = dd.read_hdf(DATA_STORE, \\\n",
    "        key=f'factor/top{top}_dataset_with_rolling_beta_size_proxy').compute()\n",
    "\n",
    "\n",
    "\n",
    "#     with pd.HDFStore(DATA_STORE) as store:\n",
    "#         alpha_101_data_full = store['factors/alpha_101']\n",
    "#         common_data_full = store['factors/common']\n",
    "\n",
    "\n",
    "# end_date = pd.Timestamp('2023-08-11')\n",
    "# start_date = end_date - pd.tseries.offsets.BDay(5)\n",
    "\n",
    "# print(start_date)\n",
    "\n",
    "\n",
    "# alpha_101_data = alpha_101_data_full.loc[\n",
    "#     (alpha_101_data_full.index.get_level_values(\"date\") >= start_date) &\n",
    "#     (alpha_101_data_full.index.get_level_values(\"date\") <= end_date)\n",
    "# ]\n",
    "\n",
    "# common_data = common_data_full.loc[\n",
    "#     (common_data_full.index.get_level_values(\"date\") >= start_date) &\n",
    "#     (common_data_full.index.get_level_values(\"date\") <= end_date)\n",
    "# ]\n",
    "\n",
    "# del alpha_101_data_full\n",
    "# del common_data_full"
   ]
  },
  {
   "cell_type": "code",
   "execution_count": null,
   "metadata": {},
   "outputs": [],
   "source": [
    "# # Prepare an empty list to collect processed chunks\n",
    "# processed_data_list = []\n",
    "\n",
    "# # Given that `common_data` is the larger DataFrame, we'll chunk through that.\n",
    "# # Define a chunk size based on your system's memory; you can adjust it as needed.\n",
    "# CHUNK_SIZE = 100000\n",
    "\n",
    "# # Create function to chunk through DataFrame\n",
    "# def chunker(seq, size):\n",
    "#     return (seq[pos: pos + size] for pos in range(0, len(seq), size))\n",
    "\n",
    "# # Chunk through `common_data` based on the index\n",
    "# for start in range(0, common_data.shape[0], CHUNK_SIZE):\n",
    "#     end = start + CHUNK_SIZE\n",
    "    \n",
    "#     # Selecting the current chunk\n",
    "#     common_data_chunk = common_data.iloc[start:end]\n",
    "    \n",
    "#     # Extract unique tickers and dates from the current chunk\n",
    "#     tickers_in_chunk = common_data_chunk.index.get_level_values('ticker').unique()\n",
    "#     dates_in_chunk = common_data_chunk.index.get_level_values('date').unique()\n",
    "    \n",
    "#     # Filter alpha_101_data based on tickers and dates in the current chunk\n",
    "#     filtered_alpha_101_data = alpha_101_data[\n",
    "#         alpha_101_data.index.get_level_values('ticker').isin(tickers_in_chunk) &\n",
    "#         alpha_101_data.index.get_level_values('date').isin(dates_in_chunk)\n",
    "#     ]\n",
    "    \n",
    "#     # Merge current chunk with filtered alpha_101_data\n",
    "#     merged_chunk = common_data_chunk.merge(\n",
    "#         filtered_alpha_101_data, left_index=True, right_index=True, how='inner', suffixes=('', '_y')\n",
    "#     )\n",
    "\n",
    "#     # Drop any columns that end with \"_y\" suffix and \"_x\" (just in case, though \"_x\" might not appear in this context)\n",
    "#     merged_chunk = merged_chunk.drop(columns=[col for col in merged_chunk if col.endswith(('_y', '_x'))])\n",
    "\n",
    "#     processed_data_list.append(merged_chunk)\n",
    "\n",
    "# # Concatenate all processed chunks\n",
    "# final_data = pd.concat(processed_data_list)\n",
    "\n",
    "# print(f\"Shape of the final combined data: {final_data.shape}\")\n",
    "# print(\"Processing completed.\")\n",
    "\n",
    "# del processed_data_list"
   ]
  },
  {
   "cell_type": "code",
   "execution_count": null,
   "metadata": {},
   "outputs": [],
   "source": [
    "# Rename columns\n",
    "final_data.columns = [f'FEATURE_{col.upper()}' if 'ret_fwd' not in \\\n",
    "    col else f'TARGET_{col.upper()}' for col in final_data.columns]"
   ]
  },
  {
   "cell_type": "code",
   "execution_count": null,
   "metadata": {},
   "outputs": [],
   "source": [
    "ret_fwd_columns = [col for col in final_data.columns if col.startswith('TARGET_RET_FWD')]\n",
    "\n",
    "if ret_fwd_columns:\n",
    "    print(f\"Columns that start with 'TARGET_RET_FWD': {ret_fwd_columns}\")\n",
    "else:\n",
    "    print(\"No columns start with 'TARGET_RET_FWD'.\")"
   ]
  },
  {
   "cell_type": "code",
   "execution_count": null,
   "metadata": {},
   "outputs": [],
   "source": [
    "from utils import save_to_hdf\n",
    "\n",
    "# Example usage\n",
    "FILE_PATH = \"/home/sayem/Desktop/Project/data/dataset.h5\"\n",
    "# Define key name\n",
    "KEY_NAME_PREFIX = f'data/YEAR'\n",
    "_ = save_to_hdf(final_data, FILE_PATH, KEY_NAME_PREFIX)\n",
    "print(f'key is: {_}')"
   ]
  },
  {
   "cell_type": "code",
   "execution_count": null,
   "metadata": {},
   "outputs": [],
   "source": [
    "import dask.dataframe as dd\n",
    "import pandas as pd\n",
    "\n",
    "FILE_PATH = \"/home/sayem/Desktop/Project/data/dataset.h5\"\n",
    "\n",
    "# Extract all keys from the HDF5 file\n",
    "with pd.HDFStore(FILE_PATH) as store:\n",
    "    available_keys = [key for key in store.keys() if key.startswith('/data_YEAR_')]\n",
    "\n",
    "# Dictionary to store datasets corresponding to each key\n",
    "datasets = {}\n",
    "\n",
    "FILE_NAME = available_keys[0]\n",
    "\n",
    "# for FILE_NAME in available_keys:\n",
    "# Read the dataset using Dask for each key\n",
    "data = dd.read_hdf(FILE_PATH, FILE_NAME)\n",
    "    # Compute the result (this will load data into memory) \n",
    "    # and store it in the datasets dictionary with the key as the identifier\n",
    "result = data.compute()\n",
    "# break\n",
    "\n",
    "# Now, the datasets dictionary contains data for each key."
   ]
  },
  {
   "cell_type": "code",
   "execution_count": null,
   "metadata": {},
   "outputs": [],
   "source": [
    "result"
   ]
  },
  {
   "cell_type": "code",
   "execution_count": null,
   "metadata": {},
   "outputs": [],
   "source": [
    "from utils import clear_large_vars\n",
    "clear_large_vars()"
   ]
  }
 ],
 "metadata": {
  "kernelspec": {
   "display_name": "base",
   "language": "python",
   "name": "python3"
  },
  "language_info": {
   "codemirror_mode": {
    "name": "ipython",
    "version": 3
   },
   "file_extension": ".py",
   "mimetype": "text/x-python",
   "name": "python",
   "nbconvert_exporter": "python",
   "pygments_lexer": "ipython3",
   "version": "3.11.3"
  },
  "orig_nbformat": 4
 },
 "nbformat": 4,
 "nbformat_minor": 2
}
