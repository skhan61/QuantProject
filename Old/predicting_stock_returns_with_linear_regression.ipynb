{
 "cells": [
  {
   "cell_type": "markdown",
   "metadata": {},
   "source": [
    "##### Prediction stock returns with linear regression\n",
    "\n",
    "##### Imports & Settings"
   ]
  },
  {
   "cell_type": "code",
   "execution_count": 13,
   "metadata": {},
   "outputs": [],
   "source": [
    "import warnings\n",
    "import pandas as pd\n",
    "warnings.filterwarnings('ignore')\n",
    "\n",
    "pd.set_option('display.max_columns', 1000)\n",
    "pd.set_option('display.max_rows', 1000)"
   ]
  },
  {
   "cell_type": "code",
   "execution_count": 7,
   "metadata": {},
   "outputs": [],
   "source": [
    "%matplotlib inline\n",
    "\n",
    "from time import time\n",
    "from pathlib import Path\n",
    "import pandas as pd\n",
    "import numpy as np\n",
    "from scipy.stats import spearmanr\n",
    "\n",
    "from sklearn.metrics import mean_squared_error\n",
    "from sklearn.preprocessing import StandardScaler\n",
    "from sklearn.linear_model import LinearRegression, Ridge, Lasso\n",
    "from sklearn.pipeline import Pipeline\n",
    "\n",
    "import seaborn as sns\n",
    "import matplotlib.pyplot as plt\n",
    "from matplotlib.ticker import FuncFormatter"
   ]
  },
  {
   "cell_type": "code",
   "execution_count": 8,
   "metadata": {},
   "outputs": [],
   "source": [
    "sns.set_style('darkgrid')\n",
    "idx = pd.IndexSlice"
   ]
  },
  {
   "cell_type": "code",
   "execution_count": 9,
   "metadata": {},
   "outputs": [],
   "source": [
    "YEAR = 252"
   ]
  },
  {
   "cell_type": "code",
   "execution_count": 10,
   "metadata": {},
   "outputs": [],
   "source": [
    "DATA = Path('./data')\n",
    "# DATA_STORE = DATA / 'data.h5'\n",
    "DATA_READ = DATA / 'data.h5'"
   ]
  },
  {
   "cell_type": "markdown",
   "metadata": {},
   "source": [
    "##### Load Data"
   ]
  },
  {
   "cell_type": "code",
   "execution_count": 11,
   "metadata": {},
   "outputs": [],
   "source": [
    "with pd.HDFStore(DATA_READ) as store:\n",
    "    data = (store['model_data']\n",
    "            .dropna()\n",
    "            .drop(['open', 'close', 'low', 'high'], axis=1))"
   ]
  },
  {
   "cell_type": "code",
   "execution_count": 14,
   "metadata": {},
   "outputs": [],
   "source": [
    "data.index.names = ['symbol', 'date']\n",
    "\n",
    "data = data.drop([c for c in data.columns if 'lag' in c], axis=1)"
   ]
  },
  {
   "cell_type": "markdown",
   "metadata": {},
   "source": [
    "##### Select Investment Universe"
   ]
  },
  {
   "cell_type": "code",
   "execution_count": 16,
   "metadata": {},
   "outputs": [],
   "source": [
    "data = data[data.dollar_vol_rank < 100]"
   ]
  },
  {
   "cell_type": "code",
   "execution_count": 17,
   "metadata": {},
   "outputs": [
    {
     "name": "stdout",
     "output_type": "stream",
     "text": [
      "<class 'pandas.core.frame.DataFrame'>\n",
      "MultiIndex: 102252 entries, ('A', Timestamp('2013-10-15 00:00:00')) to ('ZTS', Timestamp('2017-11-29 00:00:00'))\n",
      "Data columns (total 45 columns):\n",
      " #   Column                  Non-Null Count   Dtype  \n",
      "---  ------                  --------------   -----  \n",
      " 0   volume                  102252 non-null  float64\n",
      " 1   dollar_vol              102252 non-null  float64\n",
      " 2   dollar_vol_1m           102252 non-null  float64\n",
      " 3   dollar_vol_rank         102252 non-null  float64\n",
      " 4   rsi                     102252 non-null  float64\n",
      " 5   bb_high                 102252 non-null  float64\n",
      " 6   bb_low                  102252 non-null  float64\n",
      " 7   atr                     102252 non-null  float64\n",
      " 8   macd                    102252 non-null  float64\n",
      " 9   return_1d               102252 non-null  float64\n",
      " 10  return_5d               102252 non-null  float64\n",
      " 11  return_10d              102252 non-null  float64\n",
      " 12  return_21d              102252 non-null  float64\n",
      " 13  return_42d              102252 non-null  float64\n",
      " 14  return_63d              102252 non-null  float64\n",
      " 15  target_1d               102252 non-null  float64\n",
      " 16  target_5d               102252 non-null  float64\n",
      " 17  target_10d              102252 non-null  float64\n",
      " 18  target_21d              102252 non-null  float64\n",
      " 19  year_2014               102252 non-null  uint8  \n",
      " 20  year_2015               102252 non-null  uint8  \n",
      " 21  year_2016               102252 non-null  uint8  \n",
      " 22  year_2017               102252 non-null  uint8  \n",
      " 23  month_2                 102252 non-null  uint8  \n",
      " 24  month_3                 102252 non-null  uint8  \n",
      " 25  month_4                 102252 non-null  uint8  \n",
      " 26  month_5                 102252 non-null  uint8  \n",
      " 27  month_6                 102252 non-null  uint8  \n",
      " 28  month_7                 102252 non-null  uint8  \n",
      " 29  month_8                 102252 non-null  uint8  \n",
      " 30  month_9                 102252 non-null  uint8  \n",
      " 31  month_10                102252 non-null  uint8  \n",
      " 32  month_11                102252 non-null  uint8  \n",
      " 33  month_12                102252 non-null  uint8  \n",
      " 34  consumer_discretionary  102252 non-null  uint8  \n",
      " 35  consumer_staples        102252 non-null  uint8  \n",
      " 36  energy                  102252 non-null  uint8  \n",
      " 37  finance                 102252 non-null  uint8  \n",
      " 38  health_care             102252 non-null  uint8  \n",
      " 39  industrials             102252 non-null  uint8  \n",
      " 40  miscellaneous           102252 non-null  uint8  \n",
      " 41  real_estate             102252 non-null  uint8  \n",
      " 42  technology              102252 non-null  uint8  \n",
      " 43  telecommunications      102252 non-null  uint8  \n",
      " 44  utilities               102252 non-null  uint8  \n",
      "dtypes: float64(19), uint8(26)\n",
      "memory usage: 18.5+ MB\n"
     ]
    }
   ],
   "source": [
    "data.info(null_counts=True)"
   ]
  },
  {
   "cell_type": "markdown",
   "metadata": {},
   "source": [
    "##### Create Model Data"
   ]
  },
  {
   "cell_type": "code",
   "execution_count": 19,
   "metadata": {},
   "outputs": [],
   "source": [
    "y = data.filter(like='target')\n",
    "X = data.drop(y.columns, axis=1)\n",
    "X = X.drop(['dollar_vol', 'dollar_vol_rank', \\\n",
    "            'volume'], axis=1)"
   ]
  },
  {
   "cell_type": "markdown",
   "metadata": {},
   "source": [
    "##### Custom MultipleTimeSeriesCV"
   ]
  },
  {
   "cell_type": "code",
   "execution_count": null,
   "metadata": {},
   "outputs": [],
   "source": []
  }
 ],
 "metadata": {
  "kernelspec": {
   "display_name": "base",
   "language": "python",
   "name": "python3"
  },
  "language_info": {
   "codemirror_mode": {
    "name": "ipython",
    "version": 3
   },
   "file_extension": ".py",
   "mimetype": "text/x-python",
   "name": "python",
   "nbconvert_exporter": "python",
   "pygments_lexer": "ipython3",
   "version": "3.11.3"
  },
  "orig_nbformat": 4
 },
 "nbformat": 4,
 "nbformat_minor": 2
}
