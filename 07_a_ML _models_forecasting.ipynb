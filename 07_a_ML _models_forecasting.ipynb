{
 "cells": [
  {
   "cell_type": "markdown",
   "metadata": {},
   "source": [
    "##### Import"
   ]
  },
  {
   "cell_type": "code",
   "execution_count": 1,
   "metadata": {},
   "outputs": [
    {
     "name": "stderr",
     "output_type": "stream",
     "text": [
      "Using `tqdm.autonotebook.tqdm` in notebook mode. Use `tqdm.tqdm` instead to force console mode (e.g. in jupyter console)\n"
     ]
    }
   ],
   "source": [
    "import warnings\n",
    "import papermill as pm\n",
    "import scrapbook as sb\n",
    "import pandas as pd\n",
    "import numpy as np\n",
    "from scipy.stats import spearmanr\n",
    "from tqdm import tqdm\n",
    "import shap\n",
    "from pathlib import Path\n",
    "import matplotlib.pyplot as plt\n",
    "import seaborn as sns\n",
    "from sklearn.metrics import mean_squared_error\n",
    "from sklearn.preprocessing import StandardScaler\n",
    "# from sklearn.linear_model import LinearRegression, Ridge, Lasso\n",
    "# from sklearn.pipeline import Pipeline\n",
    "import os\n",
    "import gc\n",
    "import sys\n",
    "\n",
    "# Filter out warning messages\n",
    "warnings.filterwarnings('ignore')\n",
    "\n",
    "# Set pandas display options\n",
    "pd.set_option('display.max_columns', 1000)\n",
    "pd.set_option('display.max_rows', 1000)\n",
    "\n",
    "# Set seaborn style\n",
    "sns.set_style('whitegrid')\n",
    "\n",
    "# Add the parent directory to sys.path\n",
    "sys.path.insert(1, os.path.join(sys.path[0], '..'))\n",
    "\n",
    "# Index and deciles for data slicing\n",
    "idx = pd.IndexSlice"
   ]
  },
  {
   "cell_type": "code",
   "execution_count": 2,
   "metadata": {
    "tags": [
     "parameters"
    ]
   },
   "outputs": [],
   "source": [
    "from utils import rank_and_quantize\n",
    "\n",
    "top = 250 # parameters -> papermill\n",
    "\n",
    "DATA_STORE = Path(f'data/{top}_dataset.h5')\n",
    "dataset_key = '/data/YEAR_20220906_20230811'\n",
    "# dataset_key = None\n",
    "\n",
    "with pd.HDFStore(DATA_STORE) as store:\n",
    "    dataset = store[dataset_key]\n",
    "    # dataset = store['/data/YEAR_20161115_20181022']\n",
    "    dataset = rank_and_quantize(dataset, TARGET_col='TARGET_ret_fwd_frac_order')"
   ]
  },
  {
   "cell_type": "code",
   "execution_count": 3,
   "metadata": {},
   "outputs": [
    {
     "name": "stdout",
     "output_type": "stream",
     "text": [
      "<class 'pandas.core.frame.DataFrame'>\n",
      "MultiIndex: 59607 entries, ('AA', Timestamp('2022-09-06 00:00:00')) to ('ZTS', Timestamp('2023-08-11 00:00:00'))\n",
      "Columns: 600 entries, FEATURE_open to TARGET_ret_fwd_frac_order_quantiled\n",
      "dtypes: float32(360), float64(32), int32(198), int64(1), int8(9)\n",
      "memory usage: 142.6+ MB\n"
     ]
    }
   ],
   "source": [
    "dataset.info()"
   ]
  },
  {
   "cell_type": "code",
   "execution_count": 4,
   "metadata": {
    "tags": [
     "parameters"
    ]
   },
   "outputs": [
    {
     "name": "stdout",
     "output_type": "stream",
     "text": [
      "586\n",
      "TARGET_ret_fwd_frac_order_quantiled\n"
     ]
    }
   ],
   "source": [
    "# Assuming your DataFrame is named df\n",
    "cols = dataset.columns.tolist()\n",
    "\n",
    "# Populate the features list with column names starting with 'feature_'\n",
    "features = [col for col in cols if col.startswith('FEATURE_')]\n",
    "\n",
    "# Find the first column starting with 'target_' and set it as the label\n",
    "label_cols = [col for col in cols if col.startswith('TARGET_')]\n",
    "# print(label_cols)\n",
    "# label = label_cols[0] if label_cols else None\n",
    "label = 'TARGET_ret_fwd_frac_order_quantiled' # parameters\n",
    "print(len(features))  # This will show all the columns starting with 'feature_'\n",
    "print(label)  # This will show the first column starting with 'target_'"
   ]
  },
  {
   "cell_type": "code",
   "execution_count": 5,
   "metadata": {},
   "outputs": [],
   "source": [
    "# Get unique dates and sort them\n",
    "unique_dates = dataset.index.get_level_values('date').unique().sort_values()\n",
    "\n",
    "# Adjust for the look-ahead gap\n",
    "look_ahead = 1\n",
    "\n",
    "# Split dates for training and testing with a gap\n",
    "train_dates = unique_dates[:-21-look_ahead]\n",
    "test_dates = unique_dates[-21:]\n",
    "\n",
    "# Split the dataset\n",
    "train_data = dataset.loc[pd.IndexSlice[:, train_dates], :]\n",
    "test_data = dataset.loc[pd.IndexSlice[:, test_dates], :]"
   ]
  },
  {
   "cell_type": "code",
   "execution_count": 6,
   "metadata": {},
   "outputs": [],
   "source": [
    "def get_fi(model):\n",
    "    fi = model.feature_importance(importance_type='gain')\n",
    "    return (pd.Series(fi / fi.sum(),\n",
    "                index=model.feature_name()))\n",
    "                \n",
    "def ic_lgbm(preds, train_data):\n",
    "    \"\"\"Custom IC eval metric for lightgbm\"\"\"\n",
    "    is_higher_better = True\n",
    "    return 'ic', spearmanr(preds, train_data.get_label())[0], \\\n",
    "        is_higher_better\n",
    "\n",
    "def sharpe_ratio_lgbm(preds, train_data):\n",
    "    \"\"\"Custom Sharpe ratio eval metric for lightgbm that calculates daily Spearman correlations.\"\"\"\n",
    "    labels = train_data.get_label()\n",
    "    \n",
    "    # Assuming the data index is a MultiIndex with date as the first level\n",
    "    if not isinstance(train_data.data.index, pd.MultiIndex):\n",
    "        raise ValueError(\"Expecting a MultiIndex with date as the first level\")\n",
    "\n",
    "    # Group by the first level of the MultiIndex (date) and compute the Spearman correlation for each group\n",
    "    grouped_labels = pd.Series(labels, \\\n",
    "        index=train_data.data.index).groupby(level=0)\n",
    "    # print(len(grouped_labels))\n",
    "    grouped_preds = pd.Series(preds, \\\n",
    "        index=train_data.data.index).groupby(level=0)\n",
    "    # print(len(grouped_preds))\n",
    "\n",
    "    daily_scores = []\n",
    "    for (_, actuals_for_day), (_, preds_for_day) in zip(grouped_labels, grouped_preds):\n",
    "        score_for_day = spearmanr(actuals_for_day, preds_for_day)[0]\n",
    "        if np.isnan(score_for_day):\n",
    "            score_for_day = 0\n",
    "        daily_scores.append(score_for_day)\n",
    "\n",
    "    # Calculate the Sharpe ratio\n",
    "    sharpe_ratio = np.mean(daily_scores) / (np.std(daily_scores) + 1e-9)  # added epsilon to avoid division by zero\n",
    "\n",
    "    return 'sharpe_ratio', sharpe_ratio, True"
   ]
  },
  {
   "cell_type": "code",
   "execution_count": 7,
   "metadata": {},
   "outputs": [],
   "source": [
    "def metrics_on_fold(era_scores):\n",
    "    era_scores = pd.Series(era_scores)\n",
    "    \n",
    "    # Calculate metrics\n",
    "    mean_correlation = np.mean(era_scores)\n",
    "    std_deviation = np.std(era_scores)\n",
    "    sharpe_ratio = mean_correlation / std_deviation\n",
    "    max_dd = (era_scores.cummax() - era_scores).max()\n",
    "\n",
    "    # Smart Sharpe\n",
    "    smart_sharpe = mean_correlation / (std_deviation + np.std(era_scores.diff()))\n",
    "    \n",
    "    # Autocorrelation\n",
    "    autocorrelation = era_scores.autocorr()\n",
    "\n",
    "    metrics = pd.Series({\n",
    "        'mean_correlation': mean_correlation,\n",
    "        'std_deviation': std_deviation,\n",
    "        'sharpe_ratio': sharpe_ratio,\n",
    "        'smart_sharpe': smart_sharpe,\n",
    "        'autocorrelation': autocorrelation,\n",
    "        'max_dd': max_dd,\n",
    "        'min_correlation': era_scores.min(),\n",
    "        'max_correlation': era_scores.max(),\n",
    "    })\n",
    "\n",
    "    # Cleanup\n",
    "    _ = gc.collect()\n",
    "    \n",
    "    return metrics"
   ]
  },
  {
   "cell_type": "code",
   "execution_count": 8,
   "metadata": {},
   "outputs": [
    {
     "name": "stdout",
     "output_type": "stream",
     "text": [
      "<class 'pandas.core.frame.DataFrame'>\n",
      "MultiIndex: 54019 entries, ('AA', Timestamp('2022-09-06 00:00:00')) to ('ZTS', Timestamp('2023-07-12 00:00:00'))\n",
      "Columns: 600 entries, FEATURE_open to TARGET_ret_fwd_frac_order_quantiled\n",
      "dtypes: float32(360), float64(32), int32(198), int64(1), int8(9)\n",
      "memory usage: 129.3+ MB\n"
     ]
    }
   ],
   "source": [
    "train_data.info()"
   ]
  },
  {
   "cell_type": "code",
   "execution_count": 9,
   "metadata": {},
   "outputs": [],
   "source": [
    "import numpy as np\n",
    "import pandas as pd\n",
    "import lightgbm as lgb\n",
    "import optuna\n",
    "import mlflow\n",
    "import mlflow.lightgbm\n",
    "from optuna.integration import LightGBMPruningCallback\n",
    "from scipy.stats import spearmanr\n",
    "from utils import CustomBackwardMultipleTimeSeriesCV\n",
    "import warnings\n",
    "\n",
    "warnings.filterwarnings('ignore')\n",
    "\n",
    "evals_result = {}\n",
    "\n",
    "def get_categoricals(dataset, threshold):\n",
    "    return [col for col in dataset.columns if \\\n",
    "            dataset[col].nunique() < threshold and \\\n",
    "            dataset[col].ge(0).all() and col.startswith(\"FEATURE_\")]\n",
    "\n",
    "def objective(trial, data, features, cv):\n",
    "    # Dynamic categoricals based on the trial's suggested threshold\n",
    "    cat_threshold = trial.suggest_int('cat_threshold', 5, 50)\n",
    "    categoricals = [col for col in data.columns if data[col].nunique() < cat_threshold \n",
    "                    and data[col].ge(0).all() and col.startswith(\"FEATURE_\")]\n",
    "\n",
    "    params = {\n",
    "        'boosting': 'gbdt',\n",
    "        'objective': 'regression',\n",
    "        'verbose': -1,\n",
    "        'metric': 'None',\n",
    "        'device': 'gpu',\n",
    "        'num_leaves': trial.suggest_int('num_leaves', 30, 150),\n",
    "        'learning_rate': trial.suggest_float('learning_rate', 0.001, 0.1, log=True),\n",
    "        'feature_fraction': trial.suggest_float('feature_fraction', 0.4, 1.0),\n",
    "        'bagging_fraction': trial.suggest_float('bagging_fraction', 0.4, 1.0),\n",
    "        'bagging_freq': trial.suggest_int('bagging_freq', 1, 7),\n",
    "        'min_child_samples': trial.suggest_int('min_child_samples', 5, 100),\n",
    "        'lambda_l1': trial.suggest_loguniform('lambda_l1', 1e-8, 10.0),\n",
    "        'lambda_l2': trial.suggest_loguniform('lambda_l2', 1e-8, 10.0),\n",
    "    }\n",
    "\n",
    "    early_stopping = lgb.early_stopping(stopping_rounds=500, \\\n",
    "        verbose=True, first_metric_only=True)\n",
    "    all_daily_scores = []\n",
    "\n",
    "    for train_idx, val_idx in cv:\n",
    "        train_features = data.loc[train_idx, features]\n",
    "        train_labels = data.loc[train_idx, label]\n",
    "        lgb_train = lgb.Dataset(data=train_features, label=train_labels, \n",
    "                                categorical_feature=categoricals, free_raw_data=False)\n",
    "\n",
    "        val_features = data.loc[val_idx, features]\n",
    "        val_labels = data.loc[val_idx, label]\n",
    "        lgb_val = lgb.Dataset(data=val_features, label=val_labels, \n",
    "                              categorical_feature=categoricals, free_raw_data=False)\n",
    "\n",
    "        model = lgb.train(params=params,\n",
    "                          train_set=lgb_train,\n",
    "                          num_boost_round=5000,\n",
    "                          valid_sets=[lgb_train, lgb_val],\n",
    "                          valid_names=['train', 'valid_0'],\n",
    "                          feval=sharpe_ratio_lgbm,\n",
    "                          callbacks=[lgb.record_evaluation(evals_result),\n",
    "                                     early_stopping,\n",
    "                                     LightGBMPruningCallback(trial, 'sharpe_ratio')])\n",
    "        \n",
    "        all_daily_scores.extend(evals_result['valid_0']['sharpe_ratio'])\n",
    "\n",
    "    metrics = metrics_on_fold(all_daily_scores)\n",
    "    score = metrics['smart_sharpe']\n",
    "\n",
    "    # Log parameters and metrics to MLflow\n",
    "    with mlflow.start_run():\n",
    "        mlflow.log_params(params)\n",
    "        mlflow.log_metrics(metrics)\n",
    "        mlflow.log_metric(\"avg_sharpe_ratio\", np.mean(score))\n",
    "        # mlflow.lightgbm.log_model(model, \"lightgbm_model\")\n",
    "\n",
    "\n",
    "    return score if not np.isnan(score) else 1e-9"
   ]
  },
  {
   "cell_type": "code",
   "execution_count": 10,
   "metadata": {
    "tags": [
     "parameters"
    ]
   },
   "outputs": [
    {
     "name": "stderr",
     "output_type": "stream",
     "text": [
      "[I 2023-09-27 14:54:39,074] A new study created in RDB with name: lgbm_optimization\n"
     ]
    },
    {
     "name": "stdout",
     "output_type": "stream",
     "text": [
      "Training until validation scores don't improve for 500 rounds\n",
      "Early stopping, best iteration is:\n",
      "[6]\ttrain's sharpe_ratio: 1.38984\tvalid_0's sharpe_ratio: 0.129171\n",
      "Evaluated only: sharpe_ratio\n",
      "Training until validation scores don't improve for 500 rounds\n",
      "Early stopping, best iteration is:\n",
      "[7]\ttrain's sharpe_ratio: 1.43337\tvalid_0's sharpe_ratio: 0.185166\n",
      "Evaluated only: sharpe_ratio\n",
      "Training until validation scores don't improve for 500 rounds\n",
      "Early stopping, best iteration is:\n",
      "[87]\ttrain's sharpe_ratio: 2.31194\tvalid_0's sharpe_ratio: 0.154704\n",
      "Evaluated only: sharpe_ratio\n"
     ]
    },
    {
     "name": "stderr",
     "output_type": "stream",
     "text": [
      "[I 2023-09-27 14:57:15,044] Trial 0 finished with value: 1.112326484240215 and parameters: {'cat_threshold': 42, 'num_leaves': 117, 'learning_rate': 0.011601837618214494, 'feature_fraction': 0.794811389453397, 'bagging_fraction': 0.43515193060787927, 'bagging_freq': 6, 'min_child_samples': 71, 'lambda_l1': 0.001146116226549494, 'lambda_l2': 0.09246184737067795}. Best is trial 0 with value: 1.112326484240215.\n"
     ]
    },
    {
     "name": "stdout",
     "output_type": "stream",
     "text": [
      "Trial 1/15 finished with value:         1.112326484240215 and parameters: {'cat_threshold': 42, 'num_leaves': 117, 'learning_rate': 0.011601837618214494, 'feature_fraction': 0.794811389453397, 'bagging_fraction': 0.43515193060787927, 'bagging_freq': 6, 'min_child_samples': 71, 'lambda_l1': 0.001146116226549494, 'lambda_l2': 0.09246184737067795}. Best is trial 0             with value: 1.112326484240215.\n"
     ]
    },
    {
     "name": "stderr",
     "output_type": "stream",
     "text": [
      "[I 2023-09-27 14:57:15,582] Trial 1 finished with value: 1e-09 and parameters: {'cat_threshold': 40, 'num_leaves': 32, 'learning_rate': 0.017449364230767785, 'feature_fraction': 0.8889563805645091, 'bagging_fraction': 0.9163637549307545, 'bagging_freq': 7, 'min_child_samples': 19, 'lambda_l1': 0.10294978581345816, 'lambda_l2': 2.566189370226134e-08}. Best is trial 0 with value: 1.112326484240215.\n"
     ]
    },
    {
     "name": "stdout",
     "output_type": "stream",
     "text": [
      "Trial 2/15 finished with value:         1e-09 and parameters: {'cat_threshold': 40, 'num_leaves': 32, 'learning_rate': 0.017449364230767785, 'feature_fraction': 0.8889563805645091, 'bagging_fraction': 0.9163637549307545, 'bagging_freq': 7, 'min_child_samples': 19, 'lambda_l1': 0.10294978581345816, 'lambda_l2': 2.566189370226134e-08}. Best is trial 0             with value: 1.112326484240215.\n"
     ]
    },
    {
     "name": "stderr",
     "output_type": "stream",
     "text": [
      "[I 2023-09-27 14:57:16,132] Trial 2 finished with value: 1e-09 and parameters: {'cat_threshold': 6, 'num_leaves': 113, 'learning_rate': 0.015087876318747539, 'feature_fraction': 0.48050675963567335, 'bagging_fraction': 0.6392878355489717, 'bagging_freq': 2, 'min_child_samples': 35, 'lambda_l1': 0.00021456564601291038, 'lambda_l2': 0.014608949949262142}. Best is trial 0 with value: 1.112326484240215.\n"
     ]
    },
    {
     "name": "stdout",
     "output_type": "stream",
     "text": [
      "Trial 3/15 finished with value:         1e-09 and parameters: {'cat_threshold': 6, 'num_leaves': 113, 'learning_rate': 0.015087876318747539, 'feature_fraction': 0.48050675963567335, 'bagging_fraction': 0.6392878355489717, 'bagging_freq': 2, 'min_child_samples': 35, 'lambda_l1': 0.00021456564601291038, 'lambda_l2': 0.014608949949262142}. Best is trial 0             with value: 1.112326484240215.\n"
     ]
    },
    {
     "name": "stderr",
     "output_type": "stream",
     "text": [
      "[I 2023-09-27 14:57:16,717] Trial 3 finished with value: 1e-09 and parameters: {'cat_threshold': 19, 'num_leaves': 57, 'learning_rate': 0.05178782402768964, 'feature_fraction': 0.6141405976415555, 'bagging_fraction': 0.6506644345137864, 'bagging_freq': 4, 'min_child_samples': 40, 'lambda_l1': 1.987738208143565, 'lambda_l2': 0.6359955212494647}. Best is trial 0 with value: 1.112326484240215.\n"
     ]
    },
    {
     "name": "stdout",
     "output_type": "stream",
     "text": [
      "Trial 4/15 finished with value:         1e-09 and parameters: {'cat_threshold': 19, 'num_leaves': 57, 'learning_rate': 0.05178782402768964, 'feature_fraction': 0.6141405976415555, 'bagging_fraction': 0.6506644345137864, 'bagging_freq': 4, 'min_child_samples': 40, 'lambda_l1': 1.987738208143565, 'lambda_l2': 0.6359955212494647}. Best is trial 0             with value: 1.112326484240215.\n"
     ]
    },
    {
     "name": "stderr",
     "output_type": "stream",
     "text": [
      "[I 2023-09-27 14:57:17,291] Trial 4 finished with value: 1e-09 and parameters: {'cat_threshold': 20, 'num_leaves': 36, 'learning_rate': 0.0026350644267553944, 'feature_fraction': 0.6776546960602838, 'bagging_fraction': 0.6533476856901743, 'bagging_freq': 4, 'min_child_samples': 27, 'lambda_l1': 0.0034111620260814045, 'lambda_l2': 4.953312950493693e-05}. Best is trial 0 with value: 1.112326484240215.\n"
     ]
    },
    {
     "name": "stdout",
     "output_type": "stream",
     "text": [
      "Trial 5/15 finished with value:         1e-09 and parameters: {'cat_threshold': 20, 'num_leaves': 36, 'learning_rate': 0.0026350644267553944, 'feature_fraction': 0.6776546960602838, 'bagging_fraction': 0.6533476856901743, 'bagging_freq': 4, 'min_child_samples': 27, 'lambda_l1': 0.0034111620260814045, 'lambda_l2': 4.953312950493693e-05}. Best is trial 0             with value: 1.112326484240215.\n"
     ]
    },
    {
     "name": "stderr",
     "output_type": "stream",
     "text": [
      "[I 2023-09-27 14:57:17,847] Trial 5 finished with value: 1e-09 and parameters: {'cat_threshold': 41, 'num_leaves': 94, 'learning_rate': 0.0012797519223814546, 'feature_fraction': 0.7061047022683897, 'bagging_fraction': 0.4273994813004329, 'bagging_freq': 5, 'min_child_samples': 100, 'lambda_l1': 3.1700824459737604, 'lambda_l2': 0.00015334486389150374}. Best is trial 0 with value: 1.112326484240215.\n"
     ]
    },
    {
     "name": "stdout",
     "output_type": "stream",
     "text": [
      "Trial 6/15 finished with value:         1e-09 and parameters: {'cat_threshold': 41, 'num_leaves': 94, 'learning_rate': 0.0012797519223814546, 'feature_fraction': 0.7061047022683897, 'bagging_fraction': 0.4273994813004329, 'bagging_freq': 5, 'min_child_samples': 100, 'lambda_l1': 3.1700824459737604, 'lambda_l2': 0.00015334486389150374}. Best is trial 0             with value: 1.112326484240215.\n"
     ]
    },
    {
     "name": "stderr",
     "output_type": "stream",
     "text": [
      "[I 2023-09-27 14:57:18,396] Trial 6 finished with value: 1e-09 and parameters: {'cat_threshold': 12, 'num_leaves': 35, 'learning_rate': 0.0076019780399367055, 'feature_fraction': 0.5386296675252227, 'bagging_fraction': 0.47283056155660397, 'bagging_freq': 1, 'min_child_samples': 53, 'lambda_l1': 0.000676800043455085, 'lambda_l2': 1.435920070880093}. Best is trial 0 with value: 1.112326484240215.\n"
     ]
    },
    {
     "name": "stdout",
     "output_type": "stream",
     "text": [
      "Trial 7/15 finished with value:         1e-09 and parameters: {'cat_threshold': 12, 'num_leaves': 35, 'learning_rate': 0.0076019780399367055, 'feature_fraction': 0.5386296675252227, 'bagging_fraction': 0.47283056155660397, 'bagging_freq': 1, 'min_child_samples': 53, 'lambda_l1': 0.000676800043455085, 'lambda_l2': 1.435920070880093}. Best is trial 0             with value: 1.112326484240215.\n"
     ]
    },
    {
     "name": "stderr",
     "output_type": "stream",
     "text": [
      "[I 2023-09-27 14:57:18,963] Trial 7 finished with value: 1e-09 and parameters: {'cat_threshold': 22, 'num_leaves': 125, 'learning_rate': 0.012008768503559841, 'feature_fraction': 0.8858459763749604, 'bagging_fraction': 0.952894378702605, 'bagging_freq': 5, 'min_child_samples': 67, 'lambda_l1': 0.19189548423197064, 'lambda_l2': 2.3952800579789746e-07}. Best is trial 0 with value: 1.112326484240215.\n"
     ]
    },
    {
     "name": "stdout",
     "output_type": "stream",
     "text": [
      "Trial 8/15 finished with value:         1e-09 and parameters: {'cat_threshold': 22, 'num_leaves': 125, 'learning_rate': 0.012008768503559841, 'feature_fraction': 0.8858459763749604, 'bagging_fraction': 0.952894378702605, 'bagging_freq': 5, 'min_child_samples': 67, 'lambda_l1': 0.19189548423197064, 'lambda_l2': 2.3952800579789746e-07}. Best is trial 0             with value: 1.112326484240215.\n"
     ]
    },
    {
     "name": "stderr",
     "output_type": "stream",
     "text": [
      "[I 2023-09-27 14:57:19,513] Trial 8 finished with value: 1e-09 and parameters: {'cat_threshold': 17, 'num_leaves': 88, 'learning_rate': 0.013860053389229627, 'feature_fraction': 0.525605072022108, 'bagging_fraction': 0.8907664447360388, 'bagging_freq': 4, 'min_child_samples': 9, 'lambda_l1': 1.141326391094302, 'lambda_l2': 0.07131360106785442}. Best is trial 0 with value: 1.112326484240215.\n"
     ]
    },
    {
     "name": "stdout",
     "output_type": "stream",
     "text": [
      "Trial 9/15 finished with value:         1e-09 and parameters: {'cat_threshold': 17, 'num_leaves': 88, 'learning_rate': 0.013860053389229627, 'feature_fraction': 0.525605072022108, 'bagging_fraction': 0.8907664447360388, 'bagging_freq': 4, 'min_child_samples': 9, 'lambda_l1': 1.141326391094302, 'lambda_l2': 0.07131360106785442}. Best is trial 0             with value: 1.112326484240215.\n"
     ]
    },
    {
     "name": "stderr",
     "output_type": "stream",
     "text": [
      "[I 2023-09-27 14:57:20,080] Trial 9 finished with value: 1e-09 and parameters: {'cat_threshold': 14, 'num_leaves': 47, 'learning_rate': 0.03355655124949303, 'feature_fraction': 0.8947877487919285, 'bagging_fraction': 0.6792709955324308, 'bagging_freq': 5, 'min_child_samples': 77, 'lambda_l1': 0.0001397035467430649, 'lambda_l2': 1.1733186242202624e-07}. Best is trial 0 with value: 1.112326484240215.\n"
     ]
    },
    {
     "name": "stdout",
     "output_type": "stream",
     "text": [
      "Trial 10/15 finished with value:         1e-09 and parameters: {'cat_threshold': 14, 'num_leaves': 47, 'learning_rate': 0.03355655124949303, 'feature_fraction': 0.8947877487919285, 'bagging_fraction': 0.6792709955324308, 'bagging_freq': 5, 'min_child_samples': 77, 'lambda_l1': 0.0001397035467430649, 'lambda_l2': 1.1733186242202624e-07}. Best is trial 0             with value: 1.112326484240215.\n"
     ]
    },
    {
     "name": "stderr",
     "output_type": "stream",
     "text": [
      "[I 2023-09-27 14:57:20,647] Trial 10 finished with value: 1e-09 and parameters: {'cat_threshold': 48, 'num_leaves': 146, 'learning_rate': 0.08870539086866312, 'feature_fraction': 0.9933098210254458, 'bagging_fraction': 0.5192026681118007, 'bagging_freq': 7, 'min_child_samples': 98, 'lambda_l1': 1.6416159939413661e-06, 'lambda_l2': 7.598441067277349}. Best is trial 0 with value: 1.112326484240215.\n"
     ]
    },
    {
     "name": "stdout",
     "output_type": "stream",
     "text": [
      "Trial 11/15 finished with value:         1e-09 and parameters: {'cat_threshold': 48, 'num_leaves': 146, 'learning_rate': 0.08870539086866312, 'feature_fraction': 0.9933098210254458, 'bagging_fraction': 0.5192026681118007, 'bagging_freq': 7, 'min_child_samples': 98, 'lambda_l1': 1.6416159939413661e-06, 'lambda_l2': 7.598441067277349}. Best is trial 0             with value: 1.112326484240215.\n"
     ]
    },
    {
     "name": "stderr",
     "output_type": "stream",
     "text": [
      "[I 2023-09-27 14:57:21,234] Trial 11 finished with value: 1e-09 and parameters: {'cat_threshold': 35, 'num_leaves': 78, 'learning_rate': 0.005786654189736129, 'feature_fraction': 0.8015035067903686, 'bagging_fraction': 0.8492480928616767, 'bagging_freq': 7, 'min_child_samples': 7, 'lambda_l1': 0.02837472496478418, 'lambda_l2': 2.737067159766585e-08}. Best is trial 0 with value: 1.112326484240215.\n"
     ]
    },
    {
     "name": "stdout",
     "output_type": "stream",
     "text": [
      "Trial 12/15 finished with value:         1e-09 and parameters: {'cat_threshold': 35, 'num_leaves': 78, 'learning_rate': 0.005786654189736129, 'feature_fraction': 0.8015035067903686, 'bagging_fraction': 0.8492480928616767, 'bagging_freq': 7, 'min_child_samples': 7, 'lambda_l1': 0.02837472496478418, 'lambda_l2': 2.737067159766585e-08}. Best is trial 0             with value: 1.112326484240215.\n"
     ]
    },
    {
     "name": "stderr",
     "output_type": "stream",
     "text": [
      "[I 2023-09-27 14:57:21,802] Trial 12 finished with value: 1e-09 and parameters: {'cat_threshold': 33, 'num_leaves': 114, 'learning_rate': 0.024390729127871123, 'feature_fraction': 0.7765361937987246, 'bagging_fraction': 0.767668027405674, 'bagging_freq': 7, 'min_child_samples': 74, 'lambda_l1': 0.019847576105561853, 'lambda_l2': 6.6495834851580715e-06}. Best is trial 0 with value: 1.112326484240215.\n"
     ]
    },
    {
     "name": "stdout",
     "output_type": "stream",
     "text": [
      "Trial 13/15 finished with value:         1e-09 and parameters: {'cat_threshold': 33, 'num_leaves': 114, 'learning_rate': 0.024390729127871123, 'feature_fraction': 0.7765361937987246, 'bagging_fraction': 0.767668027405674, 'bagging_freq': 7, 'min_child_samples': 74, 'lambda_l1': 0.019847576105561853, 'lambda_l2': 6.6495834851580715e-06}. Best is trial 0             with value: 1.112326484240215.\n"
     ]
    },
    {
     "name": "stderr",
     "output_type": "stream",
     "text": [
      "[I 2023-09-27 14:57:22,366] Trial 13 finished with value: 1e-09 and parameters: {'cat_threshold': 49, 'num_leaves': 63, 'learning_rate': 0.005092227511317214, 'feature_fraction': 0.4013967500017565, 'bagging_fraction': 0.5710418589265563, 'bagging_freq': 6, 'min_child_samples': 57, 'lambda_l1': 2.332004775677558e-08, 'lambda_l2': 0.005002689626346325}. Best is trial 0 with value: 1.112326484240215.\n"
     ]
    },
    {
     "name": "stdout",
     "output_type": "stream",
     "text": [
      "Trial 14/15 finished with value:         1e-09 and parameters: {'cat_threshold': 49, 'num_leaves': 63, 'learning_rate': 0.005092227511317214, 'feature_fraction': 0.4013967500017565, 'bagging_fraction': 0.5710418589265563, 'bagging_freq': 6, 'min_child_samples': 57, 'lambda_l1': 2.332004775677558e-08, 'lambda_l2': 0.005002689626346325}. Best is trial 0             with value: 1.112326484240215.\n"
     ]
    },
    {
     "name": "stderr",
     "output_type": "stream",
     "text": [
      "[I 2023-09-27 14:57:22,938] Trial 14 finished with value: 1e-09 and parameters: {'cat_threshold': 41, 'num_leaves': 146, 'learning_rate': 0.022923300641265836, 'feature_fraction': 0.8290801576661282, 'bagging_fraction': 0.7482547122867393, 'bagging_freq': 6, 'min_child_samples': 22, 'lambda_l1': 0.15340465300654493, 'lambda_l2': 2.800758254894711e-06}. Best is trial 0 with value: 1.112326484240215.\n"
     ]
    },
    {
     "name": "stdout",
     "output_type": "stream",
     "text": [
      "Trial 15/15 finished with value:         1e-09 and parameters: {'cat_threshold': 41, 'num_leaves': 146, 'learning_rate': 0.022923300641265836, 'feature_fraction': 0.8290801576661282, 'bagging_fraction': 0.7482547122867393, 'bagging_freq': 6, 'min_child_samples': 22, 'lambda_l1': 0.15340465300654493, 'lambda_l2': 2.800758254894711e-06}. Best is trial 0             with value: 1.112326484240215.\n",
      "Best trial score: 1.112326484240215\n",
      "Best hyperparameters:\n",
      "cat_threshold: 42\n",
      "num_leaves: 117\n",
      "learning_rate: 0.011601837618214494\n",
      "feature_fraction: 0.794811389453397\n",
      "bagging_fraction: 0.43515193060787927\n",
      "bagging_freq: 6\n",
      "min_child_samples: 71\n",
      "lambda_l1: 0.001146116226549494\n",
      "lambda_l2: 0.09246184737067795\n",
      "Best parameters found by Optuna:\n",
      "{'cat_threshold': 42, 'num_leaves': 117, 'learning_rate': 0.011601837618214494, 'feature_fraction': 0.794811389453397, 'bagging_fraction': 0.43515193060787927, 'bagging_freq': 6, 'min_child_samples': 71, 'lambda_l1': 0.001146116226549494, 'lambda_l2': 0.09246184737067795}\n",
      "Database has been deleted.\n"
     ]
    }
   ],
   "source": [
    "import os\n",
    "import optuna\n",
    "\n",
    "cv = CustomBackwardMultipleTimeSeriesCV(train_data, train_period_length=21*3, \n",
    "                                        test_period_length=5, \n",
    "                                        lookahead=1, \n",
    "                                        date_idx='date')\n",
    "\n",
    "def progress_bar(study, trial, n_trials):\n",
    "    progress = (trial.number + 1) / n_trials\n",
    "    best_trial_msg = \"\"\n",
    "    if study.best_trial is not None:\n",
    "        best_trial_msg = f\"Best is trial {study.best_trial.number} \\\n",
    "            with value: {study.best_trial.value}.\"\n",
    "    print(f'Trial {trial.number + 1}/{n_trials} finished with value: \\\n",
    "        {trial.value} and parameters: {trial.params}. {best_trial_msg}')\n",
    "\n",
    "# Check if 'study' directory exists, if not, create it.\n",
    "if not os.path.exists(\"study\"):\n",
    "    os.makedirs(\"study\")\n",
    "\n",
    "# Use SQLite to store optimization results.\n",
    "# The study results are stored in the \"study\" folder as \"study.db\".\n",
    "storage_name = \"sqlite:///study/study.db\"\n",
    "\n",
    "# Name of the study. This should be consistent for resuming the study later.\n",
    "study_name = \"lgbm_optimization\"\n",
    "\n",
    "# Try to load the study. If it doesn't exist, create a new one.\n",
    "study = optuna.create_study(study_name=study_name,\n",
    "                            storage=storage_name,\n",
    "                            direction='maximize',\n",
    "                            load_if_exists=True, \n",
    "                            pruner=optuna.pruners.MedianPruner(n_startup_trials=10, \\\n",
    "                            n_warmup_steps=5))\n",
    "\n",
    "n_trials = 15\n",
    "study.optimize(lambda trial: objective(trial, train_data, features, cv), \n",
    "               n_trials=n_trials, \n",
    "               callbacks=[lambda study, trial: progress_bar(study, trial, n_trials)])\n",
    "\n",
    "# Printing the optimization results\n",
    "print(f'Best trial score: {study.best_trial.value}')\n",
    "print('Best hyperparameters:')\n",
    "for key, value in study.best_trial.params.items():\n",
    "    print(f'{key}: {value}')\n",
    "\n",
    "best_params = study.best_params\n",
    "print(\"Best parameters found by Optuna:\")\n",
    "print(best_params)\n",
    "\n",
    "# Remove the study database\n",
    "os.remove(\"study/study.db\")\n",
    "print(\"Database has been deleted.\")"
   ]
  },
  {
   "cell_type": "code",
   "execution_count": 11,
   "metadata": {},
   "outputs": [
    {
     "data": {
      "image/png": "[encoded data removed]",
      "text/plain": [
       "<Figure size 1200x400 with 2 Axes>"
      ]
     },
     "metadata": {},
     "output_type": "display_data"
    }
   ],
   "source": [
    "import matplotlib.pyplot as plt\n",
    "\n",
    "# Create DataFrame from results\n",
    "cv_result = pd.DataFrame({'Train Set': evals_result['train']['sharpe_ratio'], \n",
    "                          'Validation Set': evals_result['valid_0']['sharpe_ratio']})\n",
    "\n",
    "# Create the plot with separate y-axes for Train and Validation sets\n",
    "fig, ax1 = plt.subplots(figsize=(12, 4))\n",
    "\n",
    "ax2 = ax1.twinx()  # instantiate a second axes sharing the same x-axis\n",
    "ax1.plot(cv_result.index, cv_result['Train Set'], 'g-')\n",
    "ax2.plot(cv_result.index, cv_result['Validation Set'], 'b-')\n",
    "\n",
    "ax1.set_ylabel('Train Set', color='g')\n",
    "ax2.set_ylabel('Validation Set', color='b')\n",
    "ax1.axvline(cv_result['Validation Set'].idxmax(), c='k', ls='--', lw=1)\n",
    "\n",
    "plt.show()"
   ]
  },
  {
   "cell_type": "code",
   "execution_count": 12,
   "metadata": {},
   "outputs": [
    {
     "name": "stdout",
     "output_type": "stream",
     "text": [
      "[LightGBM] [Info] Total Bins 95665\n",
      "[LightGBM] [Info] Number of data points in the train set: 54019, number of used features: 531\n",
      "[LightGBM] [Info] Start training from score 0.501754\n"
     ]
    }
   ],
   "source": [
    "# # Extract cat_threshold from best_params\n",
    "# cat_threshold = best_params.get('cat_threshold', 50)  # default to 50 if not in best_params\n",
    "\n",
    "# Extract cat_threshold from best_params\n",
    "cat_threshold = best_params.pop('cat_threshold', 50)  # default to 50 if not in best_params\n",
    "\n",
    "\n",
    "# Determine the categorical columns based on cat_threshold\n",
    "categoricals = [col for col in train_data.columns if train_data[col].nunique() < cat_threshold \n",
    "                and train_data[col].ge(0).all() and col.startswith(\"FEATURE_\")]\n",
    "\n",
    "# Create the training dataset\n",
    "lgb_train_all = lgb.Dataset(data=train_data[features], label=train_data[label], \n",
    "                            categorical_feature=categoricals, free_raw_data=False)\n",
    "\n",
    "best_params['force_col_wise'] = True\n",
    "# Train the model with the best parameters\n",
    "# best_model = lgb.train(params=best_params,\n",
    "#                        train_set=lgb_train_all,\n",
    "#                        num_boost_round=5000,  # or some other number of boosting rounds\n",
    "#                        feval=sharpe_ratio_lgbm,\n",
    "#                        callbacks=[lgb.record_evaluation(evals_result)])\n",
    "best_model = lgb.train(params=best_params,\n",
    "                       train_set=lgb_train_all,\n",
    "                       num_boost_round=5000,  # or some other number of boosting rounds\n",
    "                       feval=sharpe_ratio_lgbm,\n",
    "                       callbacks=[lgb.record_evaluation(evals_result)])"
   ]
  },
  {
   "cell_type": "code",
   "execution_count": 13,
   "metadata": {},
   "outputs": [
    {
     "name": "stdout",
     "output_type": "stream",
     "text": [
      "Model saved to models/_data_YEAR_20220906_20230811_best_model.txt\n"
     ]
    }
   ],
   "source": [
    "from pathlib import Path\n",
    "\n",
    "# Define the models folder path\n",
    "models = Path(\"./models\")\n",
    "\n",
    "# Ensure the folder exists\n",
    "models.mkdir(exist_ok=True)\n",
    "\n",
    "# Ensure that dataset_key doesn't contain invalid characters like slashes\n",
    "clean_dataset_key = dataset_key.replace(\"/\", \"_\")\n",
    "\n",
    "# Formulate the clean save path\n",
    "save_path = models / f\"{clean_dataset_key}_best_model.txt\"\n",
    "\n",
    "# Try saving again\n",
    "best_model.save_model(save_path)\n",
    "print(f\"Model saved to {save_path}\")"
   ]
  },
  {
   "cell_type": "markdown",
   "metadata": {},
   "source": [
    "#### Test on unseen data"
   ]
  },
  {
   "cell_type": "code",
   "execution_count": 14,
   "metadata": {},
   "outputs": [],
   "source": [
    "test_features = test_data[features]\n",
    "test_labels = test_data[label]\n",
    "\n",
    "y_pred = best_model.predict(test_features)\n",
    "\n",
    "preds = test_labels.reset_index(name=\\\n",
    "    'actual').assign(predicted=y_pred).set_index(['date', 'ticker'])\n",
    "\n",
    "# Rename columns to add 'feature_' prefix\n",
    "cols_to_rename = ['open', 'high', 'low', 'close', 'volume']\n",
    "new_col_names = [\"FEATURE_\" + col for col in cols_to_rename]\n",
    "rename_dict = dict(zip(cols_to_rename, new_col_names))\n",
    "\n",
    "test_data_renamed = test_data.rename(columns=rename_dict)\n",
    "\n",
    "# Using the 'merge' method to join on MultiIndex levels 'date' and 'ticker'\n",
    "preds = preds.reset_index().merge(test_data_renamed[new_col_names].reset_index(), \n",
    "                                  on=['ticker', 'date'], \n",
    "                                  how='left')\n",
    "\n",
    "### Only select columns of interest\n",
    "preds = preds[['date', 'ticker', 'actual', 'predicted'] \\\n",
    "    + new_col_names].set_index(['ticker', 'date'])\n"
   ]
  },
  {
   "cell_type": "code",
   "execution_count": 15,
   "metadata": {},
   "outputs": [],
   "source": [
    "def daily_spearman(group):\n",
    "    return spearmanr(group['actual'], group['predicted'])[0]\n",
    "\n",
    "daily_correlations = preds.groupby('date').apply(daily_spearman)"
   ]
  },
  {
   "cell_type": "code",
   "execution_count": 16,
   "metadata": {},
   "outputs": [
    {
     "data": {
      "application/scrapbook.scrap.pandas+json": {
       "data": "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",
       "encoder": "pandas",
       "name": "papermill_era_scores",
       "version": 1
      }
     },
     "metadata": {
      "scrapbook": {
       "data": true,
       "display": false,
       "name": "papermill_era_scores"
      }
     },
     "output_type": "display_data"
    },
    {
     "data": {
      "text/html": [
       "<div>\n",
       "<style scoped>\n",
       "    .dataframe tbody tr th:only-of-type {\n",
       "        vertical-align: middle;\n",
       "    }\n",
       "\n",
       "    .dataframe tbody tr th {\n",
       "        vertical-align: top;\n",
       "    }\n",
       "\n",
       "    .dataframe thead th {\n",
       "        text-align: right;\n",
       "    }\n",
       "</style>\n",
       "<table border=\"1\" class=\"dataframe\">\n",
       "  <thead>\n",
       "    <tr style=\"text-align: right;\">\n",
       "      <th></th>\n",
       "      <th>0</th>\n",
       "    </tr>\n",
       "    <tr>\n",
       "      <th>date</th>\n",
       "      <th></th>\n",
       "    </tr>\n",
       "  </thead>\n",
       "  <tbody>\n",
       "    <tr>\n",
       "      <th>2023-07-14</th>\n",
       "      <td>0.454585</td>\n",
       "    </tr>\n",
       "    <tr>\n",
       "      <th>2023-07-17</th>\n",
       "      <td>0.257148</td>\n",
       "    </tr>\n",
       "    <tr>\n",
       "      <th>2023-07-18</th>\n",
       "      <td>0.796495</td>\n",
       "    </tr>\n",
       "    <tr>\n",
       "      <th>2023-07-19</th>\n",
       "      <td>-1.608293</td>\n",
       "    </tr>\n",
       "    <tr>\n",
       "      <th>2023-07-20</th>\n",
       "      <td>0.588957</td>\n",
       "    </tr>\n",
       "    <tr>\n",
       "      <th>2023-07-21</th>\n",
       "      <td>0.206217</td>\n",
       "    </tr>\n",
       "    <tr>\n",
       "      <th>2023-07-24</th>\n",
       "      <td>-0.016613</td>\n",
       "    </tr>\n",
       "    <tr>\n",
       "      <th>2023-07-25</th>\n",
       "      <td>-0.250991</td>\n",
       "    </tr>\n",
       "    <tr>\n",
       "      <th>2023-07-26</th>\n",
       "      <td>-1.291273</td>\n",
       "    </tr>\n",
       "    <tr>\n",
       "      <th>2023-07-27</th>\n",
       "      <td>0.268955</td>\n",
       "    </tr>\n",
       "    <tr>\n",
       "      <th>2023-07-28</th>\n",
       "      <td>0.174192</td>\n",
       "    </tr>\n",
       "    <tr>\n",
       "      <th>2023-07-31</th>\n",
       "      <td>0.730844</td>\n",
       "    </tr>\n",
       "    <tr>\n",
       "      <th>2023-08-01</th>\n",
       "      <td>-0.501546</td>\n",
       "    </tr>\n",
       "    <tr>\n",
       "      <th>2023-08-02</th>\n",
       "      <td>-3.012229</td>\n",
       "    </tr>\n",
       "    <tr>\n",
       "      <th>2023-08-03</th>\n",
       "      <td>-0.989031</td>\n",
       "    </tr>\n",
       "    <tr>\n",
       "      <th>2023-08-04</th>\n",
       "      <td>1.130369</td>\n",
       "    </tr>\n",
       "    <tr>\n",
       "      <th>2023-08-07</th>\n",
       "      <td>0.211649</td>\n",
       "    </tr>\n",
       "    <tr>\n",
       "      <th>2023-08-08</th>\n",
       "      <td>0.870138</td>\n",
       "    </tr>\n",
       "    <tr>\n",
       "      <th>2023-08-09</th>\n",
       "      <td>0.813079</td>\n",
       "    </tr>\n",
       "    <tr>\n",
       "      <th>2023-08-10</th>\n",
       "      <td>0.474182</td>\n",
       "    </tr>\n",
       "    <tr>\n",
       "      <th>2023-08-11</th>\n",
       "      <td>0.693167</td>\n",
       "    </tr>\n",
       "  </tbody>\n",
       "</table>\n",
       "</div>"
      ],
      "text/plain": [
       "                   0\n",
       "date                \n",
       "2023-07-14  0.454585\n",
       "2023-07-17  0.257148\n",
       "2023-07-18  0.796495\n",
       "2023-07-19 -1.608293\n",
       "2023-07-20  0.588957\n",
       "2023-07-21  0.206217\n",
       "2023-07-24 -0.016613\n",
       "2023-07-25 -0.250991\n",
       "2023-07-26 -1.291273\n",
       "2023-07-27  0.268955\n",
       "2023-07-28  0.174192\n",
       "2023-07-31  0.730844\n",
       "2023-08-01 -0.501546\n",
       "2023-08-02 -3.012229\n",
       "2023-08-03 -0.989031\n",
       "2023-08-04  1.130369\n",
       "2023-08-07  0.211649\n",
       "2023-08-08  0.870138\n",
       "2023-08-09  0.813079\n",
       "2023-08-10  0.474182\n",
       "2023-08-11  0.693167"
      ]
     },
     "metadata": {
      "scrapbook": {
       "data": false,
       "display": true,
       "name": "papermill_era_scores"
      }
     },
     "output_type": "display_data"
    }
   ],
   "source": [
    "# Calculate the mean and standard deviation of daily correlations\n",
    "mean_daily_correlation = daily_correlations.mean()\n",
    "std_daily_correlation = daily_correlations.std()\n",
    "\n",
    "# Calculate Sharpe ratio for each date\n",
    "papermill_era_scores = daily_sharpe_ratios = (daily_correlations - \\\n",
    "    mean_daily_correlation) / std_daily_correlation\n",
    "\n",
    "papermill_era_scores_df = papermill_era_scores.to_frame()\n",
    "papermill_era_scores_df.columns = papermill_era_scores_df.columns.astype(str)\n",
    "sb.glue(\"papermill_era_scores\", papermill_era_scores_df, display=True)\n",
    "\n",
    "# papermill_era_scores_list = papermill_era_scores.tolist()\n",
    "# sb.glue(\"papermill_era_scores\", papermill_era_scores_list)\n"
   ]
  },
  {
   "cell_type": "code",
   "execution_count": 17,
   "metadata": {},
   "outputs": [
    {
     "data": {
      "image/png": "[encoded data removed]",
      "text/plain": [
       "<Figure size 1200x600 with 1 Axes>"
      ]
     },
     "metadata": {},
     "output_type": "display_data"
    }
   ],
   "source": [
    "import matplotlib.pyplot as plt\n",
    "\n",
    "# Create a list of colors based on the sign of the Sharpe Ratios\n",
    "colors = ['blue' if value > 0 else 'red' for value in daily_sharpe_ratios]\n",
    "\n",
    "plt.figure(figsize=(12,6))\n",
    "daily_sharpe_ratios.plot(kind='bar', color=colors)\n",
    "plt.title('Daily Sharpe Ratios')\n",
    "plt.xlabel('Date')\n",
    "plt.ylabel('Sharpe Ratio')\n",
    "plt.grid(axis='y')\n",
    "plt.tight_layout()\n",
    "plt.axhline(y=0, color='black', linestyle='-')  # Here's where we add the horizontal line at y=0\n",
    "plt.xticks(rotation=45)  # rotates the x-axis labels for better visibility\n",
    "plt.show()"
   ]
  },
  {
   "cell_type": "code",
   "execution_count": 18,
   "metadata": {},
   "outputs": [
    {
     "data": {
      "application/scrapbook.scrap.text+json": {
       "data": "plots/sharpe_ratios_lambda_l2.png",
       "encoder": "text",
       "name": "papermill_plot_path",
       "version": 1
      }
     },
     "metadata": {
      "scrapbook": {
       "data": true,
       "display": false,
       "name": "papermill_plot_path"
      }
     },
     "output_type": "display_data"
    },
    {
     "data": {
      "text/plain": [
       "'plots/sharpe_ratios_lambda_l2.png'"
      ]
     },
     "metadata": {
      "scrapbook": {
       "data": false,
       "display": true,
       "name": "papermill_plot_path"
      }
     },
     "output_type": "display_data"
    }
   ],
   "source": [
    "plot_dir = Path(\"plots\")\n",
    "plot_dir.mkdir(exist_ok=True)\n",
    "plot_path = plot_dir / f\"sharpe_ratios_{key}.png\"\n",
    "plt.savefig(plot_path)\n",
    "plt.close()\n",
    "\n",
    "papermill_plot_path_str = str(plot_path)  # Convert to string\n",
    "sb.glue(\"papermill_plot_path\", papermill_plot_path_str, display=True)  # Glue the string"
   ]
  },
  {
   "cell_type": "code",
   "execution_count": 19,
   "metadata": {},
   "outputs": [
    {
     "name": "stdout",
     "output_type": "stream",
     "text": [
      "Information Coefficient (overall): 96.113% (p-value: 0.00000000%)\n"
     ]
    },
    {
     "data": {
      "application/scrapbook.scrap.json+json": {
       "data": 0.9611308464296562,
       "encoder": "json",
       "name": "information_coefficient",
       "version": 1
      }
     },
     "metadata": {
      "scrapbook": {
       "data": true,
       "display": false,
       "name": "information_coefficient"
      }
     },
     "output_type": "display_data"
    },
    {
     "data": {
      "text/plain": [
       "0.9611308464296562"
      ]
     },
     "metadata": {
      "scrapbook": {
       "data": false,
       "display": true,
       "name": "information_coefficient"
      }
     },
     "output_type": "display_data"
    },
    {
     "data": {
      "application/scrapbook.scrap.json+json": {
       "data": 0,
       "encoder": "json",
       "name": "p_value",
       "version": 1
      }
     },
     "metadata": {
      "scrapbook": {
       "data": true,
       "display": false,
       "name": "p_value"
      }
     },
     "output_type": "display_data"
    },
    {
     "data": {
      "text/plain": [
       "0.0"
      ]
     },
     "metadata": {
      "scrapbook": {
       "data": false,
       "display": true,
       "name": "p_value"
      }
     },
     "output_type": "display_data"
    }
   ],
   "source": [
    "lr_r, lr_p = spearmanr(preds.actual, preds.predicted)\n",
    "print(f'Information Coefficient (overall): {lr_r:.3%} (p-value: {lr_p:.8%})')\n",
    "\n",
    "# Return the Information Coefficient and its p-value\n",
    "information_coefficient = lr_r\n",
    "p_value = lr_p\n",
    "\n",
    "# information_coefficient = papermill_information_coefficient, p_value = papermill_p_value\n",
    "sb.glue(\"information_coefficient\", information_coefficient, display=True)\n",
    "sb.glue(\"p_value\", p_value, display=True)"
   ]
  },
  {
   "cell_type": "code",
   "execution_count": 20,
   "metadata": {},
   "outputs": [],
   "source": [
    "# papermill_plot_path_str = str(plot_path)  # Convert to string\n",
    "# sb.glue(\"papermill_plot_path\", papermill_plot_path_str)  # Glue the string\n",
    "\n",
    "# sb.glue(\"information_coefficient\", information_coefficient)\n",
    "# sb.glue(\"p_value\", p_value)"
   ]
  },
  {
   "cell_type": "code",
   "execution_count": null,
   "metadata": {},
   "outputs": [],
   "source": []
  }
 ],
 "metadata": {
  "kernelspec": {
   "display_name": "base",
   "language": "python",
   "name": "python3"
  },
  "language_info": {
   "codemirror_mode": {
    "name": "ipython",
    "version": 3
   },
   "file_extension": ".py",
   "mimetype": "text/x-python",
   "name": "python",
   "nbconvert_exporter": "python",
   "pygments_lexer": "ipython3",
   "version": "3.11.3"
  },
  "orig_nbformat": 4
 },
 "nbformat": 4,
 "nbformat_minor": 2
}
