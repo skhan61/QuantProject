{
 "cells": [
  {
   "cell_type": "markdown",
   "metadata": {},
   "source": [
    "##### 101 Formulaic Alphas\n",
    "- Based on [101 Formulaic Alphas](https://arxiv.org/pdf/1601.00991.pdf), Zura Kakushadze, arxiv, 2015"
   ]
  },
  {
   "cell_type": "markdown",
   "metadata": {},
   "source": [
    "##### Imports & Settings"
   ]
  },
  {
   "cell_type": "code",
   "execution_count": null,
   "metadata": {},
   "outputs": [],
   "source": [
    "import warnings\n",
    "import pandas as pd\n",
    "warnings.filterwarnings('ignore')\n",
    "\n",
    "pd.set_option('display.max_columns', 1000)\n",
    "pd.set_option('display.max_rows', 1000)"
   ]
  },
  {
   "cell_type": "code",
   "execution_count": null,
   "metadata": {},
   "outputs": [],
   "source": [
    "%matplotlib inline\n",
    "\n",
    "import numpy as np\n",
    "import pandas as pd\n",
    "from sklearn.feature_selection \\\n",
    "        import mutual_info_regression\n",
    "        \n",
    "from scipy.stats import spearmanr\n",
    "import matplotlib.pyplot as plt\n",
    "import seaborn as sns\n",
    "from pathlib import Path"
   ]
  },
  {
   "cell_type": "code",
   "execution_count": null,
   "metadata": {},
   "outputs": [],
   "source": [
    "idx= pd.IndexSlice\n",
    "sns.set_style('whitegrid')"
   ]
  },
  {
   "cell_type": "markdown",
   "metadata": {},
   "source": [
    "##### Loading Data"
   ]
  },
  {
   "cell_type": "code",
   "execution_count": null,
   "metadata": {},
   "outputs": [],
   "source": [
    "DATA_STORE = Path('/home/sayem/Desktop/Project/data/assets.h5')"
   ]
  },
  {
   "cell_type": "code",
   "execution_count": null,
   "metadata": {},
   "outputs": [],
   "source": [
    "ohlcv = ['open', 'high', 'low', 'close', 'volume']\n",
    "\n",
    "with pd.HDFStore(DATA_STORE) as store:\n",
    "    data = (store['data/top500_dataset']\n",
    "            .loc[:, ohlcv + ['ret_01d', 'sector', 'ret_fwd_01d']]\n",
    "            .rename(columns={'ret_01d': 'returns'})\n",
    "            .sort_index())"
   ]
  },
  {
   "cell_type": "code",
   "execution_count": null,
   "metadata": {},
   "outputs": [],
   "source": [
    "# data_ohlcv = data[['open', 'high', 'low', 'close', 'volume']].copy()\n",
    "# T = data['ret_fwd_01d'].std()\n",
    "# data['primary_target'] = (data['ret_fwd_01d'].abs() > T).astype(int)\n",
    "\n",
    "# data['secondary_target'] = np.where(data['primary_target'] == 1, \n",
    "#                                     np.where(data['ret_fwd_01d'] > 0, 1, -1),\n",
    "#                                     np.nan)"
   ]
  },
  {
   "cell_type": "code",
   "execution_count": null,
   "metadata": {},
   "outputs": [],
   "source": [
    "import pandas as pd\n",
    "import numpy as np\n",
    "import matplotlib.pyplot as plt\n",
    "\n",
    "def compute_targets(data):\n",
    "    # Primary model's target\n",
    "    threshold = 0.01  # Threshold for returns; for demonstration purposes\n",
    "    data['primary_target'] = np.where(data['ret_fwd_01d'].abs() > threshold, 1, 0)\n",
    "\n",
    "    # Secondary model's target\n",
    "    data['secondary_target'] = np.where(data['ret_fwd_01d'] > 0, 1, -1)\n",
    "    data['secondary_target'] = data['secondary_target'] * data['primary_target']\n",
    "\n",
    "    return data\n",
    "\n",
    "def plot_targets(data, ticker, start_date, end_date):\n",
    "    # Filter data for the given ticker and time frame\n",
    "    data_filtered = compute_targets(data.loc[ticker].loc[start_date:end_date])\n",
    "\n",
    "    # Set up the plot\n",
    "    plt.figure(figsize=(15, 6))\n",
    "\n",
    "    # Plotting primary target\n",
    "    plt.step(data_filtered.index, data_filtered['primary_target'], \\\n",
    "        label='Primary Target', where='mid')\n",
    "    \n",
    "    # Overlaying secondary target\n",
    "    plt.step(data_filtered.index, data_filtered['secondary_target'], \\\n",
    "        color='red', label='Secondary Target', where='mid', linestyle='--')\n",
    "\n",
    "    plt.title(f'Targets for {ticker} ({start_date} to {end_date})')\n",
    "    plt.xlabel('Date')\n",
    "    plt.yticks([-1, 0, 1], ['Short', 'No Bet', 'Long'])\n",
    "    plt.legend()\n",
    "    \n",
    "    # Show the plots\n",
    "    plt.tight_layout()\n",
    "    plt.show()\n",
    "\n",
    "# To use the function:\n",
    "plot_targets(data, 'AA', '2013-01-01', '2013-12-01')\n"
   ]
  },
  {
   "cell_type": "code",
   "execution_count": null,
   "metadata": {},
   "outputs": [],
   "source": [
    "adv20 = data.groupby('ticker').rolling(20).volume.mean().reset_index(0, drop=True)\n",
    "data = data.assign(adv20=adv20)\n",
    "data = data.join(data.groupby('date')[ohlcv].rank(axis=1, pct=True), rsuffix='_rank')\n",
    "data.info(null_counts=True)"
   ]
  },
  {
   "cell_type": "code",
   "execution_count": null,
   "metadata": {},
   "outputs": [],
   "source": [
    "data = data[~data.index.duplicated(keep='first')]\n",
    "o = data.open.unstack('ticker')\n",
    "h = data.high.unstack('ticker')\n",
    "l = data.low.unstack('ticker')\n",
    "c = data.close.unstack('ticker')\n",
    "v = data.volume.unstack('ticker')\n",
    "vwap = o.add(h).add(l).add(c).div(4)\n",
    "adv20 = v.rolling(20).mean()\n",
    "r = data.returns.unstack('ticker')\n",
    "\n",
    "datasets = {\n",
    "    'o': o,\n",
    "    'h': h,\n",
    "    'l': l,\n",
    "    'c': c,\n",
    "    'v': v,\n",
    "    'r': r,\n",
    "    'adv20': adv20,\n",
    "    'vwap': vwap  \n",
    "}"
   ]
  },
  {
   "cell_type": "code",
   "execution_count": null,
   "metadata": {},
   "outputs": [],
   "source": [
    "import inspect\n",
    "\n",
    "def apply_alpha_function(alpha_number, datasets):\n",
    "    \"\"\"\n",
    "    Apply the given alpha function (by number) to the datasets.\n",
    "\n",
    "    Args:\n",
    "    - alpha_number (int): The number of the alpha function to apply (e.g., 1, 2, 3...)\n",
    "    - datasets (dict): A dictionary containing the available datasets.\n",
    "\n",
    "    Returns:\n",
    "    - The result of the alpha function applied to the datasets.\n",
    "    \"\"\"\n",
    "    # Get the alpha function based on the number\n",
    "    alpha_func_name = f'alpha{alpha_number:03}'\n",
    "    if alpha_func_name not in globals():\n",
    "        raise ValueError(f\"No function named {alpha_func_name} found!\")\n",
    "    alpha_func = globals()[alpha_func_name]  # Fetch directly from globals dictionary\n",
    "\n",
    "    # Get the list of arguments that the function expects\n",
    "    expected_args = inspect.signature(alpha_func).parameters.keys()\n",
    "\n",
    "    # Filter the datasets to only include the expected arguments\n",
    "    filtered_datasets = {k: v for k, v in datasets.items() if k in expected_args}\n",
    "\n",
    "    # Apply the function using ** to unpack the dictionary into function arguments\n",
    "    return alpha_func(**filtered_datasets)\n"
   ]
  },
  {
   "cell_type": "code",
   "execution_count": null,
   "metadata": {},
   "outputs": [],
   "source": [
    "### Serial code\n",
    "\n",
    "# from formulaic_alphas import *  # Make sure this import is present\n",
    "\n",
    "# # Define your datasets\n",
    "# # [Your dataset definitions here...]\n",
    "\n",
    "# alphas = data[['returns', 'ret_fwd_01d']].copy()\n",
    "\n",
    "# success_count = 0  # Counter to keep track of successfully applied alphas\n",
    "\n",
    "# # Loop through and apply the alpha functions from 1 to 101\n",
    "# for alpha in range(1, 102):  # Goes from 1 to 101 inclusive\n",
    "#     try:\n",
    "#         result = apply_alpha_function(alpha, datasets)\n",
    "#         alphas[f'alpha_{alpha:03}'] = result\n",
    "#         success_count += 1  # Increment the counter\n",
    "#         print(f\"Alpha {alpha:03} applied successfully and stored in 'alphas' DataFrame!\")\n",
    "#     except Exception as e:\n",
    "#         print(f\"Error applying Alpha {alpha:03}: {str(e)}\")\n",
    "\n",
    "# # Print the summary\n",
    "# print(f\"{success_count} out of 101 alphas have been added to the 'alphas' DataFrame.\")"
   ]
  },
  {
   "cell_type": "code",
   "execution_count": null,
   "metadata": {},
   "outputs": [],
   "source": [
    "# from utils import  optimize_dataframe\n",
    "\n",
    "# alphas_serial = optimize_dataframe(alphas.copy())\n",
    "\n",
    "\n",
    "# # First, use forward fill\n",
    "# alphas_serial.ffill(inplace=True)\n",
    "\n",
    "# # Then, use backward fill for any remaining NaNs\n",
    "# alphas_serial.bfill(inplace=True)\n",
    "\n",
    "\n",
    "# # Drop rows where any value is NaN\n",
    "# alphas_serial = alphas_serial.dropna(how='any')"
   ]
  },
  {
   "cell_type": "code",
   "execution_count": null,
   "metadata": {},
   "outputs": [],
   "source": [
    "# del data "
   ]
  },
  {
   "cell_type": "code",
   "execution_count": null,
   "metadata": {},
   "outputs": [],
   "source": [
    "import concurrent.futures\n",
    "import os  \n",
    "from formulaic_alphas import *\n",
    "\n",
    "# [Your dataset definitions here...]\n",
    "\n",
    "alphas_p = data[['returns', 'ret_fwd_01d']].copy()\n",
    "\n",
    "def apply_alpha_and_store(alpha):\n",
    "    try:\n",
    "        result = apply_alpha_function(alpha, datasets)\n",
    "        return alpha, result, None  # None indicates no error\n",
    "    except Exception as e:\n",
    "        return alpha, None, str(e)  # Return the error message\n",
    "\n",
    "success_count = 0\n",
    "\n",
    "# Number of processes to use for parallelization\n",
    "num_processes = min(15, os.cpu_count())  # Adjust this as needed\n",
    "\n",
    "with concurrent.futures.ProcessPoolExecutor(max_workers=num_processes) as executor:\n",
    "    # Use the executor to map the function over the alphas\n",
    "    for alpha, result, error in executor.map(apply_alpha_and_store, range(1, 102)):\n",
    "        if error is None:\n",
    "            alphas_p[f'alpha_{alpha:03}'] = result\n",
    "            success_count += 1\n",
    "            print(f\"Alpha {alpha:03} applied successfully and stored in 'alphas_p' DataFrame!\")\n",
    "        else:\n",
    "            print(f\"Error applying Alpha {alpha:03}: {error}\")\n",
    "\n",
    "# Print the summary\n",
    "print(f\"{success_count} out of 101 alphas have been added to the 'alphas_p' DataFrame.\")"
   ]
  },
  {
   "cell_type": "code",
   "execution_count": null,
   "metadata": {},
   "outputs": [],
   "source": [
    "import pandas as pd\n",
    "import gc\n",
    "from utils import optimize_dataframe\n",
    "\n",
    "df_optimized = optimize_dataframe(alphas_p.copy())"
   ]
  },
  {
   "cell_type": "code",
   "execution_count": null,
   "metadata": {},
   "outputs": [],
   "source": [
    "with pd.HDFStore(DATA_STORE) as store:\n",
    "    store.put('factors/apha_101', alphas_p)"
   ]
  }
 ],
 "metadata": {
  "kernelspec": {
   "display_name": "base",
   "language": "python",
   "name": "python3"
  },
  "language_info": {
   "codemirror_mode": {
    "name": "ipython",
    "version": 3
   },
   "file_extension": ".py",
   "mimetype": "text/x-python",
   "name": "python",
   "nbconvert_exporter": "python",
   "pygments_lexer": "ipython3",
   "version": "3.11.3"
  },
  "orig_nbformat": 4
 },
 "nbformat": 4,
 "nbformat_minor": 2
}
